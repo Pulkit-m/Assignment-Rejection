{
  "nbformat": 4,
  "nbformat_minor": 0,
  "metadata": {
    "colab": {
      "name": "Swiggy_Case_Study_EDA.ipynb",
      "provenance": []
    },
    "kernelspec": {
      "name": "python3",
      "display_name": "Python 3"
    },
    "language_info": {
      "name": "python"
    }
  },
  "cells": [
    {
      "cell_type": "markdown",
      "source": [
        "#Importing Libraries and Dataset"
      ],
      "metadata": {
        "id": "5aoTTNIG3nzr"
      }
    },
    {
      "cell_type": "code",
      "source": [
        "!pip install category-encoders\n",
        "!pip install -U scikit-learn"
      ],
      "metadata": {
        "colab": {
          "base_uri": "https://localhost:8080/"
        },
        "id": "Zon7uYQ8O6XF",
        "outputId": "3a8fc1ad-abef-4eda-baa7-dc2364f7e0cf"
      },
      "execution_count": 1,
      "outputs": [
        {
          "output_type": "stream",
          "name": "stdout",
          "text": [
            "Requirement already satisfied: category-encoders in /usr/local/lib/python3.7/dist-packages (2.3.0)\n",
            "Requirement already satisfied: patsy>=0.5.1 in /usr/local/lib/python3.7/dist-packages (from category-encoders) (0.5.2)\n",
            "Requirement already satisfied: pandas>=0.21.1 in /usr/local/lib/python3.7/dist-packages (from category-encoders) (1.1.5)\n",
            "Requirement already satisfied: statsmodels>=0.9.0 in /usr/local/lib/python3.7/dist-packages (from category-encoders) (0.10.2)\n",
            "Requirement already satisfied: scipy>=1.0.0 in /usr/local/lib/python3.7/dist-packages (from category-encoders) (1.4.1)\n",
            "Requirement already satisfied: numpy>=1.14.0 in /usr/local/lib/python3.7/dist-packages (from category-encoders) (1.19.5)\n",
            "Requirement already satisfied: scikit-learn>=0.20.0 in /usr/local/lib/python3.7/dist-packages (from category-encoders) (1.0.2)\n",
            "Requirement already satisfied: pytz>=2017.2 in /usr/local/lib/python3.7/dist-packages (from pandas>=0.21.1->category-encoders) (2018.9)\n",
            "Requirement already satisfied: python-dateutil>=2.7.3 in /usr/local/lib/python3.7/dist-packages (from pandas>=0.21.1->category-encoders) (2.8.2)\n",
            "Requirement already satisfied: six in /usr/local/lib/python3.7/dist-packages (from patsy>=0.5.1->category-encoders) (1.15.0)\n",
            "Requirement already satisfied: threadpoolctl>=2.0.0 in /usr/local/lib/python3.7/dist-packages (from scikit-learn>=0.20.0->category-encoders) (3.0.0)\n",
            "Requirement already satisfied: joblib>=0.11 in /usr/local/lib/python3.7/dist-packages (from scikit-learn>=0.20.0->category-encoders) (1.1.0)\n",
            "Requirement already satisfied: scikit-learn in /usr/local/lib/python3.7/dist-packages (1.0.2)\n",
            "Requirement already satisfied: numpy>=1.14.6 in /usr/local/lib/python3.7/dist-packages (from scikit-learn) (1.19.5)\n",
            "Requirement already satisfied: threadpoolctl>=2.0.0 in /usr/local/lib/python3.7/dist-packages (from scikit-learn) (3.0.0)\n",
            "Requirement already satisfied: scipy>=1.1.0 in /usr/local/lib/python3.7/dist-packages (from scikit-learn) (1.4.1)\n",
            "Requirement already satisfied: joblib>=0.11 in /usr/local/lib/python3.7/dist-packages (from scikit-learn) (1.1.0)\n"
          ]
        }
      ]
    },
    {
      "cell_type": "code",
      "source": [
        "import os\n",
        "import sklearn\n",
        "import datetime \n",
        "import numpy as np\n",
        "import pandas as pd\n",
        "import seaborn as sns\n",
        "import matplotlib.pyplot as plt\n",
        "import category_encoders as ce\n",
        "from sklearn.preprocessing import RobustScaler\n",
        "from sklearn.datasets import make_blobs\n",
        "from sklearn.model_selection import train_test_split\n",
        "from sklearn.svm import SVC\n",
        "from sklearn import svm\n",
        "from sklearn.metrics import accuracy_score\n",
        "from sklearn.metrics import f1_score\n",
        "# from sklearn.metrics import log_loss\n",
        "%matplotlib inline"
      ],
      "metadata": {
        "id": "R_Pwo32Dtt34",
        "colab": {
          "base_uri": "https://localhost:8080/"
        },
        "outputId": "012821c2-6418-4103-9e08-525810f0f648"
      },
      "execution_count": 2,
      "outputs": [
        {
          "output_type": "stream",
          "name": "stderr",
          "text": [
            "/usr/local/lib/python3.7/dist-packages/statsmodels/tools/_testing.py:19: FutureWarning: pandas.util.testing is deprecated. Use the functions in the public API at pandas.testing instead.\n",
            "  import pandas.util.testing as tm\n"
          ]
        }
      ]
    },
    {
      "cell_type": "code",
      "execution_count": 5,
      "metadata": {
        "id": "qdVpYg9FsZh_",
        "colab": {
          "base_uri": "https://localhost:8080/"
        },
        "outputId": "4e8f8299-6bc6-4741-c63a-f39505746568"
      },
      "outputs": [
        {
          "output_type": "stream",
          "name": "stdout",
          "text": [
            "Drive already mounted at /content/drive/; to attempt to forcibly remount, call drive.mount(\"/content/drive/\", force_remount=True).\n"
          ]
        }
      ],
      "source": [
        "from google.colab import drive\n",
        "drive.mount('/content/drive/')\n",
        "working_dir = os.chdir('/content/drive/MyDrive/swiggy_case_study_dataset')"
      ]
    },
    {
      "cell_type": "code",
      "source": [
        "assignments_stock = pd.read_csv('Assignment_Data.csv')\n",
        "de_stock = pd.read_csv('Delivery_Partners_Data.csv')\n",
        "print(assignments_stock.head())\n",
        "de_stock.head()"
      ],
      "metadata": {
        "colab": {
          "base_uri": "https://localhost:8080/",
          "height": 345
        },
        "id": "aXkKpPxZtwik",
        "outputId": "c22105f7-4f84-4a7e-8810-5931dabc37df"
      },
      "execution_count": 201,
      "outputs": [
        {
          "output_type": "stream",
          "name": "stdout",
          "text": [
            "   ORDER_ID    DE_ID  ... CUSTOMER_LAT CUSTOMER_LNG\n",
            "0      2745   180976  ...    37.377569    72.832560\n",
            "1      9462   280243  ...    37.380613    72.796909\n",
            "2     14071   339813  ...    37.372032    72.805871\n",
            "3     14442  1315348  ...    37.371380    72.819992\n",
            "4     14515  1186729  ...    37.369925    72.826764\n",
            "\n",
            "[5 rows x 17 columns]\n"
          ]
        },
        {
          "output_type": "execute_result",
          "data": {
            "text/html": [
              "\n",
              "  <div id=\"df-b1c0d9be-8ae1-4185-906c-7bf9fda279d7\">\n",
              "    <div class=\"colab-df-container\">\n",
              "      <div>\n",
              "<style scoped>\n",
              "    .dataframe tbody tr th:only-of-type {\n",
              "        vertical-align: middle;\n",
              "    }\n",
              "\n",
              "    .dataframe tbody tr th {\n",
              "        vertical-align: top;\n",
              "    }\n",
              "\n",
              "    .dataframe thead th {\n",
              "        text-align: right;\n",
              "    }\n",
              "</style>\n",
              "<table border=\"1\" class=\"dataframe\">\n",
              "  <thead>\n",
              "    <tr style=\"text-align: right;\">\n",
              "      <th></th>\n",
              "      <th>DE_ID</th>\n",
              "      <th>SHIFT_END_TIME</th>\n",
              "      <th>DE_HOME_LAT</th>\n",
              "      <th>DE_HOME_LNG</th>\n",
              "      <th>DE_JOINING_DATE</th>\n",
              "      <th>DE_ZONE_ID</th>\n",
              "    </tr>\n",
              "  </thead>\n",
              "  <tbody>\n",
              "    <tr>\n",
              "      <th>0</th>\n",
              "      <td>141533</td>\n",
              "      <td>06:42</td>\n",
              "      <td>37.390427</td>\n",
              "      <td>72.849424</td>\n",
              "      <td>2019-09-20</td>\n",
              "      <td>372</td>\n",
              "    </tr>\n",
              "    <tr>\n",
              "      <th>1</th>\n",
              "      <td>235942</td>\n",
              "      <td>08:42</td>\n",
              "      <td>37.372289</td>\n",
              "      <td>72.885341</td>\n",
              "      <td>2020-03-15</td>\n",
              "      <td>372</td>\n",
              "    </tr>\n",
              "    <tr>\n",
              "      <th>2</th>\n",
              "      <td>973234</td>\n",
              "      <td>06:42</td>\n",
              "      <td>37.410268</td>\n",
              "      <td>72.853610</td>\n",
              "      <td>2018-12-21</td>\n",
              "      <td>375</td>\n",
              "    </tr>\n",
              "    <tr>\n",
              "      <th>3</th>\n",
              "      <td>973473</td>\n",
              "      <td>05:42</td>\n",
              "      <td>37.397067</td>\n",
              "      <td>72.872533</td>\n",
              "      <td>2018-12-21</td>\n",
              "      <td>624</td>\n",
              "    </tr>\n",
              "    <tr>\n",
              "      <th>4</th>\n",
              "      <td>1016546</td>\n",
              "      <td>06:42</td>\n",
              "      <td>37.425545</td>\n",
              "      <td>72.895137</td>\n",
              "      <td>2019-01-11</td>\n",
              "      <td>668</td>\n",
              "    </tr>\n",
              "  </tbody>\n",
              "</table>\n",
              "</div>\n",
              "      <button class=\"colab-df-convert\" onclick=\"convertToInteractive('df-b1c0d9be-8ae1-4185-906c-7bf9fda279d7')\"\n",
              "              title=\"Convert this dataframe to an interactive table.\"\n",
              "              style=\"display:none;\">\n",
              "        \n",
              "  <svg xmlns=\"http://www.w3.org/2000/svg\" height=\"24px\"viewBox=\"0 0 24 24\"\n",
              "       width=\"24px\">\n",
              "    <path d=\"M0 0h24v24H0V0z\" fill=\"none\"/>\n",
              "    <path d=\"M18.56 5.44l.94 2.06.94-2.06 2.06-.94-2.06-.94-.94-2.06-.94 2.06-2.06.94zm-11 1L8.5 8.5l.94-2.06 2.06-.94-2.06-.94L8.5 2.5l-.94 2.06-2.06.94zm10 10l.94 2.06.94-2.06 2.06-.94-2.06-.94-.94-2.06-.94 2.06-2.06.94z\"/><path d=\"M17.41 7.96l-1.37-1.37c-.4-.4-.92-.59-1.43-.59-.52 0-1.04.2-1.43.59L10.3 9.45l-7.72 7.72c-.78.78-.78 2.05 0 2.83L4 21.41c.39.39.9.59 1.41.59.51 0 1.02-.2 1.41-.59l7.78-7.78 2.81-2.81c.8-.78.8-2.07 0-2.86zM5.41 20L4 18.59l7.72-7.72 1.47 1.35L5.41 20z\"/>\n",
              "  </svg>\n",
              "      </button>\n",
              "      \n",
              "  <style>\n",
              "    .colab-df-container {\n",
              "      display:flex;\n",
              "      flex-wrap:wrap;\n",
              "      gap: 12px;\n",
              "    }\n",
              "\n",
              "    .colab-df-convert {\n",
              "      background-color: #E8F0FE;\n",
              "      border: none;\n",
              "      border-radius: 50%;\n",
              "      cursor: pointer;\n",
              "      display: none;\n",
              "      fill: #1967D2;\n",
              "      height: 32px;\n",
              "      padding: 0 0 0 0;\n",
              "      width: 32px;\n",
              "    }\n",
              "\n",
              "    .colab-df-convert:hover {\n",
              "      background-color: #E2EBFA;\n",
              "      box-shadow: 0px 1px 2px rgba(60, 64, 67, 0.3), 0px 1px 3px 1px rgba(60, 64, 67, 0.15);\n",
              "      fill: #174EA6;\n",
              "    }\n",
              "\n",
              "    [theme=dark] .colab-df-convert {\n",
              "      background-color: #3B4455;\n",
              "      fill: #D2E3FC;\n",
              "    }\n",
              "\n",
              "    [theme=dark] .colab-df-convert:hover {\n",
              "      background-color: #434B5C;\n",
              "      box-shadow: 0px 1px 3px 1px rgba(0, 0, 0, 0.15);\n",
              "      filter: drop-shadow(0px 1px 2px rgba(0, 0, 0, 0.3));\n",
              "      fill: #FFFFFF;\n",
              "    }\n",
              "  </style>\n",
              "\n",
              "      <script>\n",
              "        const buttonEl =\n",
              "          document.querySelector('#df-b1c0d9be-8ae1-4185-906c-7bf9fda279d7 button.colab-df-convert');\n",
              "        buttonEl.style.display =\n",
              "          google.colab.kernel.accessAllowed ? 'block' : 'none';\n",
              "\n",
              "        async function convertToInteractive(key) {\n",
              "          const element = document.querySelector('#df-b1c0d9be-8ae1-4185-906c-7bf9fda279d7');\n",
              "          const dataTable =\n",
              "            await google.colab.kernel.invokeFunction('convertToInteractive',\n",
              "                                                     [key], {});\n",
              "          if (!dataTable) return;\n",
              "\n",
              "          const docLinkHtml = 'Like what you see? Visit the ' +\n",
              "            '<a target=\"_blank\" href=https://colab.research.google.com/notebooks/data_table.ipynb>data table notebook</a>'\n",
              "            + ' to learn more about interactive tables.';\n",
              "          element.innerHTML = '';\n",
              "          dataTable['output_type'] = 'display_data';\n",
              "          await google.colab.output.renderOutput(dataTable, element);\n",
              "          const docLink = document.createElement('div');\n",
              "          docLink.innerHTML = docLinkHtml;\n",
              "          element.appendChild(docLink);\n",
              "        }\n",
              "      </script>\n",
              "    </div>\n",
              "  </div>\n",
              "  "
            ],
            "text/plain": [
              "     DE_ID SHIFT_END_TIME  DE_HOME_LAT  DE_HOME_LNG DE_JOINING_DATE  DE_ZONE_ID\n",
              "0   141533          06:42    37.390427    72.849424      2019-09-20         372\n",
              "1   235942          08:42    37.372289    72.885341      2020-03-15         372\n",
              "2   973234          06:42    37.410268    72.853610      2018-12-21         375\n",
              "3   973473          05:42    37.397067    72.872533      2018-12-21         624\n",
              "4  1016546          06:42    37.425545    72.895137      2019-01-11         668"
            ]
          },
          "metadata": {},
          "execution_count": 201
        }
      ]
    },
    {
      "cell_type": "code",
      "source": [
        "print(f'The size of the dataset: {assignments_stock.shape}')\n",
        "print(f'Delivery executives data set size: {de_stock.shape}' )"
      ],
      "metadata": {
        "colab": {
          "base_uri": "https://localhost:8080/"
        },
        "id": "SfoUXJhlt3Y2",
        "outputId": "fec63c58-987f-4b18-bf2d-821d7dd7b867"
      },
      "execution_count": 202,
      "outputs": [
        {
          "output_type": "stream",
          "name": "stdout",
          "text": [
            "The size of the dataset: (132394, 17)\n",
            "Delivery executives data set size: (991, 6)\n"
          ]
        }
      ]
    },
    {
      "cell_type": "code",
      "source": [
        "df_a = assignments_stock\n",
        "df_de = de_stock\n",
        "df_a.dtypes"
      ],
      "metadata": {
        "id": "xyYoE8pg02h_",
        "colab": {
          "base_uri": "https://localhost:8080/"
        },
        "outputId": "45a9e604-a646-44ef-dde1-ec7ebbb8d004"
      },
      "execution_count": 203,
      "outputs": [
        {
          "output_type": "execute_result",
          "data": {
            "text/plain": [
              "ORDER_ID                      int64\n",
              "DE_ID                         int64\n",
              "ASSIGNMENT_START_TIME        object\n",
              "ASSIGNMENT_END_TIME          object\n",
              "reject_ind                    int64\n",
              "reject_type                  object\n",
              "PLACED_TIME                  object\n",
              "DELIVERED_TIME               object\n",
              "LASTMILE_DISTANCE           float64\n",
              "FIRSTMILE_DISTANCE          float64\n",
              "LAST_MILE_TIME_PREDICTED    float64\n",
              "PAYOUT_MADE_TO_DE           float64\n",
              "NUM_PING_COUNT_LAST10MIN      int64\n",
              "LAST_PING_TIME_LAST10MIN     object\n",
              "CUSTOMER_ZONE               float64\n",
              "CUSTOMER_LAT                float64\n",
              "CUSTOMER_LNG                float64\n",
              "dtype: object"
            ]
          },
          "metadata": {},
          "execution_count": 203
        }
      ]
    },
    {
      "cell_type": "markdown",
      "source": [
        "#Checking for Missing Values"
      ],
      "metadata": {
        "id": "XXMA1cJJ38Bd"
      }
    },
    {
      "cell_type": "code",
      "source": [
        "assignments_stock.isnull().sum()"
      ],
      "metadata": {
        "colab": {
          "base_uri": "https://localhost:8080/"
        },
        "id": "M462QDWEzk1n",
        "outputId": "78f3a8a8-2be2-498c-b5f3-ef1654f02518"
      },
      "execution_count": 204,
      "outputs": [
        {
          "output_type": "execute_result",
          "data": {
            "text/plain": [
              "ORDER_ID                         0\n",
              "DE_ID                            0\n",
              "ASSIGNMENT_START_TIME            0\n",
              "ASSIGNMENT_END_TIME              0\n",
              "reject_ind                       0\n",
              "reject_type                 124346\n",
              "PLACED_TIME                      0\n",
              "DELIVERED_TIME                 612\n",
              "LASTMILE_DISTANCE               10\n",
              "FIRSTMILE_DISTANCE             156\n",
              "LAST_MILE_TIME_PREDICTED         0\n",
              "PAYOUT_MADE_TO_DE                3\n",
              "NUM_PING_COUNT_LAST10MIN         0\n",
              "LAST_PING_TIME_LAST10MIN         0\n",
              "CUSTOMER_ZONE                18541\n",
              "CUSTOMER_LAT                     0\n",
              "CUSTOMER_LNG                     0\n",
              "dtype: int64"
            ]
          },
          "metadata": {},
          "execution_count": 204
        }
      ]
    },
    {
      "cell_type": "markdown",
      "source": [
        "reject_type is NULL for the orders that were rejected.<br>"
      ],
      "metadata": {
        "id": "pRIYmHVy4CIv"
      }
    },
    {
      "cell_type": "code",
      "source": [
        "df_a.reject_ind.value_counts()"
      ],
      "metadata": {
        "colab": {
          "base_uri": "https://localhost:8080/"
        },
        "id": "xwpQg_W96hJv",
        "outputId": "b92fa5ee-f372-4376-dcb1-314b38c1def7"
      },
      "execution_count": 205,
      "outputs": [
        {
          "output_type": "execute_result",
          "data": {
            "text/plain": [
              "0    124346\n",
              "1      8048\n",
              "Name: reject_ind, dtype: int64"
            ]
          },
          "metadata": {},
          "execution_count": 205
        }
      ]
    },
    {
      "cell_type": "code",
      "source": [
        "df_a[df_a.PAYOUT_MADE_TO_DE.isnull()]"
      ],
      "metadata": {
        "colab": {
          "base_uri": "https://localhost:8080/",
          "height": 260
        },
        "id": "mGxyHLQn2f9d",
        "outputId": "88c643ce-951b-44d6-c110-2c92ad600d06"
      },
      "execution_count": 206,
      "outputs": [
        {
          "output_type": "execute_result",
          "data": {
            "text/html": [
              "\n",
              "  <div id=\"df-da7157dc-c765-4221-96c2-e0d06a0c5019\">\n",
              "    <div class=\"colab-df-container\">\n",
              "      <div>\n",
              "<style scoped>\n",
              "    .dataframe tbody tr th:only-of-type {\n",
              "        vertical-align: middle;\n",
              "    }\n",
              "\n",
              "    .dataframe tbody tr th {\n",
              "        vertical-align: top;\n",
              "    }\n",
              "\n",
              "    .dataframe thead th {\n",
              "        text-align: right;\n",
              "    }\n",
              "</style>\n",
              "<table border=\"1\" class=\"dataframe\">\n",
              "  <thead>\n",
              "    <tr style=\"text-align: right;\">\n",
              "      <th></th>\n",
              "      <th>ORDER_ID</th>\n",
              "      <th>DE_ID</th>\n",
              "      <th>ASSIGNMENT_START_TIME</th>\n",
              "      <th>ASSIGNMENT_END_TIME</th>\n",
              "      <th>reject_ind</th>\n",
              "      <th>reject_type</th>\n",
              "      <th>PLACED_TIME</th>\n",
              "      <th>DELIVERED_TIME</th>\n",
              "      <th>LASTMILE_DISTANCE</th>\n",
              "      <th>FIRSTMILE_DISTANCE</th>\n",
              "      <th>LAST_MILE_TIME_PREDICTED</th>\n",
              "      <th>PAYOUT_MADE_TO_DE</th>\n",
              "      <th>NUM_PING_COUNT_LAST10MIN</th>\n",
              "      <th>LAST_PING_TIME_LAST10MIN</th>\n",
              "      <th>CUSTOMER_ZONE</th>\n",
              "      <th>CUSTOMER_LAT</th>\n",
              "      <th>CUSTOMER_LNG</th>\n",
              "    </tr>\n",
              "  </thead>\n",
              "  <tbody>\n",
              "    <tr>\n",
              "      <th>2784</th>\n",
              "      <td>59837</td>\n",
              "      <td>882145</td>\n",
              "      <td>2021-02-23 03:08:17.000</td>\n",
              "      <td>2021-02-23 03:29:06.000</td>\n",
              "      <td>0</td>\n",
              "      <td>NaN</td>\n",
              "      <td>2021-02-23 02:56:29.613</td>\n",
              "      <td>2021-02-23 03:34:06.000</td>\n",
              "      <td>NaN</td>\n",
              "      <td>NaN</td>\n",
              "      <td>418.8</td>\n",
              "      <td>NaN</td>\n",
              "      <td>11</td>\n",
              "      <td>2021-02-23 03:08:12.000</td>\n",
              "      <td>373.0</td>\n",
              "      <td>37.379549</td>\n",
              "      <td>72.822610</td>\n",
              "    </tr>\n",
              "    <tr>\n",
              "      <th>65374</th>\n",
              "      <td>83467</td>\n",
              "      <td>21914</td>\n",
              "      <td>2021-02-26 22:57:17.000</td>\n",
              "      <td>2021-02-26 23:17:00.000</td>\n",
              "      <td>0</td>\n",
              "      <td>NaN</td>\n",
              "      <td>2021-02-26 22:45:13.165</td>\n",
              "      <td>2021-02-26 23:22:00.000</td>\n",
              "      <td>NaN</td>\n",
              "      <td>NaN</td>\n",
              "      <td>446.7</td>\n",
              "      <td>NaN</td>\n",
              "      <td>20</td>\n",
              "      <td>2021-02-26 22:56:47.000</td>\n",
              "      <td>NaN</td>\n",
              "      <td>37.356698</td>\n",
              "      <td>72.821878</td>\n",
              "    </tr>\n",
              "    <tr>\n",
              "      <th>82456</th>\n",
              "      <td>124781</td>\n",
              "      <td>735519</td>\n",
              "      <td>2021-03-05 07:33:20.000</td>\n",
              "      <td>2021-03-05 08:25:03.000</td>\n",
              "      <td>0</td>\n",
              "      <td>NaN</td>\n",
              "      <td>2021-03-05 07:31:38.922</td>\n",
              "      <td>2021-03-05 08:30:03.000</td>\n",
              "      <td>NaN</td>\n",
              "      <td>NaN</td>\n",
              "      <td>445.3</td>\n",
              "      <td>NaN</td>\n",
              "      <td>45</td>\n",
              "      <td>2021-03-05 07:33:08.000</td>\n",
              "      <td>372.0</td>\n",
              "      <td>37.382654</td>\n",
              "      <td>72.868775</td>\n",
              "    </tr>\n",
              "  </tbody>\n",
              "</table>\n",
              "</div>\n",
              "      <button class=\"colab-df-convert\" onclick=\"convertToInteractive('df-da7157dc-c765-4221-96c2-e0d06a0c5019')\"\n",
              "              title=\"Convert this dataframe to an interactive table.\"\n",
              "              style=\"display:none;\">\n",
              "        \n",
              "  <svg xmlns=\"http://www.w3.org/2000/svg\" height=\"24px\"viewBox=\"0 0 24 24\"\n",
              "       width=\"24px\">\n",
              "    <path d=\"M0 0h24v24H0V0z\" fill=\"none\"/>\n",
              "    <path d=\"M18.56 5.44l.94 2.06.94-2.06 2.06-.94-2.06-.94-.94-2.06-.94 2.06-2.06.94zm-11 1L8.5 8.5l.94-2.06 2.06-.94-2.06-.94L8.5 2.5l-.94 2.06-2.06.94zm10 10l.94 2.06.94-2.06 2.06-.94-2.06-.94-.94-2.06-.94 2.06-2.06.94z\"/><path d=\"M17.41 7.96l-1.37-1.37c-.4-.4-.92-.59-1.43-.59-.52 0-1.04.2-1.43.59L10.3 9.45l-7.72 7.72c-.78.78-.78 2.05 0 2.83L4 21.41c.39.39.9.59 1.41.59.51 0 1.02-.2 1.41-.59l7.78-7.78 2.81-2.81c.8-.78.8-2.07 0-2.86zM5.41 20L4 18.59l7.72-7.72 1.47 1.35L5.41 20z\"/>\n",
              "  </svg>\n",
              "      </button>\n",
              "      \n",
              "  <style>\n",
              "    .colab-df-container {\n",
              "      display:flex;\n",
              "      flex-wrap:wrap;\n",
              "      gap: 12px;\n",
              "    }\n",
              "\n",
              "    .colab-df-convert {\n",
              "      background-color: #E8F0FE;\n",
              "      border: none;\n",
              "      border-radius: 50%;\n",
              "      cursor: pointer;\n",
              "      display: none;\n",
              "      fill: #1967D2;\n",
              "      height: 32px;\n",
              "      padding: 0 0 0 0;\n",
              "      width: 32px;\n",
              "    }\n",
              "\n",
              "    .colab-df-convert:hover {\n",
              "      background-color: #E2EBFA;\n",
              "      box-shadow: 0px 1px 2px rgba(60, 64, 67, 0.3), 0px 1px 3px 1px rgba(60, 64, 67, 0.15);\n",
              "      fill: #174EA6;\n",
              "    }\n",
              "\n",
              "    [theme=dark] .colab-df-convert {\n",
              "      background-color: #3B4455;\n",
              "      fill: #D2E3FC;\n",
              "    }\n",
              "\n",
              "    [theme=dark] .colab-df-convert:hover {\n",
              "      background-color: #434B5C;\n",
              "      box-shadow: 0px 1px 3px 1px rgba(0, 0, 0, 0.15);\n",
              "      filter: drop-shadow(0px 1px 2px rgba(0, 0, 0, 0.3));\n",
              "      fill: #FFFFFF;\n",
              "    }\n",
              "  </style>\n",
              "\n",
              "      <script>\n",
              "        const buttonEl =\n",
              "          document.querySelector('#df-da7157dc-c765-4221-96c2-e0d06a0c5019 button.colab-df-convert');\n",
              "        buttonEl.style.display =\n",
              "          google.colab.kernel.accessAllowed ? 'block' : 'none';\n",
              "\n",
              "        async function convertToInteractive(key) {\n",
              "          const element = document.querySelector('#df-da7157dc-c765-4221-96c2-e0d06a0c5019');\n",
              "          const dataTable =\n",
              "            await google.colab.kernel.invokeFunction('convertToInteractive',\n",
              "                                                     [key], {});\n",
              "          if (!dataTable) return;\n",
              "\n",
              "          const docLinkHtml = 'Like what you see? Visit the ' +\n",
              "            '<a target=\"_blank\" href=https://colab.research.google.com/notebooks/data_table.ipynb>data table notebook</a>'\n",
              "            + ' to learn more about interactive tables.';\n",
              "          element.innerHTML = '';\n",
              "          dataTable['output_type'] = 'display_data';\n",
              "          await google.colab.output.renderOutput(dataTable, element);\n",
              "          const docLink = document.createElement('div');\n",
              "          docLink.innerHTML = docLinkHtml;\n",
              "          element.appendChild(docLink);\n",
              "        }\n",
              "      </script>\n",
              "    </div>\n",
              "  </div>\n",
              "  "
            ],
            "text/plain": [
              "       ORDER_ID   DE_ID  ... CUSTOMER_LAT CUSTOMER_LNG\n",
              "2784      59837  882145  ...    37.379549    72.822610\n",
              "65374     83467   21914  ...    37.356698    72.821878\n",
              "82456    124781  735519  ...    37.382654    72.868775\n",
              "\n",
              "[3 rows x 17 columns]"
            ]
          },
          "metadata": {},
          "execution_count": 206
        }
      ]
    },
    {
      "cell_type": "code",
      "source": [
        "df_a.dropna(subset = ['PAYOUT_MADE_TO_DE'],inplace = True)"
      ],
      "metadata": {
        "id": "P9F758IE_RI_"
      },
      "execution_count": 207,
      "outputs": []
    },
    {
      "cell_type": "code",
      "source": [
        "df_a[df_a.LASTMILE_DISTANCE.isnull()]"
      ],
      "metadata": {
        "colab": {
          "base_uri": "https://localhost:8080/",
          "height": 454
        },
        "id": "5vi6nGKv2ub0",
        "outputId": "4b957145-9865-4940-ba8b-a74b7941227a"
      },
      "execution_count": 208,
      "outputs": [
        {
          "output_type": "execute_result",
          "data": {
            "text/html": [
              "\n",
              "  <div id=\"df-1d61485a-cd27-4e3e-877a-041fae79a6bc\">\n",
              "    <div class=\"colab-df-container\">\n",
              "      <div>\n",
              "<style scoped>\n",
              "    .dataframe tbody tr th:only-of-type {\n",
              "        vertical-align: middle;\n",
              "    }\n",
              "\n",
              "    .dataframe tbody tr th {\n",
              "        vertical-align: top;\n",
              "    }\n",
              "\n",
              "    .dataframe thead th {\n",
              "        text-align: right;\n",
              "    }\n",
              "</style>\n",
              "<table border=\"1\" class=\"dataframe\">\n",
              "  <thead>\n",
              "    <tr style=\"text-align: right;\">\n",
              "      <th></th>\n",
              "      <th>ORDER_ID</th>\n",
              "      <th>DE_ID</th>\n",
              "      <th>ASSIGNMENT_START_TIME</th>\n",
              "      <th>ASSIGNMENT_END_TIME</th>\n",
              "      <th>reject_ind</th>\n",
              "      <th>reject_type</th>\n",
              "      <th>PLACED_TIME</th>\n",
              "      <th>DELIVERED_TIME</th>\n",
              "      <th>LASTMILE_DISTANCE</th>\n",
              "      <th>FIRSTMILE_DISTANCE</th>\n",
              "      <th>LAST_MILE_TIME_PREDICTED</th>\n",
              "      <th>PAYOUT_MADE_TO_DE</th>\n",
              "      <th>NUM_PING_COUNT_LAST10MIN</th>\n",
              "      <th>LAST_PING_TIME_LAST10MIN</th>\n",
              "      <th>CUSTOMER_ZONE</th>\n",
              "      <th>CUSTOMER_LAT</th>\n",
              "      <th>CUSTOMER_LNG</th>\n",
              "    </tr>\n",
              "  </thead>\n",
              "  <tbody>\n",
              "    <tr>\n",
              "      <th>2782</th>\n",
              "      <td>59837</td>\n",
              "      <td>1186729</td>\n",
              "      <td>2021-02-23 03:05:16.000</td>\n",
              "      <td>2021-02-23 03:08:16.000</td>\n",
              "      <td>1</td>\n",
              "      <td>Type-2</td>\n",
              "      <td>2021-02-23 02:56:29.613</td>\n",
              "      <td>2021-02-23 03:34:06.000</td>\n",
              "      <td>NaN</td>\n",
              "      <td>NaN</td>\n",
              "      <td>418.8</td>\n",
              "      <td>0.0</td>\n",
              "      <td>28</td>\n",
              "      <td>2021-02-23 03:05:05.000</td>\n",
              "      <td>373.0</td>\n",
              "      <td>37.379549</td>\n",
              "      <td>72.822610</td>\n",
              "    </tr>\n",
              "    <tr>\n",
              "      <th>2783</th>\n",
              "      <td>59837</td>\n",
              "      <td>1186729</td>\n",
              "      <td>2021-02-23 03:05:16.000</td>\n",
              "      <td>2021-02-23 03:08:17.000</td>\n",
              "      <td>1</td>\n",
              "      <td>Type-2</td>\n",
              "      <td>2021-02-23 02:56:29.613</td>\n",
              "      <td>2021-02-23 03:34:06.000</td>\n",
              "      <td>NaN</td>\n",
              "      <td>NaN</td>\n",
              "      <td>418.8</td>\n",
              "      <td>0.0</td>\n",
              "      <td>28</td>\n",
              "      <td>2021-02-23 03:05:05.000</td>\n",
              "      <td>373.0</td>\n",
              "      <td>37.379549</td>\n",
              "      <td>72.822610</td>\n",
              "    </tr>\n",
              "    <tr>\n",
              "      <th>8633</th>\n",
              "      <td>88779</td>\n",
              "      <td>1180464</td>\n",
              "      <td>2021-02-27 21:50:32.000</td>\n",
              "      <td>2021-02-27 22:18:21.472</td>\n",
              "      <td>1</td>\n",
              "      <td>Type-3</td>\n",
              "      <td>2021-02-27 21:49:08.636</td>\n",
              "      <td>NaN</td>\n",
              "      <td>NaN</td>\n",
              "      <td>NaN</td>\n",
              "      <td>429.2</td>\n",
              "      <td>0.0</td>\n",
              "      <td>26</td>\n",
              "      <td>2021-02-27 21:50:30.000</td>\n",
              "      <td>373.0</td>\n",
              "      <td>37.379030</td>\n",
              "      <td>72.826540</td>\n",
              "    </tr>\n",
              "    <tr>\n",
              "      <th>65375</th>\n",
              "      <td>83467</td>\n",
              "      <td>902088</td>\n",
              "      <td>2021-02-26 22:54:16.000</td>\n",
              "      <td>2021-02-26 22:57:16.000</td>\n",
              "      <td>1</td>\n",
              "      <td>Type-2</td>\n",
              "      <td>2021-02-26 22:45:13.165</td>\n",
              "      <td>2021-02-26 23:22:00.000</td>\n",
              "      <td>NaN</td>\n",
              "      <td>NaN</td>\n",
              "      <td>446.7</td>\n",
              "      <td>0.0</td>\n",
              "      <td>13</td>\n",
              "      <td>2021-02-26 22:53:57.000</td>\n",
              "      <td>NaN</td>\n",
              "      <td>37.356698</td>\n",
              "      <td>72.821878</td>\n",
              "    </tr>\n",
              "    <tr>\n",
              "      <th>65376</th>\n",
              "      <td>83467</td>\n",
              "      <td>902088</td>\n",
              "      <td>2021-02-26 22:54:16.000</td>\n",
              "      <td>2021-02-26 22:57:17.000</td>\n",
              "      <td>1</td>\n",
              "      <td>Type-2</td>\n",
              "      <td>2021-02-26 22:45:13.165</td>\n",
              "      <td>2021-02-26 23:22:00.000</td>\n",
              "      <td>NaN</td>\n",
              "      <td>NaN</td>\n",
              "      <td>446.7</td>\n",
              "      <td>0.0</td>\n",
              "      <td>13</td>\n",
              "      <td>2021-02-26 22:53:57.000</td>\n",
              "      <td>NaN</td>\n",
              "      <td>37.356698</td>\n",
              "      <td>72.821878</td>\n",
              "    </tr>\n",
              "    <tr>\n",
              "      <th>77977</th>\n",
              "      <td>52982</td>\n",
              "      <td>1268868</td>\n",
              "      <td>2021-02-21 23:28:02.000</td>\n",
              "      <td>2021-02-22 00:33:31.779</td>\n",
              "      <td>1</td>\n",
              "      <td>Type-3</td>\n",
              "      <td>2021-02-21 23:27:44.874</td>\n",
              "      <td>NaN</td>\n",
              "      <td>NaN</td>\n",
              "      <td>NaN</td>\n",
              "      <td>363.7</td>\n",
              "      <td>0.0</td>\n",
              "      <td>9</td>\n",
              "      <td>2021-02-21 23:27:49.000</td>\n",
              "      <td>841.0</td>\n",
              "      <td>37.381814</td>\n",
              "      <td>72.875002</td>\n",
              "    </tr>\n",
              "    <tr>\n",
              "      <th>94370</th>\n",
              "      <td>66243</td>\n",
              "      <td>1148785</td>\n",
              "      <td>2021-02-24 04:00:33.000</td>\n",
              "      <td>2021-02-24 04:41:53.183</td>\n",
              "      <td>1</td>\n",
              "      <td>Type-3</td>\n",
              "      <td>2021-02-24 03:54:47.217</td>\n",
              "      <td>2021-02-24 05:00:42.000</td>\n",
              "      <td>NaN</td>\n",
              "      <td>NaN</td>\n",
              "      <td>331.8</td>\n",
              "      <td>0.0</td>\n",
              "      <td>4</td>\n",
              "      <td>2021-02-24 04:00:23.000</td>\n",
              "      <td>372.0</td>\n",
              "      <td>37.387410</td>\n",
              "      <td>72.864725</td>\n",
              "    </tr>\n",
              "  </tbody>\n",
              "</table>\n",
              "</div>\n",
              "      <button class=\"colab-df-convert\" onclick=\"convertToInteractive('df-1d61485a-cd27-4e3e-877a-041fae79a6bc')\"\n",
              "              title=\"Convert this dataframe to an interactive table.\"\n",
              "              style=\"display:none;\">\n",
              "        \n",
              "  <svg xmlns=\"http://www.w3.org/2000/svg\" height=\"24px\"viewBox=\"0 0 24 24\"\n",
              "       width=\"24px\">\n",
              "    <path d=\"M0 0h24v24H0V0z\" fill=\"none\"/>\n",
              "    <path d=\"M18.56 5.44l.94 2.06.94-2.06 2.06-.94-2.06-.94-.94-2.06-.94 2.06-2.06.94zm-11 1L8.5 8.5l.94-2.06 2.06-.94-2.06-.94L8.5 2.5l-.94 2.06-2.06.94zm10 10l.94 2.06.94-2.06 2.06-.94-2.06-.94-.94-2.06-.94 2.06-2.06.94z\"/><path d=\"M17.41 7.96l-1.37-1.37c-.4-.4-.92-.59-1.43-.59-.52 0-1.04.2-1.43.59L10.3 9.45l-7.72 7.72c-.78.78-.78 2.05 0 2.83L4 21.41c.39.39.9.59 1.41.59.51 0 1.02-.2 1.41-.59l7.78-7.78 2.81-2.81c.8-.78.8-2.07 0-2.86zM5.41 20L4 18.59l7.72-7.72 1.47 1.35L5.41 20z\"/>\n",
              "  </svg>\n",
              "      </button>\n",
              "      \n",
              "  <style>\n",
              "    .colab-df-container {\n",
              "      display:flex;\n",
              "      flex-wrap:wrap;\n",
              "      gap: 12px;\n",
              "    }\n",
              "\n",
              "    .colab-df-convert {\n",
              "      background-color: #E8F0FE;\n",
              "      border: none;\n",
              "      border-radius: 50%;\n",
              "      cursor: pointer;\n",
              "      display: none;\n",
              "      fill: #1967D2;\n",
              "      height: 32px;\n",
              "      padding: 0 0 0 0;\n",
              "      width: 32px;\n",
              "    }\n",
              "\n",
              "    .colab-df-convert:hover {\n",
              "      background-color: #E2EBFA;\n",
              "      box-shadow: 0px 1px 2px rgba(60, 64, 67, 0.3), 0px 1px 3px 1px rgba(60, 64, 67, 0.15);\n",
              "      fill: #174EA6;\n",
              "    }\n",
              "\n",
              "    [theme=dark] .colab-df-convert {\n",
              "      background-color: #3B4455;\n",
              "      fill: #D2E3FC;\n",
              "    }\n",
              "\n",
              "    [theme=dark] .colab-df-convert:hover {\n",
              "      background-color: #434B5C;\n",
              "      box-shadow: 0px 1px 3px 1px rgba(0, 0, 0, 0.15);\n",
              "      filter: drop-shadow(0px 1px 2px rgba(0, 0, 0, 0.3));\n",
              "      fill: #FFFFFF;\n",
              "    }\n",
              "  </style>\n",
              "\n",
              "      <script>\n",
              "        const buttonEl =\n",
              "          document.querySelector('#df-1d61485a-cd27-4e3e-877a-041fae79a6bc button.colab-df-convert');\n",
              "        buttonEl.style.display =\n",
              "          google.colab.kernel.accessAllowed ? 'block' : 'none';\n",
              "\n",
              "        async function convertToInteractive(key) {\n",
              "          const element = document.querySelector('#df-1d61485a-cd27-4e3e-877a-041fae79a6bc');\n",
              "          const dataTable =\n",
              "            await google.colab.kernel.invokeFunction('convertToInteractive',\n",
              "                                                     [key], {});\n",
              "          if (!dataTable) return;\n",
              "\n",
              "          const docLinkHtml = 'Like what you see? Visit the ' +\n",
              "            '<a target=\"_blank\" href=https://colab.research.google.com/notebooks/data_table.ipynb>data table notebook</a>'\n",
              "            + ' to learn more about interactive tables.';\n",
              "          element.innerHTML = '';\n",
              "          dataTable['output_type'] = 'display_data';\n",
              "          await google.colab.output.renderOutput(dataTable, element);\n",
              "          const docLink = document.createElement('div');\n",
              "          docLink.innerHTML = docLinkHtml;\n",
              "          element.appendChild(docLink);\n",
              "        }\n",
              "      </script>\n",
              "    </div>\n",
              "  </div>\n",
              "  "
            ],
            "text/plain": [
              "       ORDER_ID    DE_ID  ... CUSTOMER_LAT CUSTOMER_LNG\n",
              "2782      59837  1186729  ...    37.379549    72.822610\n",
              "2783      59837  1186729  ...    37.379549    72.822610\n",
              "8633      88779  1180464  ...    37.379030    72.826540\n",
              "65375     83467   902088  ...    37.356698    72.821878\n",
              "65376     83467   902088  ...    37.356698    72.821878\n",
              "77977     52982  1268868  ...    37.381814    72.875002\n",
              "94370     66243  1148785  ...    37.387410    72.864725\n",
              "\n",
              "[7 rows x 17 columns]"
            ]
          },
          "metadata": {},
          "execution_count": 208
        }
      ]
    },
    {
      "cell_type": "code",
      "source": [
        "df_a.reject_type.value_counts()"
      ],
      "metadata": {
        "colab": {
          "base_uri": "https://localhost:8080/"
        },
        "id": "Wpsgu7ZALBa5",
        "outputId": "89c0971e-c540-41b7-9899-5045c0ca2070"
      },
      "execution_count": 209,
      "outputs": [
        {
          "output_type": "execute_result",
          "data": {
            "text/plain": [
              "Type-1    3853\n",
              "Type-2    2007\n",
              "Type-3    1449\n",
              "Type-4     739\n",
              "Name: reject_type, dtype: int64"
            ]
          },
          "metadata": {},
          "execution_count": 209
        }
      ]
    },
    {
      "cell_type": "code",
      "source": [
        "df_a.CUSTOMER_ZONE.value_counts()"
      ],
      "metadata": {
        "colab": {
          "base_uri": "https://localhost:8080/"
        },
        "id": "HKa_lOzlKvAS",
        "outputId": "0a1fe413-3c83-4d61-eb85-9cf9e10696a2"
      },
      "execution_count": 210,
      "outputs": [
        {
          "output_type": "execute_result",
          "data": {
            "text/plain": [
              "375.0    26945\n",
              "372.0    20807\n",
              "624.0    17636\n",
              "373.0    14620\n",
              "841.0    14518\n",
              "374.0    12380\n",
              "668.0     6935\n",
              "382.0       10\n",
              "Name: CUSTOMER_ZONE, dtype: int64"
            ]
          },
          "metadata": {},
          "execution_count": 210
        }
      ]
    },
    {
      "cell_type": "markdown",
      "source": [
        "We can replace firstmile_distance and lastmile_distance with the respective columns' mean values directly... (this looked suitable by looking at the kde plots of the columns)\n",
        "\n",
        "*  if we look at the customer zone column most of the similar zones are grouped together in the excel sheet. And a consecutive patch of values were missing from the dataset, so I will be setting all the null values to 382 for now. Because later I am going to treat this column as a categorical column.\n",
        "* reject type is either one of the four possible values. We can set a 5th value type-0 for the deliveries that were not rejected.  \n",
        "* we can remove these three rows without any worries.\n",
        "\n"
      ],
      "metadata": {
        "id": "r_dIj61t-33z"
      }
    },
    {
      "cell_type": "code",
      "source": [
        ""
      ],
      "metadata": {
        "id": "sWEnPcGaKtD-"
      },
      "execution_count": 210,
      "outputs": []
    },
    {
      "cell_type": "code",
      "source": [
        "columns_with_time_data = ['ASSIGNMENT_START_TIME', 'ASSIGNMENT_END_TIME', 'PLACED_TIME', 'DELIVERED_TIME','LAST_PING_TIME_LAST10MIN']\n",
        "for col in columns_with_time_data: \n",
        "    df_a[col] = pd.to_datetime(df_a[col])"
      ],
      "metadata": {
        "id": "CvooiH9OYlUp"
      },
      "execution_count": 211,
      "outputs": []
    },
    {
      "cell_type": "code",
      "source": [
        "# df_a.DELIVERED_TIME.replace(pd.NaT, np.nan, inplace = True)\n",
        "# df_a.DELIVERED_TIME.interpolate()\n",
        "df_a.DELIVERED_TIME = pd.to_datetime(pd.to_numeric(df_a.DELIVERED_TIME).interpolate())\n",
        "df_a.DELIVERED_TIME.fillna(method = 'pad', inplace = True)"
      ],
      "metadata": {
        "id": "Ue4pv4ZRbJUQ"
      },
      "execution_count": 212,
      "outputs": []
    },
    {
      "cell_type": "code",
      "source": [
        "mean_lastmileDist = df_a.LASTMILE_DISTANCE.mean()\n",
        "mean_firstmileDist = df_a.FIRSTMILE_DISTANCE.mean()\n",
        "df_a.dropna(subset = ['PAYOUT_MADE_TO_DE'],inplace = True)\n",
        "df_a.LASTMILE_DISTANCE.fillna(value = mean_lastmileDist, inplace = True)\n",
        "df_a.FIRSTMILE_DISTANCE.fillna(value = mean_firstmileDist, inplace = True)\n",
        "df_a.CUSTOMER_ZONE.fillna(value = 382, inplace = True)\n",
        "df_a.reject_type.fillna(value = 'Type-0', inplace = True)"
      ],
      "metadata": {
        "id": "9N95yamK-SHm"
      },
      "execution_count": 213,
      "outputs": []
    },
    {
      "cell_type": "code",
      "source": [
        "df_a.isnull().sum()"
      ],
      "metadata": {
        "colab": {
          "base_uri": "https://localhost:8080/"
        },
        "id": "Ftgnpn_EEsFB",
        "outputId": "24a36934-794b-4e09-be65-447b863721f8"
      },
      "execution_count": 214,
      "outputs": [
        {
          "output_type": "execute_result",
          "data": {
            "text/plain": [
              "ORDER_ID                    0\n",
              "DE_ID                       0\n",
              "ASSIGNMENT_START_TIME       0\n",
              "ASSIGNMENT_END_TIME         0\n",
              "reject_ind                  0\n",
              "reject_type                 0\n",
              "PLACED_TIME                 0\n",
              "DELIVERED_TIME              0\n",
              "LASTMILE_DISTANCE           0\n",
              "FIRSTMILE_DISTANCE          0\n",
              "LAST_MILE_TIME_PREDICTED    0\n",
              "PAYOUT_MADE_TO_DE           0\n",
              "NUM_PING_COUNT_LAST10MIN    0\n",
              "LAST_PING_TIME_LAST10MIN    0\n",
              "CUSTOMER_ZONE               0\n",
              "CUSTOMER_LAT                0\n",
              "CUSTOMER_LNG                0\n",
              "dtype: int64"
            ]
          },
          "metadata": {},
          "execution_count": 214
        }
      ]
    },
    {
      "cell_type": "markdown",
      "source": [
        "##Now we have completely eradicated or mended the missing values from the dataset"
      ],
      "metadata": {
        "id": "PB1736kddyas"
      }
    },
    {
      "cell_type": "code",
      "source": [
        "df_a.reject_type.value_counts()"
      ],
      "metadata": {
        "colab": {
          "base_uri": "https://localhost:8080/"
        },
        "id": "CG-w-HRPaCfY",
        "outputId": "c0274c16-8561-4fb8-dddd-765fa43c23ba"
      },
      "execution_count": 215,
      "outputs": [
        {
          "output_type": "execute_result",
          "data": {
            "text/plain": [
              "Type-0    124343\n",
              "Type-1      3853\n",
              "Type-2      2007\n",
              "Type-3      1449\n",
              "Type-4       739\n",
              "Name: reject_type, dtype: int64"
            ]
          },
          "metadata": {},
          "execution_count": 215
        }
      ]
    },
    {
      "cell_type": "code",
      "source": [
        "df_a.columns"
      ],
      "metadata": {
        "colab": {
          "base_uri": "https://localhost:8080/"
        },
        "id": "pFTJVfD3j9Kn",
        "outputId": "b4baeff7-da55-4a99-cef3-bf9282dc6f07"
      },
      "execution_count": 216,
      "outputs": [
        {
          "output_type": "execute_result",
          "data": {
            "text/plain": [
              "Index(['ORDER_ID', 'DE_ID', 'ASSIGNMENT_START_TIME', 'ASSIGNMENT_END_TIME',\n",
              "       'reject_ind', 'reject_type', 'PLACED_TIME', 'DELIVERED_TIME',\n",
              "       'LASTMILE_DISTANCE', 'FIRSTMILE_DISTANCE', 'LAST_MILE_TIME_PREDICTED',\n",
              "       'PAYOUT_MADE_TO_DE', 'NUM_PING_COUNT_LAST10MIN',\n",
              "       'LAST_PING_TIME_LAST10MIN', 'CUSTOMER_ZONE', 'CUSTOMER_LAT',\n",
              "       'CUSTOMER_LNG'],\n",
              "      dtype='object')"
            ]
          },
          "metadata": {},
          "execution_count": 216
        }
      ]
    },
    {
      "cell_type": "markdown",
      "source": [
        "##Removing Redundant columns\n",
        "* order_id: order_id cannot have any relation to whether a deliver will be rejected or not.\n",
        "* DE_ID: \n",
        "* DELIVERED_TIME: is recorded after a delivery has been made, so it won't be helpful in determining if a DE rejects it or not.\n",
        "* reject_type:If reject_type means the reason, it is more useful to use reject_type as a target variable rather than a feature.\n",
        "* PLACED_TIME: time of placement of order is irrelevant to the DE, a DE is concerned only when he is assigned the assignment. So it is logical to use only one of ('ASSIGNMENT_TIME' , 'PLACED_TIME')\n"
      ],
      "metadata": {
        "id": "6F_SapnJkcXb"
      }
    },
    {
      "cell_type": "code",
      "source": [
        "df_a1 = df_a.drop(labels=['ORDER_ID','DELIVERED_TIME','PLACED_TIME'], axis = 'columns')\n",
        "df_a1.columns"
      ],
      "metadata": {
        "colab": {
          "base_uri": "https://localhost:8080/"
        },
        "id": "A6hP8mcnnj7r",
        "outputId": "e16b8c64-b127-4330-fc5c-b3f41a67cd75"
      },
      "execution_count": 217,
      "outputs": [
        {
          "output_type": "execute_result",
          "data": {
            "text/plain": [
              "Index(['DE_ID', 'ASSIGNMENT_START_TIME', 'ASSIGNMENT_END_TIME', 'reject_ind',\n",
              "       'reject_type', 'LASTMILE_DISTANCE', 'FIRSTMILE_DISTANCE',\n",
              "       'LAST_MILE_TIME_PREDICTED', 'PAYOUT_MADE_TO_DE',\n",
              "       'NUM_PING_COUNT_LAST10MIN', 'LAST_PING_TIME_LAST10MIN', 'CUSTOMER_ZONE',\n",
              "       'CUSTOMER_LAT', 'CUSTOMER_LNG'],\n",
              "      dtype='object')"
            ]
          },
          "metadata": {},
          "execution_count": 217
        }
      ]
    },
    {
      "cell_type": "code",
      "source": [
        ""
      ],
      "metadata": {
        "id": "81PRd140sIth"
      },
      "execution_count": 217,
      "outputs": []
    },
    {
      "cell_type": "markdown",
      "source": [
        "#Data Cleaning\n"
      ],
      "metadata": {
        "id": "lIwat2Z7xIZS"
      }
    },
    {
      "cell_type": "code",
      "source": [
        "df_a1.dtypes"
      ],
      "metadata": {
        "colab": {
          "base_uri": "https://localhost:8080/"
        },
        "id": "IVbOWSU6sI4Z",
        "outputId": "25f03852-5b85-4dbe-99cb-b4e6cb4c58d2"
      },
      "execution_count": 218,
      "outputs": [
        {
          "output_type": "execute_result",
          "data": {
            "text/plain": [
              "DE_ID                                int64\n",
              "ASSIGNMENT_START_TIME       datetime64[ns]\n",
              "ASSIGNMENT_END_TIME         datetime64[ns]\n",
              "reject_ind                           int64\n",
              "reject_type                         object\n",
              "LASTMILE_DISTANCE                  float64\n",
              "FIRSTMILE_DISTANCE                 float64\n",
              "LAST_MILE_TIME_PREDICTED           float64\n",
              "PAYOUT_MADE_TO_DE                  float64\n",
              "NUM_PING_COUNT_LAST10MIN             int64\n",
              "LAST_PING_TIME_LAST10MIN    datetime64[ns]\n",
              "CUSTOMER_ZONE                      float64\n",
              "CUSTOMER_LAT                       float64\n",
              "CUSTOMER_LNG                       float64\n",
              "dtype: object"
            ]
          },
          "metadata": {},
          "execution_count": 218
        }
      ]
    },
    {
      "cell_type": "markdown",
      "source": [
        "The dataset seems to already clean. There are no null values and no incorrect data types"
      ],
      "metadata": {
        "id": "4sGs4G4g7rbp"
      }
    },
    {
      "cell_type": "code",
      "source": [
        ""
      ],
      "metadata": {
        "id": "ZTDisRegsI9g"
      },
      "execution_count": 218,
      "outputs": []
    },
    {
      "cell_type": "markdown",
      "source": [
        "###Merging Datasets (Joining Datasets more appropriately)\n"
      ],
      "metadata": {
        "id": "YhbrJ0Q18Vfw"
      }
    },
    {
      "cell_type": "code",
      "source": [
        "df = pd.merge(left= df_a1, right= df_de, how= 'inner', on = 'DE_ID')\n",
        "print(f'The size of joined dataset : {df.shape}')\n",
        "df.head()"
      ],
      "metadata": {
        "colab": {
          "base_uri": "https://localhost:8080/",
          "height": 288
        },
        "id": "k6V0hCKnsJBZ",
        "outputId": "bc332194-6b3e-4b55-af02-cb98920df40a"
      },
      "execution_count": 219,
      "outputs": [
        {
          "output_type": "stream",
          "name": "stdout",
          "text": [
            "The size of joined dataset : (132391, 19)\n"
          ]
        },
        {
          "output_type": "execute_result",
          "data": {
            "text/html": [
              "\n",
              "  <div id=\"df-e538cd6c-5a3d-40a2-b522-b07383a2330d\">\n",
              "    <div class=\"colab-df-container\">\n",
              "      <div>\n",
              "<style scoped>\n",
              "    .dataframe tbody tr th:only-of-type {\n",
              "        vertical-align: middle;\n",
              "    }\n",
              "\n",
              "    .dataframe tbody tr th {\n",
              "        vertical-align: top;\n",
              "    }\n",
              "\n",
              "    .dataframe thead th {\n",
              "        text-align: right;\n",
              "    }\n",
              "</style>\n",
              "<table border=\"1\" class=\"dataframe\">\n",
              "  <thead>\n",
              "    <tr style=\"text-align: right;\">\n",
              "      <th></th>\n",
              "      <th>DE_ID</th>\n",
              "      <th>ASSIGNMENT_START_TIME</th>\n",
              "      <th>ASSIGNMENT_END_TIME</th>\n",
              "      <th>reject_ind</th>\n",
              "      <th>reject_type</th>\n",
              "      <th>LASTMILE_DISTANCE</th>\n",
              "      <th>FIRSTMILE_DISTANCE</th>\n",
              "      <th>LAST_MILE_TIME_PREDICTED</th>\n",
              "      <th>PAYOUT_MADE_TO_DE</th>\n",
              "      <th>NUM_PING_COUNT_LAST10MIN</th>\n",
              "      <th>LAST_PING_TIME_LAST10MIN</th>\n",
              "      <th>CUSTOMER_ZONE</th>\n",
              "      <th>CUSTOMER_LAT</th>\n",
              "      <th>CUSTOMER_LNG</th>\n",
              "      <th>SHIFT_END_TIME</th>\n",
              "      <th>DE_HOME_LAT</th>\n",
              "      <th>DE_HOME_LNG</th>\n",
              "      <th>DE_JOINING_DATE</th>\n",
              "      <th>DE_ZONE_ID</th>\n",
              "    </tr>\n",
              "  </thead>\n",
              "  <tbody>\n",
              "    <tr>\n",
              "      <th>0</th>\n",
              "      <td>180976</td>\n",
              "      <td>2021-02-13 03:08:24</td>\n",
              "      <td>2021-02-13 03:38:26</td>\n",
              "      <td>0</td>\n",
              "      <td>Type-0</td>\n",
              "      <td>320.9</td>\n",
              "      <td>320.0</td>\n",
              "      <td>314.0</td>\n",
              "      <td>1810.0</td>\n",
              "      <td>63</td>\n",
              "      <td>2021-02-13 03:07:34</td>\n",
              "      <td>373.0</td>\n",
              "      <td>37.377569</td>\n",
              "      <td>72.832560</td>\n",
              "      <td>05:42</td>\n",
              "      <td>37.374634</td>\n",
              "      <td>72.871986</td>\n",
              "      <td>2019-10-25</td>\n",
              "      <td>373</td>\n",
              "    </tr>\n",
              "    <tr>\n",
              "      <th>1</th>\n",
              "      <td>180976</td>\n",
              "      <td>2021-02-15 03:36:24</td>\n",
              "      <td>2021-02-15 03:54:31</td>\n",
              "      <td>0</td>\n",
              "      <td>Type-0</td>\n",
              "      <td>370.4</td>\n",
              "      <td>414.5</td>\n",
              "      <td>378.2</td>\n",
              "      <td>3710.0</td>\n",
              "      <td>52</td>\n",
              "      <td>2021-02-15 03:36:19</td>\n",
              "      <td>373.0</td>\n",
              "      <td>37.368782</td>\n",
              "      <td>72.809458</td>\n",
              "      <td>05:42</td>\n",
              "      <td>37.374634</td>\n",
              "      <td>72.871986</td>\n",
              "      <td>2019-10-25</td>\n",
              "      <td>373</td>\n",
              "    </tr>\n",
              "    <tr>\n",
              "      <th>2</th>\n",
              "      <td>180976</td>\n",
              "      <td>2021-03-04 04:57:21</td>\n",
              "      <td>2021-03-04 05:23:19</td>\n",
              "      <td>0</td>\n",
              "      <td>Type-0</td>\n",
              "      <td>408.2</td>\n",
              "      <td>320.0</td>\n",
              "      <td>397.2</td>\n",
              "      <td>2760.0</td>\n",
              "      <td>9</td>\n",
              "      <td>2021-03-04 04:56:33</td>\n",
              "      <td>373.0</td>\n",
              "      <td>37.374205</td>\n",
              "      <td>72.827956</td>\n",
              "      <td>05:42</td>\n",
              "      <td>37.374634</td>\n",
              "      <td>72.871986</td>\n",
              "      <td>2019-10-25</td>\n",
              "      <td>373</td>\n",
              "    </tr>\n",
              "    <tr>\n",
              "      <th>3</th>\n",
              "      <td>180976</td>\n",
              "      <td>2021-02-13 00:12:40</td>\n",
              "      <td>2021-02-13 01:02:36</td>\n",
              "      <td>0</td>\n",
              "      <td>Type-0</td>\n",
              "      <td>389.6</td>\n",
              "      <td>342.8</td>\n",
              "      <td>382.5</td>\n",
              "      <td>2210.0</td>\n",
              "      <td>16</td>\n",
              "      <td>2021-02-13 00:12:27</td>\n",
              "      <td>373.0</td>\n",
              "      <td>37.369154</td>\n",
              "      <td>72.815318</td>\n",
              "      <td>05:42</td>\n",
              "      <td>37.374634</td>\n",
              "      <td>72.871986</td>\n",
              "      <td>2019-10-25</td>\n",
              "      <td>373</td>\n",
              "    </tr>\n",
              "    <tr>\n",
              "      <th>4</th>\n",
              "      <td>180976</td>\n",
              "      <td>2021-02-25 04:08:34</td>\n",
              "      <td>2021-02-25 04:30:31</td>\n",
              "      <td>0</td>\n",
              "      <td>Type-0</td>\n",
              "      <td>392.3</td>\n",
              "      <td>418.1</td>\n",
              "      <td>351.3</td>\n",
              "      <td>2460.0</td>\n",
              "      <td>13</td>\n",
              "      <td>2021-02-25 04:07:58</td>\n",
              "      <td>373.0</td>\n",
              "      <td>37.376896</td>\n",
              "      <td>72.834044</td>\n",
              "      <td>05:42</td>\n",
              "      <td>37.374634</td>\n",
              "      <td>72.871986</td>\n",
              "      <td>2019-10-25</td>\n",
              "      <td>373</td>\n",
              "    </tr>\n",
              "  </tbody>\n",
              "</table>\n",
              "</div>\n",
              "      <button class=\"colab-df-convert\" onclick=\"convertToInteractive('df-e538cd6c-5a3d-40a2-b522-b07383a2330d')\"\n",
              "              title=\"Convert this dataframe to an interactive table.\"\n",
              "              style=\"display:none;\">\n",
              "        \n",
              "  <svg xmlns=\"http://www.w3.org/2000/svg\" height=\"24px\"viewBox=\"0 0 24 24\"\n",
              "       width=\"24px\">\n",
              "    <path d=\"M0 0h24v24H0V0z\" fill=\"none\"/>\n",
              "    <path d=\"M18.56 5.44l.94 2.06.94-2.06 2.06-.94-2.06-.94-.94-2.06-.94 2.06-2.06.94zm-11 1L8.5 8.5l.94-2.06 2.06-.94-2.06-.94L8.5 2.5l-.94 2.06-2.06.94zm10 10l.94 2.06.94-2.06 2.06-.94-2.06-.94-.94-2.06-.94 2.06-2.06.94z\"/><path d=\"M17.41 7.96l-1.37-1.37c-.4-.4-.92-.59-1.43-.59-.52 0-1.04.2-1.43.59L10.3 9.45l-7.72 7.72c-.78.78-.78 2.05 0 2.83L4 21.41c.39.39.9.59 1.41.59.51 0 1.02-.2 1.41-.59l7.78-7.78 2.81-2.81c.8-.78.8-2.07 0-2.86zM5.41 20L4 18.59l7.72-7.72 1.47 1.35L5.41 20z\"/>\n",
              "  </svg>\n",
              "      </button>\n",
              "      \n",
              "  <style>\n",
              "    .colab-df-container {\n",
              "      display:flex;\n",
              "      flex-wrap:wrap;\n",
              "      gap: 12px;\n",
              "    }\n",
              "\n",
              "    .colab-df-convert {\n",
              "      background-color: #E8F0FE;\n",
              "      border: none;\n",
              "      border-radius: 50%;\n",
              "      cursor: pointer;\n",
              "      display: none;\n",
              "      fill: #1967D2;\n",
              "      height: 32px;\n",
              "      padding: 0 0 0 0;\n",
              "      width: 32px;\n",
              "    }\n",
              "\n",
              "    .colab-df-convert:hover {\n",
              "      background-color: #E2EBFA;\n",
              "      box-shadow: 0px 1px 2px rgba(60, 64, 67, 0.3), 0px 1px 3px 1px rgba(60, 64, 67, 0.15);\n",
              "      fill: #174EA6;\n",
              "    }\n",
              "\n",
              "    [theme=dark] .colab-df-convert {\n",
              "      background-color: #3B4455;\n",
              "      fill: #D2E3FC;\n",
              "    }\n",
              "\n",
              "    [theme=dark] .colab-df-convert:hover {\n",
              "      background-color: #434B5C;\n",
              "      box-shadow: 0px 1px 3px 1px rgba(0, 0, 0, 0.15);\n",
              "      filter: drop-shadow(0px 1px 2px rgba(0, 0, 0, 0.3));\n",
              "      fill: #FFFFFF;\n",
              "    }\n",
              "  </style>\n",
              "\n",
              "      <script>\n",
              "        const buttonEl =\n",
              "          document.querySelector('#df-e538cd6c-5a3d-40a2-b522-b07383a2330d button.colab-df-convert');\n",
              "        buttonEl.style.display =\n",
              "          google.colab.kernel.accessAllowed ? 'block' : 'none';\n",
              "\n",
              "        async function convertToInteractive(key) {\n",
              "          const element = document.querySelector('#df-e538cd6c-5a3d-40a2-b522-b07383a2330d');\n",
              "          const dataTable =\n",
              "            await google.colab.kernel.invokeFunction('convertToInteractive',\n",
              "                                                     [key], {});\n",
              "          if (!dataTable) return;\n",
              "\n",
              "          const docLinkHtml = 'Like what you see? Visit the ' +\n",
              "            '<a target=\"_blank\" href=https://colab.research.google.com/notebooks/data_table.ipynb>data table notebook</a>'\n",
              "            + ' to learn more about interactive tables.';\n",
              "          element.innerHTML = '';\n",
              "          dataTable['output_type'] = 'display_data';\n",
              "          await google.colab.output.renderOutput(dataTable, element);\n",
              "          const docLink = document.createElement('div');\n",
              "          docLink.innerHTML = docLinkHtml;\n",
              "          element.appendChild(docLink);\n",
              "        }\n",
              "      </script>\n",
              "    </div>\n",
              "  </div>\n",
              "  "
            ],
            "text/plain": [
              "    DE_ID ASSIGNMENT_START_TIME  ... DE_JOINING_DATE  DE_ZONE_ID\n",
              "0  180976   2021-02-13 03:08:24  ...      2019-10-25         373\n",
              "1  180976   2021-02-15 03:36:24  ...      2019-10-25         373\n",
              "2  180976   2021-03-04 04:57:21  ...      2019-10-25         373\n",
              "3  180976   2021-02-13 00:12:40  ...      2019-10-25         373\n",
              "4  180976   2021-02-25 04:08:34  ...      2019-10-25         373\n",
              "\n",
              "[5 rows x 19 columns]"
            ]
          },
          "metadata": {},
          "execution_count": 219
        }
      ]
    },
    {
      "cell_type": "code",
      "source": [
        "df.isnull().sum()"
      ],
      "metadata": {
        "colab": {
          "base_uri": "https://localhost:8080/"
        },
        "id": "LXWLkCMGsJGD",
        "outputId": "0e482c70-a018-4c78-978d-e3b6029c02fd"
      },
      "execution_count": 220,
      "outputs": [
        {
          "output_type": "execute_result",
          "data": {
            "text/plain": [
              "DE_ID                       0\n",
              "ASSIGNMENT_START_TIME       0\n",
              "ASSIGNMENT_END_TIME         0\n",
              "reject_ind                  0\n",
              "reject_type                 0\n",
              "LASTMILE_DISTANCE           0\n",
              "FIRSTMILE_DISTANCE          0\n",
              "LAST_MILE_TIME_PREDICTED    0\n",
              "PAYOUT_MADE_TO_DE           0\n",
              "NUM_PING_COUNT_LAST10MIN    0\n",
              "LAST_PING_TIME_LAST10MIN    0\n",
              "CUSTOMER_ZONE               0\n",
              "CUSTOMER_LAT                0\n",
              "CUSTOMER_LNG                0\n",
              "SHIFT_END_TIME              0\n",
              "DE_HOME_LAT                 0\n",
              "DE_HOME_LNG                 0\n",
              "DE_JOINING_DATE             0\n",
              "DE_ZONE_ID                  0\n",
              "dtype: int64"
            ]
          },
          "metadata": {},
          "execution_count": 220
        }
      ]
    },
    {
      "cell_type": "code",
      "source": [
        "# df.columns\n",
        "df.SHIFT_END_TIME = pd.to_datetime(df.SHIFT_END_TIME).dt.time\n",
        "df.DE_JOINING_DATE = pd.to_datetime(df.DE_JOINING_DATE)"
      ],
      "metadata": {
        "id": "OEZx5D-mFB3x"
      },
      "execution_count": 221,
      "outputs": []
    },
    {
      "cell_type": "code",
      "source": [
        ""
      ],
      "metadata": {
        "id": "9qyf68hdnj-p"
      },
      "execution_count": 221,
      "outputs": []
    },
    {
      "cell_type": "markdown",
      "source": [
        "#Feature Engineering\n",
        "* For feature engineering, I will keep the new features as separate pandas series objects and later merge them with dataset if they seem usefull for the overall performance.\n",
        "* We need to derive some useful columns from time_stamp_columns\n",
        "* (done) We need to one-hot encode categorical columns - [reject_type, Customer zone, DE_zone]\n",
        "* (done) Binning for certain columns: [DE_ID]\n",
        "* Maybe apply K-Means clustering on Geospatial data"
      ],
      "metadata": {
        "id": "x0p8CznD9yph"
      }
    },
    {
      "cell_type": "code",
      "source": [
        "(heights, bins, _) = plt.hist(df.DE_ID.value_counts())\n",
        "plt.xlabel('Number of Rejections/DE')\n",
        "plt.ylabel('Number of DEs')\n",
        "plt.show()"
      ],
      "metadata": {
        "colab": {
          "base_uri": "https://localhost:8080/",
          "height": 279
        },
        "id": "n9Z2oGPBsD5S",
        "outputId": "dedff58a-cc04-48e4-8ed0-a70d09a32479"
      },
      "execution_count": 222,
      "outputs": [
        {
          "output_type": "display_data",
          "data": {
            "image/png": "[encoded data removed]",
            "text/plain": [
              "<Figure size 432x288 with 1 Axes>"
            ]
          },
          "metadata": {
            "needs_background": "light"
          }
        }
      ]
    },
    {
      "cell_type": "code",
      "source": [
        "(_,_,_) = plt.hist(df.DE_ID)"
      ],
      "metadata": {
        "colab": {
          "base_uri": "https://localhost:8080/",
          "height": 278
        },
        "id": "5w0dJ0PFKAdq",
        "outputId": "b532a996-b60e-4671-9a87-336cd5948c59"
      },
      "execution_count": 223,
      "outputs": [
        {
          "output_type": "display_data",
          "data": {
            "image/png": "[encoded data removed]",
            "text/plain": [
              "<Figure size 432x288 with 1 Axes>"
            ]
          },
          "metadata": {
            "needs_background": "light"
          }
        }
      ]
    },
    {
      "cell_type": "code",
      "source": [
        "num_defaults = df.DE_ID.map(df.DE_ID.value_counts())\n",
        "bins = np.linspace(0,550,11,endpoint = False)\n",
        "labels = np.linspace(1,10,10)\n",
        "de_id_binned = pd.cut(num_defaults, bins, labels = labels)"
      ],
      "metadata": {
        "id": "qQMtR2GkFCWb"
      },
      "execution_count": 224,
      "outputs": []
    },
    {
      "cell_type": "code",
      "source": [
        "plt.hist(de_id_binned)\n",
        "plt.xlabel(\"Number of rejections\")\n",
        "plt.ylabel(\"Number of DEs\")\n",
        "plt.title(\"Distribution of DEs across our bins\")\n",
        "plt.show()"
      ],
      "metadata": {
        "colab": {
          "base_uri": "https://localhost:8080/",
          "height": 295
        },
        "id": "lwZGFw30I6zI",
        "outputId": "c34ac55a-ba51-43a5-cee9-439865fbcc55"
      },
      "execution_count": 225,
      "outputs": [
        {
          "output_type": "display_data",
          "data": {
            "image/png": "[encoded data removed]",
            "text/plain": [
              "<Figure size 432x288 with 1 Axes>"
            ]
          },
          "metadata": {
            "needs_background": "light"
          }
        }
      ]
    },
    {
      "cell_type": "markdown",
      "source": [
        "#FEATURE #1 DE_ID_BINNED\n",
        "####de_id_binned can be a better feature than DE_ID itself. But again its all a gamble"
      ],
      "metadata": {
        "id": "E6yN1M-aJcYj"
      }
    },
    {
      "cell_type": "code",
      "source": [
        ""
      ],
      "metadata": {
        "id": "00ZXAY74FCQ9"
      },
      "execution_count": 225,
      "outputs": []
    },
    {
      "cell_type": "markdown",
      "source": [
        "reject_type, Customer zone, DE_zone"
      ],
      "metadata": {
        "id": "CapTAk9QKeHO"
      }
    },
    {
      "cell_type": "code",
      "source": [
        "reject_type_encoder = ce.OneHotEncoder(cols = ['reject_type'], use_cat_names= True)\n",
        "reject_type_encoded = reject_type_encoder.fit_transform(df.reject_type)\n",
        "reject_type_encoded.drop('reject_type_Type-0', inplace = True, axis = 1)\n",
        "\n",
        "czone_encoder = ce.OneHotEncoder(cols = ['CUSTOMER_ZONE'], use_cat_names = False)\n",
        "czone_encoded = czone_encoder.fit_transform(df.CUSTOMER_ZONE)\n",
        "\n",
        "dezone_encoder = ce.OneHotEncoder(cols = ['DE_ZONE_ID'], use_cat_names = False)\n",
        "dezone_encoded = dezone_encoder.fit_transform(df.DE_ZONE_ID)"
      ],
      "metadata": {
        "id": "jrxQto7pFCOF"
      },
      "execution_count": 226,
      "outputs": []
    },
    {
      "cell_type": "code",
      "source": [
        "czone_encoded.head()"
      ],
      "metadata": {
        "colab": {
          "base_uri": "https://localhost:8080/",
          "height": 206
        },
        "id": "YGM56hOIFCIL",
        "outputId": "88bc9963-2d2c-41a9-9055-25ed88118086"
      },
      "execution_count": 227,
      "outputs": [
        {
          "output_type": "execute_result",
          "data": {
            "text/html": [
              "\n",
              "  <div id=\"df-461d97ec-a525-4f1c-98c2-b9e1f275ac23\">\n",
              "    <div class=\"colab-df-container\">\n",
              "      <div>\n",
              "<style scoped>\n",
              "    .dataframe tbody tr th:only-of-type {\n",
              "        vertical-align: middle;\n",
              "    }\n",
              "\n",
              "    .dataframe tbody tr th {\n",
              "        vertical-align: top;\n",
              "    }\n",
              "\n",
              "    .dataframe thead th {\n",
              "        text-align: right;\n",
              "    }\n",
              "</style>\n",
              "<table border=\"1\" class=\"dataframe\">\n",
              "  <thead>\n",
              "    <tr style=\"text-align: right;\">\n",
              "      <th></th>\n",
              "      <th>CUSTOMER_ZONE_1</th>\n",
              "      <th>CUSTOMER_ZONE_2</th>\n",
              "      <th>CUSTOMER_ZONE_3</th>\n",
              "      <th>CUSTOMER_ZONE_4</th>\n",
              "      <th>CUSTOMER_ZONE_5</th>\n",
              "      <th>CUSTOMER_ZONE_6</th>\n",
              "      <th>CUSTOMER_ZONE_7</th>\n",
              "      <th>CUSTOMER_ZONE_8</th>\n",
              "    </tr>\n",
              "  </thead>\n",
              "  <tbody>\n",
              "    <tr>\n",
              "      <th>0</th>\n",
              "      <td>1</td>\n",
              "      <td>0</td>\n",
              "      <td>0</td>\n",
              "      <td>0</td>\n",
              "      <td>0</td>\n",
              "      <td>0</td>\n",
              "      <td>0</td>\n",
              "      <td>0</td>\n",
              "    </tr>\n",
              "    <tr>\n",
              "      <th>1</th>\n",
              "      <td>1</td>\n",
              "      <td>0</td>\n",
              "      <td>0</td>\n",
              "      <td>0</td>\n",
              "      <td>0</td>\n",
              "      <td>0</td>\n",
              "      <td>0</td>\n",
              "      <td>0</td>\n",
              "    </tr>\n",
              "    <tr>\n",
              "      <th>2</th>\n",
              "      <td>1</td>\n",
              "      <td>0</td>\n",
              "      <td>0</td>\n",
              "      <td>0</td>\n",
              "      <td>0</td>\n",
              "      <td>0</td>\n",
              "      <td>0</td>\n",
              "      <td>0</td>\n",
              "    </tr>\n",
              "    <tr>\n",
              "      <th>3</th>\n",
              "      <td>1</td>\n",
              "      <td>0</td>\n",
              "      <td>0</td>\n",
              "      <td>0</td>\n",
              "      <td>0</td>\n",
              "      <td>0</td>\n",
              "      <td>0</td>\n",
              "      <td>0</td>\n",
              "    </tr>\n",
              "    <tr>\n",
              "      <th>4</th>\n",
              "      <td>1</td>\n",
              "      <td>0</td>\n",
              "      <td>0</td>\n",
              "      <td>0</td>\n",
              "      <td>0</td>\n",
              "      <td>0</td>\n",
              "      <td>0</td>\n",
              "      <td>0</td>\n",
              "    </tr>\n",
              "  </tbody>\n",
              "</table>\n",
              "</div>\n",
              "      <button class=\"colab-df-convert\" onclick=\"convertToInteractive('df-461d97ec-a525-4f1c-98c2-b9e1f275ac23')\"\n",
              "              title=\"Convert this dataframe to an interactive table.\"\n",
              "              style=\"display:none;\">\n",
              "        \n",
              "  <svg xmlns=\"http://www.w3.org/2000/svg\" height=\"24px\"viewBox=\"0 0 24 24\"\n",
              "       width=\"24px\">\n",
              "    <path d=\"M0 0h24v24H0V0z\" fill=\"none\"/>\n",
              "    <path d=\"M18.56 5.44l.94 2.06.94-2.06 2.06-.94-2.06-.94-.94-2.06-.94 2.06-2.06.94zm-11 1L8.5 8.5l.94-2.06 2.06-.94-2.06-.94L8.5 2.5l-.94 2.06-2.06.94zm10 10l.94 2.06.94-2.06 2.06-.94-2.06-.94-.94-2.06-.94 2.06-2.06.94z\"/><path d=\"M17.41 7.96l-1.37-1.37c-.4-.4-.92-.59-1.43-.59-.52 0-1.04.2-1.43.59L10.3 9.45l-7.72 7.72c-.78.78-.78 2.05 0 2.83L4 21.41c.39.39.9.59 1.41.59.51 0 1.02-.2 1.41-.59l7.78-7.78 2.81-2.81c.8-.78.8-2.07 0-2.86zM5.41 20L4 18.59l7.72-7.72 1.47 1.35L5.41 20z\"/>\n",
              "  </svg>\n",
              "      </button>\n",
              "      \n",
              "  <style>\n",
              "    .colab-df-container {\n",
              "      display:flex;\n",
              "      flex-wrap:wrap;\n",
              "      gap: 12px;\n",
              "    }\n",
              "\n",
              "    .colab-df-convert {\n",
              "      background-color: #E8F0FE;\n",
              "      border: none;\n",
              "      border-radius: 50%;\n",
              "      cursor: pointer;\n",
              "      display: none;\n",
              "      fill: #1967D2;\n",
              "      height: 32px;\n",
              "      padding: 0 0 0 0;\n",
              "      width: 32px;\n",
              "    }\n",
              "\n",
              "    .colab-df-convert:hover {\n",
              "      background-color: #E2EBFA;\n",
              "      box-shadow: 0px 1px 2px rgba(60, 64, 67, 0.3), 0px 1px 3px 1px rgba(60, 64, 67, 0.15);\n",
              "      fill: #174EA6;\n",
              "    }\n",
              "\n",
              "    [theme=dark] .colab-df-convert {\n",
              "      background-color: #3B4455;\n",
              "      fill: #D2E3FC;\n",
              "    }\n",
              "\n",
              "    [theme=dark] .colab-df-convert:hover {\n",
              "      background-color: #434B5C;\n",
              "      box-shadow: 0px 1px 3px 1px rgba(0, 0, 0, 0.15);\n",
              "      filter: drop-shadow(0px 1px 2px rgba(0, 0, 0, 0.3));\n",
              "      fill: #FFFFFF;\n",
              "    }\n",
              "  </style>\n",
              "\n",
              "      <script>\n",
              "        const buttonEl =\n",
              "          document.querySelector('#df-461d97ec-a525-4f1c-98c2-b9e1f275ac23 button.colab-df-convert');\n",
              "        buttonEl.style.display =\n",
              "          google.colab.kernel.accessAllowed ? 'block' : 'none';\n",
              "\n",
              "        async function convertToInteractive(key) {\n",
              "          const element = document.querySelector('#df-461d97ec-a525-4f1c-98c2-b9e1f275ac23');\n",
              "          const dataTable =\n",
              "            await google.colab.kernel.invokeFunction('convertToInteractive',\n",
              "                                                     [key], {});\n",
              "          if (!dataTable) return;\n",
              "\n",
              "          const docLinkHtml = 'Like what you see? Visit the ' +\n",
              "            '<a target=\"_blank\" href=https://colab.research.google.com/notebooks/data_table.ipynb>data table notebook</a>'\n",
              "            + ' to learn more about interactive tables.';\n",
              "          element.innerHTML = '';\n",
              "          dataTable['output_type'] = 'display_data';\n",
              "          await google.colab.output.renderOutput(dataTable, element);\n",
              "          const docLink = document.createElement('div');\n",
              "          docLink.innerHTML = docLinkHtml;\n",
              "          element.appendChild(docLink);\n",
              "        }\n",
              "      </script>\n",
              "    </div>\n",
              "  </div>\n",
              "  "
            ],
            "text/plain": [
              "   CUSTOMER_ZONE_1  CUSTOMER_ZONE_2  ...  CUSTOMER_ZONE_7  CUSTOMER_ZONE_8\n",
              "0                1                0  ...                0                0\n",
              "1                1                0  ...                0                0\n",
              "2                1                0  ...                0                0\n",
              "3                1                0  ...                0                0\n",
              "4                1                0  ...                0                0\n",
              "\n",
              "[5 rows x 8 columns]"
            ]
          },
          "metadata": {},
          "execution_count": 227
        }
      ]
    },
    {
      "cell_type": "code",
      "source": [
        "dezone_encoded.head()"
      ],
      "metadata": {
        "colab": {
          "base_uri": "https://localhost:8080/",
          "height": 206
        },
        "id": "zY3lDZoCFCEU",
        "outputId": "707aabd0-9b87-418e-d5dc-a63ed721be4c"
      },
      "execution_count": 228,
      "outputs": [
        {
          "output_type": "execute_result",
          "data": {
            "text/html": [
              "\n",
              "  <div id=\"df-e1266779-871e-4b68-905a-098b089a9641\">\n",
              "    <div class=\"colab-df-container\">\n",
              "      <div>\n",
              "<style scoped>\n",
              "    .dataframe tbody tr th:only-of-type {\n",
              "        vertical-align: middle;\n",
              "    }\n",
              "\n",
              "    .dataframe tbody tr th {\n",
              "        vertical-align: top;\n",
              "    }\n",
              "\n",
              "    .dataframe thead th {\n",
              "        text-align: right;\n",
              "    }\n",
              "</style>\n",
              "<table border=\"1\" class=\"dataframe\">\n",
              "  <thead>\n",
              "    <tr style=\"text-align: right;\">\n",
              "      <th></th>\n",
              "      <th>DE_ZONE_ID_1</th>\n",
              "      <th>DE_ZONE_ID_2</th>\n",
              "      <th>DE_ZONE_ID_3</th>\n",
              "      <th>DE_ZONE_ID_4</th>\n",
              "      <th>DE_ZONE_ID_5</th>\n",
              "      <th>DE_ZONE_ID_6</th>\n",
              "      <th>DE_ZONE_ID_7</th>\n",
              "      <th>DE_ZONE_ID_8</th>\n",
              "    </tr>\n",
              "  </thead>\n",
              "  <tbody>\n",
              "    <tr>\n",
              "      <th>0</th>\n",
              "      <td>1</td>\n",
              "      <td>0</td>\n",
              "      <td>0</td>\n",
              "      <td>0</td>\n",
              "      <td>0</td>\n",
              "      <td>0</td>\n",
              "      <td>0</td>\n",
              "      <td>0</td>\n",
              "    </tr>\n",
              "    <tr>\n",
              "      <th>1</th>\n",
              "      <td>1</td>\n",
              "      <td>0</td>\n",
              "      <td>0</td>\n",
              "      <td>0</td>\n",
              "      <td>0</td>\n",
              "      <td>0</td>\n",
              "      <td>0</td>\n",
              "      <td>0</td>\n",
              "    </tr>\n",
              "    <tr>\n",
              "      <th>2</th>\n",
              "      <td>1</td>\n",
              "      <td>0</td>\n",
              "      <td>0</td>\n",
              "      <td>0</td>\n",
              "      <td>0</td>\n",
              "      <td>0</td>\n",
              "      <td>0</td>\n",
              "      <td>0</td>\n",
              "    </tr>\n",
              "    <tr>\n",
              "      <th>3</th>\n",
              "      <td>1</td>\n",
              "      <td>0</td>\n",
              "      <td>0</td>\n",
              "      <td>0</td>\n",
              "      <td>0</td>\n",
              "      <td>0</td>\n",
              "      <td>0</td>\n",
              "      <td>0</td>\n",
              "    </tr>\n",
              "    <tr>\n",
              "      <th>4</th>\n",
              "      <td>1</td>\n",
              "      <td>0</td>\n",
              "      <td>0</td>\n",
              "      <td>0</td>\n",
              "      <td>0</td>\n",
              "      <td>0</td>\n",
              "      <td>0</td>\n",
              "      <td>0</td>\n",
              "    </tr>\n",
              "  </tbody>\n",
              "</table>\n",
              "</div>\n",
              "      <button class=\"colab-df-convert\" onclick=\"convertToInteractive('df-e1266779-871e-4b68-905a-098b089a9641')\"\n",
              "              title=\"Convert this dataframe to an interactive table.\"\n",
              "              style=\"display:none;\">\n",
              "        \n",
              "  <svg xmlns=\"http://www.w3.org/2000/svg\" height=\"24px\"viewBox=\"0 0 24 24\"\n",
              "       width=\"24px\">\n",
              "    <path d=\"M0 0h24v24H0V0z\" fill=\"none\"/>\n",
              "    <path d=\"M18.56 5.44l.94 2.06.94-2.06 2.06-.94-2.06-.94-.94-2.06-.94 2.06-2.06.94zm-11 1L8.5 8.5l.94-2.06 2.06-.94-2.06-.94L8.5 2.5l-.94 2.06-2.06.94zm10 10l.94 2.06.94-2.06 2.06-.94-2.06-.94-.94-2.06-.94 2.06-2.06.94z\"/><path d=\"M17.41 7.96l-1.37-1.37c-.4-.4-.92-.59-1.43-.59-.52 0-1.04.2-1.43.59L10.3 9.45l-7.72 7.72c-.78.78-.78 2.05 0 2.83L4 21.41c.39.39.9.59 1.41.59.51 0 1.02-.2 1.41-.59l7.78-7.78 2.81-2.81c.8-.78.8-2.07 0-2.86zM5.41 20L4 18.59l7.72-7.72 1.47 1.35L5.41 20z\"/>\n",
              "  </svg>\n",
              "      </button>\n",
              "      \n",
              "  <style>\n",
              "    .colab-df-container {\n",
              "      display:flex;\n",
              "      flex-wrap:wrap;\n",
              "      gap: 12px;\n",
              "    }\n",
              "\n",
              "    .colab-df-convert {\n",
              "      background-color: #E8F0FE;\n",
              "      border: none;\n",
              "      border-radius: 50%;\n",
              "      cursor: pointer;\n",
              "      display: none;\n",
              "      fill: #1967D2;\n",
              "      height: 32px;\n",
              "      padding: 0 0 0 0;\n",
              "      width: 32px;\n",
              "    }\n",
              "\n",
              "    .colab-df-convert:hover {\n",
              "      background-color: #E2EBFA;\n",
              "      box-shadow: 0px 1px 2px rgba(60, 64, 67, 0.3), 0px 1px 3px 1px rgba(60, 64, 67, 0.15);\n",
              "      fill: #174EA6;\n",
              "    }\n",
              "\n",
              "    [theme=dark] .colab-df-convert {\n",
              "      background-color: #3B4455;\n",
              "      fill: #D2E3FC;\n",
              "    }\n",
              "\n",
              "    [theme=dark] .colab-df-convert:hover {\n",
              "      background-color: #434B5C;\n",
              "      box-shadow: 0px 1px 3px 1px rgba(0, 0, 0, 0.15);\n",
              "      filter: drop-shadow(0px 1px 2px rgba(0, 0, 0, 0.3));\n",
              "      fill: #FFFFFF;\n",
              "    }\n",
              "  </style>\n",
              "\n",
              "      <script>\n",
              "        const buttonEl =\n",
              "          document.querySelector('#df-e1266779-871e-4b68-905a-098b089a9641 button.colab-df-convert');\n",
              "        buttonEl.style.display =\n",
              "          google.colab.kernel.accessAllowed ? 'block' : 'none';\n",
              "\n",
              "        async function convertToInteractive(key) {\n",
              "          const element = document.querySelector('#df-e1266779-871e-4b68-905a-098b089a9641');\n",
              "          const dataTable =\n",
              "            await google.colab.kernel.invokeFunction('convertToInteractive',\n",
              "                                                     [key], {});\n",
              "          if (!dataTable) return;\n",
              "\n",
              "          const docLinkHtml = 'Like what you see? Visit the ' +\n",
              "            '<a target=\"_blank\" href=https://colab.research.google.com/notebooks/data_table.ipynb>data table notebook</a>'\n",
              "            + ' to learn more about interactive tables.';\n",
              "          element.innerHTML = '';\n",
              "          dataTable['output_type'] = 'display_data';\n",
              "          await google.colab.output.renderOutput(dataTable, element);\n",
              "          const docLink = document.createElement('div');\n",
              "          docLink.innerHTML = docLinkHtml;\n",
              "          element.appendChild(docLink);\n",
              "        }\n",
              "      </script>\n",
              "    </div>\n",
              "  </div>\n",
              "  "
            ],
            "text/plain": [
              "   DE_ZONE_ID_1  DE_ZONE_ID_2  ...  DE_ZONE_ID_7  DE_ZONE_ID_8\n",
              "0             1             0  ...             0             0\n",
              "1             1             0  ...             0             0\n",
              "2             1             0  ...             0             0\n",
              "3             1             0  ...             0             0\n",
              "4             1             0  ...             0             0\n",
              "\n",
              "[5 rows x 8 columns]"
            ]
          },
          "metadata": {},
          "execution_count": 228
        }
      ]
    },
    {
      "cell_type": "code",
      "source": [
        "reject_type_encoded.head()"
      ],
      "metadata": {
        "colab": {
          "base_uri": "https://localhost:8080/",
          "height": 206
        },
        "id": "YbVpakU8FB_9",
        "outputId": "66ebcf93-71e3-4693-a784-591be016d6c0"
      },
      "execution_count": 229,
      "outputs": [
        {
          "output_type": "execute_result",
          "data": {
            "text/html": [
              "\n",
              "  <div id=\"df-4ea9aca7-9448-4422-94d5-f230cd68f62c\">\n",
              "    <div class=\"colab-df-container\">\n",
              "      <div>\n",
              "<style scoped>\n",
              "    .dataframe tbody tr th:only-of-type {\n",
              "        vertical-align: middle;\n",
              "    }\n",
              "\n",
              "    .dataframe tbody tr th {\n",
              "        vertical-align: top;\n",
              "    }\n",
              "\n",
              "    .dataframe thead th {\n",
              "        text-align: right;\n",
              "    }\n",
              "</style>\n",
              "<table border=\"1\" class=\"dataframe\">\n",
              "  <thead>\n",
              "    <tr style=\"text-align: right;\">\n",
              "      <th></th>\n",
              "      <th>reject_type_Type-4</th>\n",
              "      <th>reject_type_Type-1</th>\n",
              "      <th>reject_type_Type-2</th>\n",
              "      <th>reject_type_Type-3</th>\n",
              "    </tr>\n",
              "  </thead>\n",
              "  <tbody>\n",
              "    <tr>\n",
              "      <th>0</th>\n",
              "      <td>0</td>\n",
              "      <td>0</td>\n",
              "      <td>0</td>\n",
              "      <td>0</td>\n",
              "    </tr>\n",
              "    <tr>\n",
              "      <th>1</th>\n",
              "      <td>0</td>\n",
              "      <td>0</td>\n",
              "      <td>0</td>\n",
              "      <td>0</td>\n",
              "    </tr>\n",
              "    <tr>\n",
              "      <th>2</th>\n",
              "      <td>0</td>\n",
              "      <td>0</td>\n",
              "      <td>0</td>\n",
              "      <td>0</td>\n",
              "    </tr>\n",
              "    <tr>\n",
              "      <th>3</th>\n",
              "      <td>0</td>\n",
              "      <td>0</td>\n",
              "      <td>0</td>\n",
              "      <td>0</td>\n",
              "    </tr>\n",
              "    <tr>\n",
              "      <th>4</th>\n",
              "      <td>0</td>\n",
              "      <td>0</td>\n",
              "      <td>0</td>\n",
              "      <td>0</td>\n",
              "    </tr>\n",
              "  </tbody>\n",
              "</table>\n",
              "</div>\n",
              "      <button class=\"colab-df-convert\" onclick=\"convertToInteractive('df-4ea9aca7-9448-4422-94d5-f230cd68f62c')\"\n",
              "              title=\"Convert this dataframe to an interactive table.\"\n",
              "              style=\"display:none;\">\n",
              "        \n",
              "  <svg xmlns=\"http://www.w3.org/2000/svg\" height=\"24px\"viewBox=\"0 0 24 24\"\n",
              "       width=\"24px\">\n",
              "    <path d=\"M0 0h24v24H0V0z\" fill=\"none\"/>\n",
              "    <path d=\"M18.56 5.44l.94 2.06.94-2.06 2.06-.94-2.06-.94-.94-2.06-.94 2.06-2.06.94zm-11 1L8.5 8.5l.94-2.06 2.06-.94-2.06-.94L8.5 2.5l-.94 2.06-2.06.94zm10 10l.94 2.06.94-2.06 2.06-.94-2.06-.94-.94-2.06-.94 2.06-2.06.94z\"/><path d=\"M17.41 7.96l-1.37-1.37c-.4-.4-.92-.59-1.43-.59-.52 0-1.04.2-1.43.59L10.3 9.45l-7.72 7.72c-.78.78-.78 2.05 0 2.83L4 21.41c.39.39.9.59 1.41.59.51 0 1.02-.2 1.41-.59l7.78-7.78 2.81-2.81c.8-.78.8-2.07 0-2.86zM5.41 20L4 18.59l7.72-7.72 1.47 1.35L5.41 20z\"/>\n",
              "  </svg>\n",
              "      </button>\n",
              "      \n",
              "  <style>\n",
              "    .colab-df-container {\n",
              "      display:flex;\n",
              "      flex-wrap:wrap;\n",
              "      gap: 12px;\n",
              "    }\n",
              "\n",
              "    .colab-df-convert {\n",
              "      background-color: #E8F0FE;\n",
              "      border: none;\n",
              "      border-radius: 50%;\n",
              "      cursor: pointer;\n",
              "      display: none;\n",
              "      fill: #1967D2;\n",
              "      height: 32px;\n",
              "      padding: 0 0 0 0;\n",
              "      width: 32px;\n",
              "    }\n",
              "\n",
              "    .colab-df-convert:hover {\n",
              "      background-color: #E2EBFA;\n",
              "      box-shadow: 0px 1px 2px rgba(60, 64, 67, 0.3), 0px 1px 3px 1px rgba(60, 64, 67, 0.15);\n",
              "      fill: #174EA6;\n",
              "    }\n",
              "\n",
              "    [theme=dark] .colab-df-convert {\n",
              "      background-color: #3B4455;\n",
              "      fill: #D2E3FC;\n",
              "    }\n",
              "\n",
              "    [theme=dark] .colab-df-convert:hover {\n",
              "      background-color: #434B5C;\n",
              "      box-shadow: 0px 1px 3px 1px rgba(0, 0, 0, 0.15);\n",
              "      filter: drop-shadow(0px 1px 2px rgba(0, 0, 0, 0.3));\n",
              "      fill: #FFFFFF;\n",
              "    }\n",
              "  </style>\n",
              "\n",
              "      <script>\n",
              "        const buttonEl =\n",
              "          document.querySelector('#df-4ea9aca7-9448-4422-94d5-f230cd68f62c button.colab-df-convert');\n",
              "        buttonEl.style.display =\n",
              "          google.colab.kernel.accessAllowed ? 'block' : 'none';\n",
              "\n",
              "        async function convertToInteractive(key) {\n",
              "          const element = document.querySelector('#df-4ea9aca7-9448-4422-94d5-f230cd68f62c');\n",
              "          const dataTable =\n",
              "            await google.colab.kernel.invokeFunction('convertToInteractive',\n",
              "                                                     [key], {});\n",
              "          if (!dataTable) return;\n",
              "\n",
              "          const docLinkHtml = 'Like what you see? Visit the ' +\n",
              "            '<a target=\"_blank\" href=https://colab.research.google.com/notebooks/data_table.ipynb>data table notebook</a>'\n",
              "            + ' to learn more about interactive tables.';\n",
              "          element.innerHTML = '';\n",
              "          dataTable['output_type'] = 'display_data';\n",
              "          await google.colab.output.renderOutput(dataTable, element);\n",
              "          const docLink = document.createElement('div');\n",
              "          docLink.innerHTML = docLinkHtml;\n",
              "          element.appendChild(docLink);\n",
              "        }\n",
              "      </script>\n",
              "    </div>\n",
              "  </div>\n",
              "  "
            ],
            "text/plain": [
              "   reject_type_Type-4  ...  reject_type_Type-3\n",
              "0                   0  ...                   0\n",
              "1                   0  ...                   0\n",
              "2                   0  ...                   0\n",
              "3                   0  ...                   0\n",
              "4                   0  ...                   0\n",
              "\n",
              "[5 rows x 4 columns]"
            ]
          },
          "metadata": {},
          "execution_count": 229
        }
      ]
    },
    {
      "cell_type": "markdown",
      "source": [
        "#FEATURES: REJECT TYPE, DE_ZONE, CUSTOMER_ZONE ENCODED"
      ],
      "metadata": {
        "id": "hCMR2KjTTeM8"
      }
    },
    {
      "cell_type": "markdown",
      "source": [
        "#Approach 1 for dealing with time series: \n",
        " - simply use pd.to_numeric() on all time_stamp columns. "
      ],
      "metadata": {
        "id": "vSvZUVaKmAyT"
      }
    },
    {
      "cell_type": "code",
      "source": [
        "df.head()"
      ],
      "metadata": {
        "colab": {
          "base_uri": "https://localhost:8080/",
          "height": 270
        },
        "id": "GYSIwpB7vdGG",
        "outputId": "8ce65a71-8def-4b19-90d6-c536f32be33b"
      },
      "execution_count": 230,
      "outputs": [
        {
          "output_type": "execute_result",
          "data": {
            "text/html": [
              "\n",
              "  <div id=\"df-03cccd17-53b2-4a6a-828b-74f8ef2c9d7c\">\n",
              "    <div class=\"colab-df-container\">\n",
              "      <div>\n",
              "<style scoped>\n",
              "    .dataframe tbody tr th:only-of-type {\n",
              "        vertical-align: middle;\n",
              "    }\n",
              "\n",
              "    .dataframe tbody tr th {\n",
              "        vertical-align: top;\n",
              "    }\n",
              "\n",
              "    .dataframe thead th {\n",
              "        text-align: right;\n",
              "    }\n",
              "</style>\n",
              "<table border=\"1\" class=\"dataframe\">\n",
              "  <thead>\n",
              "    <tr style=\"text-align: right;\">\n",
              "      <th></th>\n",
              "      <th>DE_ID</th>\n",
              "      <th>ASSIGNMENT_START_TIME</th>\n",
              "      <th>ASSIGNMENT_END_TIME</th>\n",
              "      <th>reject_ind</th>\n",
              "      <th>reject_type</th>\n",
              "      <th>LASTMILE_DISTANCE</th>\n",
              "      <th>FIRSTMILE_DISTANCE</th>\n",
              "      <th>LAST_MILE_TIME_PREDICTED</th>\n",
              "      <th>PAYOUT_MADE_TO_DE</th>\n",
              "      <th>NUM_PING_COUNT_LAST10MIN</th>\n",
              "      <th>LAST_PING_TIME_LAST10MIN</th>\n",
              "      <th>CUSTOMER_ZONE</th>\n",
              "      <th>CUSTOMER_LAT</th>\n",
              "      <th>CUSTOMER_LNG</th>\n",
              "      <th>SHIFT_END_TIME</th>\n",
              "      <th>DE_HOME_LAT</th>\n",
              "      <th>DE_HOME_LNG</th>\n",
              "      <th>DE_JOINING_DATE</th>\n",
              "      <th>DE_ZONE_ID</th>\n",
              "    </tr>\n",
              "  </thead>\n",
              "  <tbody>\n",
              "    <tr>\n",
              "      <th>0</th>\n",
              "      <td>180976</td>\n",
              "      <td>2021-02-13 03:08:24</td>\n",
              "      <td>2021-02-13 03:38:26</td>\n",
              "      <td>0</td>\n",
              "      <td>Type-0</td>\n",
              "      <td>320.9</td>\n",
              "      <td>320.0</td>\n",
              "      <td>314.0</td>\n",
              "      <td>1810.0</td>\n",
              "      <td>63</td>\n",
              "      <td>2021-02-13 03:07:34</td>\n",
              "      <td>373.0</td>\n",
              "      <td>37.377569</td>\n",
              "      <td>72.832560</td>\n",
              "      <td>05:42:00</td>\n",
              "      <td>37.374634</td>\n",
              "      <td>72.871986</td>\n",
              "      <td>2019-10-25</td>\n",
              "      <td>373</td>\n",
              "    </tr>\n",
              "    <tr>\n",
              "      <th>1</th>\n",
              "      <td>180976</td>\n",
              "      <td>2021-02-15 03:36:24</td>\n",
              "      <td>2021-02-15 03:54:31</td>\n",
              "      <td>0</td>\n",
              "      <td>Type-0</td>\n",
              "      <td>370.4</td>\n",
              "      <td>414.5</td>\n",
              "      <td>378.2</td>\n",
              "      <td>3710.0</td>\n",
              "      <td>52</td>\n",
              "      <td>2021-02-15 03:36:19</td>\n",
              "      <td>373.0</td>\n",
              "      <td>37.368782</td>\n",
              "      <td>72.809458</td>\n",
              "      <td>05:42:00</td>\n",
              "      <td>37.374634</td>\n",
              "      <td>72.871986</td>\n",
              "      <td>2019-10-25</td>\n",
              "      <td>373</td>\n",
              "    </tr>\n",
              "    <tr>\n",
              "      <th>2</th>\n",
              "      <td>180976</td>\n",
              "      <td>2021-03-04 04:57:21</td>\n",
              "      <td>2021-03-04 05:23:19</td>\n",
              "      <td>0</td>\n",
              "      <td>Type-0</td>\n",
              "      <td>408.2</td>\n",
              "      <td>320.0</td>\n",
              "      <td>397.2</td>\n",
              "      <td>2760.0</td>\n",
              "      <td>9</td>\n",
              "      <td>2021-03-04 04:56:33</td>\n",
              "      <td>373.0</td>\n",
              "      <td>37.374205</td>\n",
              "      <td>72.827956</td>\n",
              "      <td>05:42:00</td>\n",
              "      <td>37.374634</td>\n",
              "      <td>72.871986</td>\n",
              "      <td>2019-10-25</td>\n",
              "      <td>373</td>\n",
              "    </tr>\n",
              "    <tr>\n",
              "      <th>3</th>\n",
              "      <td>180976</td>\n",
              "      <td>2021-02-13 00:12:40</td>\n",
              "      <td>2021-02-13 01:02:36</td>\n",
              "      <td>0</td>\n",
              "      <td>Type-0</td>\n",
              "      <td>389.6</td>\n",
              "      <td>342.8</td>\n",
              "      <td>382.5</td>\n",
              "      <td>2210.0</td>\n",
              "      <td>16</td>\n",
              "      <td>2021-02-13 00:12:27</td>\n",
              "      <td>373.0</td>\n",
              "      <td>37.369154</td>\n",
              "      <td>72.815318</td>\n",
              "      <td>05:42:00</td>\n",
              "      <td>37.374634</td>\n",
              "      <td>72.871986</td>\n",
              "      <td>2019-10-25</td>\n",
              "      <td>373</td>\n",
              "    </tr>\n",
              "    <tr>\n",
              "      <th>4</th>\n",
              "      <td>180976</td>\n",
              "      <td>2021-02-25 04:08:34</td>\n",
              "      <td>2021-02-25 04:30:31</td>\n",
              "      <td>0</td>\n",
              "      <td>Type-0</td>\n",
              "      <td>392.3</td>\n",
              "      <td>418.1</td>\n",
              "      <td>351.3</td>\n",
              "      <td>2460.0</td>\n",
              "      <td>13</td>\n",
              "      <td>2021-02-25 04:07:58</td>\n",
              "      <td>373.0</td>\n",
              "      <td>37.376896</td>\n",
              "      <td>72.834044</td>\n",
              "      <td>05:42:00</td>\n",
              "      <td>37.374634</td>\n",
              "      <td>72.871986</td>\n",
              "      <td>2019-10-25</td>\n",
              "      <td>373</td>\n",
              "    </tr>\n",
              "  </tbody>\n",
              "</table>\n",
              "</div>\n",
              "      <button class=\"colab-df-convert\" onclick=\"convertToInteractive('df-03cccd17-53b2-4a6a-828b-74f8ef2c9d7c')\"\n",
              "              title=\"Convert this dataframe to an interactive table.\"\n",
              "              style=\"display:none;\">\n",
              "        \n",
              "  <svg xmlns=\"http://www.w3.org/2000/svg\" height=\"24px\"viewBox=\"0 0 24 24\"\n",
              "       width=\"24px\">\n",
              "    <path d=\"M0 0h24v24H0V0z\" fill=\"none\"/>\n",
              "    <path d=\"M18.56 5.44l.94 2.06.94-2.06 2.06-.94-2.06-.94-.94-2.06-.94 2.06-2.06.94zm-11 1L8.5 8.5l.94-2.06 2.06-.94-2.06-.94L8.5 2.5l-.94 2.06-2.06.94zm10 10l.94 2.06.94-2.06 2.06-.94-2.06-.94-.94-2.06-.94 2.06-2.06.94z\"/><path d=\"M17.41 7.96l-1.37-1.37c-.4-.4-.92-.59-1.43-.59-.52 0-1.04.2-1.43.59L10.3 9.45l-7.72 7.72c-.78.78-.78 2.05 0 2.83L4 21.41c.39.39.9.59 1.41.59.51 0 1.02-.2 1.41-.59l7.78-7.78 2.81-2.81c.8-.78.8-2.07 0-2.86zM5.41 20L4 18.59l7.72-7.72 1.47 1.35L5.41 20z\"/>\n",
              "  </svg>\n",
              "      </button>\n",
              "      \n",
              "  <style>\n",
              "    .colab-df-container {\n",
              "      display:flex;\n",
              "      flex-wrap:wrap;\n",
              "      gap: 12px;\n",
              "    }\n",
              "\n",
              "    .colab-df-convert {\n",
              "      background-color: #E8F0FE;\n",
              "      border: none;\n",
              "      border-radius: 50%;\n",
              "      cursor: pointer;\n",
              "      display: none;\n",
              "      fill: #1967D2;\n",
              "      height: 32px;\n",
              "      padding: 0 0 0 0;\n",
              "      width: 32px;\n",
              "    }\n",
              "\n",
              "    .colab-df-convert:hover {\n",
              "      background-color: #E2EBFA;\n",
              "      box-shadow: 0px 1px 2px rgba(60, 64, 67, 0.3), 0px 1px 3px 1px rgba(60, 64, 67, 0.15);\n",
              "      fill: #174EA6;\n",
              "    }\n",
              "\n",
              "    [theme=dark] .colab-df-convert {\n",
              "      background-color: #3B4455;\n",
              "      fill: #D2E3FC;\n",
              "    }\n",
              "\n",
              "    [theme=dark] .colab-df-convert:hover {\n",
              "      background-color: #434B5C;\n",
              "      box-shadow: 0px 1px 3px 1px rgba(0, 0, 0, 0.15);\n",
              "      filter: drop-shadow(0px 1px 2px rgba(0, 0, 0, 0.3));\n",
              "      fill: #FFFFFF;\n",
              "    }\n",
              "  </style>\n",
              "\n",
              "      <script>\n",
              "        const buttonEl =\n",
              "          document.querySelector('#df-03cccd17-53b2-4a6a-828b-74f8ef2c9d7c button.colab-df-convert');\n",
              "        buttonEl.style.display =\n",
              "          google.colab.kernel.accessAllowed ? 'block' : 'none';\n",
              "\n",
              "        async function convertToInteractive(key) {\n",
              "          const element = document.querySelector('#df-03cccd17-53b2-4a6a-828b-74f8ef2c9d7c');\n",
              "          const dataTable =\n",
              "            await google.colab.kernel.invokeFunction('convertToInteractive',\n",
              "                                                     [key], {});\n",
              "          if (!dataTable) return;\n",
              "\n",
              "          const docLinkHtml = 'Like what you see? Visit the ' +\n",
              "            '<a target=\"_blank\" href=https://colab.research.google.com/notebooks/data_table.ipynb>data table notebook</a>'\n",
              "            + ' to learn more about interactive tables.';\n",
              "          element.innerHTML = '';\n",
              "          dataTable['output_type'] = 'display_data';\n",
              "          await google.colab.output.renderOutput(dataTable, element);\n",
              "          const docLink = document.createElement('div');\n",
              "          docLink.innerHTML = docLinkHtml;\n",
              "          element.appendChild(docLink);\n",
              "        }\n",
              "      </script>\n",
              "    </div>\n",
              "  </div>\n",
              "  "
            ],
            "text/plain": [
              "    DE_ID ASSIGNMENT_START_TIME  ... DE_JOINING_DATE  DE_ZONE_ID\n",
              "0  180976   2021-02-13 03:08:24  ...      2019-10-25         373\n",
              "1  180976   2021-02-15 03:36:24  ...      2019-10-25         373\n",
              "2  180976   2021-03-04 04:57:21  ...      2019-10-25         373\n",
              "3  180976   2021-02-13 00:12:40  ...      2019-10-25         373\n",
              "4  180976   2021-02-25 04:08:34  ...      2019-10-25         373\n",
              "\n",
              "[5 rows x 19 columns]"
            ]
          },
          "metadata": {},
          "execution_count": 230
        }
      ]
    },
    {
      "cell_type": "code",
      "source": [
        "time_stamp_data = df.loc[:,('ASSIGNMENT_START_TIME', 'ASSIGNMENT_END_TIME', 'LAST_PING_TIME_LAST10MIN', 'SHIFT_END_TIME', 'DE_JOINING_DATE')]\n",
        "for col in ['ASSIGNMENT_START_TIME', 'ASSIGNMENT_END_TIME', 'LAST_PING_TIME_LAST10MIN', 'DE_JOINING_DATE']:\n",
        "  time_stamp_data[col] = pd.to_numeric(time_stamp_data[col])\n",
        "\n",
        "time_stamp_data['SHIFT_END_TIME'] = time_stamp_data['SHIFT_END_TIME'].map(lambda x : x.hour*60 + x.minute)\n",
        "# time_stamp_data['LAST_PING_TIME_LAST10MIN'] = pd.to_numeric(time_stamp_data['LAST_PING_TIME_LAST10MIN'])"
      ],
      "metadata": {
        "id": "W99tCjIYnkB_"
      },
      "execution_count": 231,
      "outputs": []
    },
    {
      "cell_type": "code",
      "source": [
        "time_stamp_data"
      ],
      "metadata": {
        "colab": {
          "base_uri": "https://localhost:8080/",
          "height": 424
        },
        "id": "iidL3vjlrPz-",
        "outputId": "9c4bdb1b-6cf1-487e-c35d-0ac75a8da219"
      },
      "execution_count": 232,
      "outputs": [
        {
          "output_type": "execute_result",
          "data": {
            "text/html": [
              "\n",
              "  <div id=\"df-bcbcac89-40b7-4b9e-a079-f5d3ee4af924\">\n",
              "    <div class=\"colab-df-container\">\n",
              "      <div>\n",
              "<style scoped>\n",
              "    .dataframe tbody tr th:only-of-type {\n",
              "        vertical-align: middle;\n",
              "    }\n",
              "\n",
              "    .dataframe tbody tr th {\n",
              "        vertical-align: top;\n",
              "    }\n",
              "\n",
              "    .dataframe thead th {\n",
              "        text-align: right;\n",
              "    }\n",
              "</style>\n",
              "<table border=\"1\" class=\"dataframe\">\n",
              "  <thead>\n",
              "    <tr style=\"text-align: right;\">\n",
              "      <th></th>\n",
              "      <th>ASSIGNMENT_START_TIME</th>\n",
              "      <th>ASSIGNMENT_END_TIME</th>\n",
              "      <th>LAST_PING_TIME_LAST10MIN</th>\n",
              "      <th>SHIFT_END_TIME</th>\n",
              "      <th>DE_JOINING_DATE</th>\n",
              "    </tr>\n",
              "  </thead>\n",
              "  <tbody>\n",
              "    <tr>\n",
              "      <th>0</th>\n",
              "      <td>1613185704000000000</td>\n",
              "      <td>1613187506000000000</td>\n",
              "      <td>1613185654000000000</td>\n",
              "      <td>342</td>\n",
              "      <td>1571961600000000000</td>\n",
              "    </tr>\n",
              "    <tr>\n",
              "      <th>1</th>\n",
              "      <td>1613360184000000000</td>\n",
              "      <td>1613361271000000000</td>\n",
              "      <td>1613360179000000000</td>\n",
              "      <td>342</td>\n",
              "      <td>1571961600000000000</td>\n",
              "    </tr>\n",
              "    <tr>\n",
              "      <th>2</th>\n",
              "      <td>1614833841000000000</td>\n",
              "      <td>1614835399000000000</td>\n",
              "      <td>1614833793000000000</td>\n",
              "      <td>342</td>\n",
              "      <td>1571961600000000000</td>\n",
              "    </tr>\n",
              "    <tr>\n",
              "      <th>3</th>\n",
              "      <td>1613175160000000000</td>\n",
              "      <td>1613178156000000000</td>\n",
              "      <td>1613175147000000000</td>\n",
              "      <td>342</td>\n",
              "      <td>1571961600000000000</td>\n",
              "    </tr>\n",
              "    <tr>\n",
              "      <th>4</th>\n",
              "      <td>1614226114000000000</td>\n",
              "      <td>1614227431000000000</td>\n",
              "      <td>1614226078000000000</td>\n",
              "      <td>342</td>\n",
              "      <td>1571961600000000000</td>\n",
              "    </tr>\n",
              "    <tr>\n",
              "      <th>...</th>\n",
              "      <td>...</td>\n",
              "      <td>...</td>\n",
              "      <td>...</td>\n",
              "      <td>...</td>\n",
              "      <td>...</td>\n",
              "    </tr>\n",
              "    <tr>\n",
              "      <th>132386</th>\n",
              "      <td>1614471752000000000</td>\n",
              "      <td>1614471932000000000</td>\n",
              "      <td>1614471638000000000</td>\n",
              "      <td>342</td>\n",
              "      <td>1600387200000000000</td>\n",
              "    </tr>\n",
              "    <tr>\n",
              "      <th>132387</th>\n",
              "      <td>1614462632000000000</td>\n",
              "      <td>1614469027000000000</td>\n",
              "      <td>1614462599000000000</td>\n",
              "      <td>342</td>\n",
              "      <td>1600387200000000000</td>\n",
              "    </tr>\n",
              "    <tr>\n",
              "      <th>132388</th>\n",
              "      <td>1614472112000000000</td>\n",
              "      <td>1614472292000000000</td>\n",
              "      <td>1614472069000000000</td>\n",
              "      <td>342</td>\n",
              "      <td>1600387200000000000</td>\n",
              "    </tr>\n",
              "    <tr>\n",
              "      <th>132389</th>\n",
              "      <td>1614045272000000000</td>\n",
              "      <td>1614046555000000000</td>\n",
              "      <td>1614045252000000000</td>\n",
              "      <td>402</td>\n",
              "      <td>1595635200000000000</td>\n",
              "    </tr>\n",
              "    <tr>\n",
              "      <th>132390</th>\n",
              "      <td>1614045272000000000</td>\n",
              "      <td>1614046555313000000</td>\n",
              "      <td>1614045252000000000</td>\n",
              "      <td>402</td>\n",
              "      <td>1595635200000000000</td>\n",
              "    </tr>\n",
              "  </tbody>\n",
              "</table>\n",
              "<p>132391 rows × 5 columns</p>\n",
              "</div>\n",
              "      <button class=\"colab-df-convert\" onclick=\"convertToInteractive('df-bcbcac89-40b7-4b9e-a079-f5d3ee4af924')\"\n",
              "              title=\"Convert this dataframe to an interactive table.\"\n",
              "              style=\"display:none;\">\n",
              "        \n",
              "  <svg xmlns=\"http://www.w3.org/2000/svg\" height=\"24px\"viewBox=\"0 0 24 24\"\n",
              "       width=\"24px\">\n",
              "    <path d=\"M0 0h24v24H0V0z\" fill=\"none\"/>\n",
              "    <path d=\"M18.56 5.44l.94 2.06.94-2.06 2.06-.94-2.06-.94-.94-2.06-.94 2.06-2.06.94zm-11 1L8.5 8.5l.94-2.06 2.06-.94-2.06-.94L8.5 2.5l-.94 2.06-2.06.94zm10 10l.94 2.06.94-2.06 2.06-.94-2.06-.94-.94-2.06-.94 2.06-2.06.94z\"/><path d=\"M17.41 7.96l-1.37-1.37c-.4-.4-.92-.59-1.43-.59-.52 0-1.04.2-1.43.59L10.3 9.45l-7.72 7.72c-.78.78-.78 2.05 0 2.83L4 21.41c.39.39.9.59 1.41.59.51 0 1.02-.2 1.41-.59l7.78-7.78 2.81-2.81c.8-.78.8-2.07 0-2.86zM5.41 20L4 18.59l7.72-7.72 1.47 1.35L5.41 20z\"/>\n",
              "  </svg>\n",
              "      </button>\n",
              "      \n",
              "  <style>\n",
              "    .colab-df-container {\n",
              "      display:flex;\n",
              "      flex-wrap:wrap;\n",
              "      gap: 12px;\n",
              "    }\n",
              "\n",
              "    .colab-df-convert {\n",
              "      background-color: #E8F0FE;\n",
              "      border: none;\n",
              "      border-radius: 50%;\n",
              "      cursor: pointer;\n",
              "      display: none;\n",
              "      fill: #1967D2;\n",
              "      height: 32px;\n",
              "      padding: 0 0 0 0;\n",
              "      width: 32px;\n",
              "    }\n",
              "\n",
              "    .colab-df-convert:hover {\n",
              "      background-color: #E2EBFA;\n",
              "      box-shadow: 0px 1px 2px rgba(60, 64, 67, 0.3), 0px 1px 3px 1px rgba(60, 64, 67, 0.15);\n",
              "      fill: #174EA6;\n",
              "    }\n",
              "\n",
              "    [theme=dark] .colab-df-convert {\n",
              "      background-color: #3B4455;\n",
              "      fill: #D2E3FC;\n",
              "    }\n",
              "\n",
              "    [theme=dark] .colab-df-convert:hover {\n",
              "      background-color: #434B5C;\n",
              "      box-shadow: 0px 1px 3px 1px rgba(0, 0, 0, 0.15);\n",
              "      filter: drop-shadow(0px 1px 2px rgba(0, 0, 0, 0.3));\n",
              "      fill: #FFFFFF;\n",
              "    }\n",
              "  </style>\n",
              "\n",
              "      <script>\n",
              "        const buttonEl =\n",
              "          document.querySelector('#df-bcbcac89-40b7-4b9e-a079-f5d3ee4af924 button.colab-df-convert');\n",
              "        buttonEl.style.display =\n",
              "          google.colab.kernel.accessAllowed ? 'block' : 'none';\n",
              "\n",
              "        async function convertToInteractive(key) {\n",
              "          const element = document.querySelector('#df-bcbcac89-40b7-4b9e-a079-f5d3ee4af924');\n",
              "          const dataTable =\n",
              "            await google.colab.kernel.invokeFunction('convertToInteractive',\n",
              "                                                     [key], {});\n",
              "          if (!dataTable) return;\n",
              "\n",
              "          const docLinkHtml = 'Like what you see? Visit the ' +\n",
              "            '<a target=\"_blank\" href=https://colab.research.google.com/notebooks/data_table.ipynb>data table notebook</a>'\n",
              "            + ' to learn more about interactive tables.';\n",
              "          element.innerHTML = '';\n",
              "          dataTable['output_type'] = 'display_data';\n",
              "          await google.colab.output.renderOutput(dataTable, element);\n",
              "          const docLink = document.createElement('div');\n",
              "          docLink.innerHTML = docLinkHtml;\n",
              "          element.appendChild(docLink);\n",
              "        }\n",
              "      </script>\n",
              "    </div>\n",
              "  </div>\n",
              "  "
            ],
            "text/plain": [
              "        ASSIGNMENT_START_TIME  ...      DE_JOINING_DATE\n",
              "0         1613185704000000000  ...  1571961600000000000\n",
              "1         1613360184000000000  ...  1571961600000000000\n",
              "2         1614833841000000000  ...  1571961600000000000\n",
              "3         1613175160000000000  ...  1571961600000000000\n",
              "4         1614226114000000000  ...  1571961600000000000\n",
              "...                       ...  ...                  ...\n",
              "132386    1614471752000000000  ...  1600387200000000000\n",
              "132387    1614462632000000000  ...  1600387200000000000\n",
              "132388    1614472112000000000  ...  1600387200000000000\n",
              "132389    1614045272000000000  ...  1595635200000000000\n",
              "132390    1614045272000000000  ...  1595635200000000000\n",
              "\n",
              "[132391 rows x 5 columns]"
            ]
          },
          "metadata": {},
          "execution_count": 232
        }
      ]
    },
    {
      "cell_type": "code",
      "source": [
        ""
      ],
      "metadata": {
        "id": "QB80Ypr2z4B2"
      },
      "execution_count": 232,
      "outputs": []
    },
    {
      "cell_type": "markdown",
      "source": [
        "#APPROACH 2: FEATURE ENGINEERING FROM RESPECTIVE SERIES.\n",
        "we will see if we have to discard any of the derived features during EDA"
      ],
      "metadata": {
        "id": "WmOeEWrS-wKv"
      }
    },
    {
      "cell_type": "code",
      "source": [
        "time_stamp_data = df.loc[:,('ASSIGNMENT_START_TIME', 'ASSIGNMENT_END_TIME', 'LAST_PING_TIME_LAST10MIN', 'SHIFT_END_TIME', 'DE_JOINING_DATE')]\n",
        "MONTH = time_stamp_data['ASSIGNMENT_START_TIME'].dt.month\n",
        "DAY = time_stamp_data['ASSIGNMENT_END_TIME'].dt.weekday\n",
        "ASSIGNMENT_TIME = (time_stamp_data['ASSIGNMENT_END_TIME'] - time_stamp_data['ASSIGNMENT_START_TIME']).astype('timedelta64[s]')\n",
        "PING_TO_START = (time_stamp_data['ASSIGNMENT_START_TIME'] - time_stamp_data['LAST_PING_TIME_LAST10MIN']).astype('timedelta64[s]')\n",
        "DE_JOINING_DATE = pd.to_numeric(time_stamp_data['DE_JOINING_DATE'])\n",
        "shift_encoder = ce.OneHotEncoder(time_stamp_data['SHIFT_END_TIME'])\n",
        "shift_encoded = shift_encoder.fit_transform(time_stamp_data['SHIFT_END_TIME'])\n",
        "# TIME = time_stamp_data['ASSIGNMENT_START_TIME'].dt.time\n",
        "# TIME = TIME.map(lambda timestamp: 60*60*timestamp.hour + 60*timestamp.minute + 60*timestamp.second)\n",
        "\n",
        "# bins = np.linspace(TIME.min(),TIME.max(),5)\n",
        "# QUARTER = pd.cut(TIME, bins, labels = [1,2,3, 4])\n",
        "# QUARTER_encoder = ce.OneHotEncoder(QUARTER)\n",
        "# QUARTERS = QUARTER_encoder.fit_transform(QUARTER)\n",
        "\n"
      ],
      "metadata": {
        "id": "jtZGNnEuz3_C"
      },
      "execution_count": 233,
      "outputs": []
    },
    {
      "cell_type": "code",
      "source": [
        ""
      ],
      "metadata": {
        "id": "pXLU7G9mz3mD"
      },
      "execution_count": 233,
      "outputs": []
    },
    {
      "cell_type": "markdown",
      "source": [
        "#FEATURE #3 TIME STAMP DERIVED FEATURES"
      ],
      "metadata": {
        "id": "uwdTHSityU8j"
      }
    },
    {
      "cell_type": "markdown",
      "source": [
        "<hr>\n"
      ],
      "metadata": {
        "id": "N53Tdgx1ybnM"
      }
    },
    {
      "cell_type": "markdown",
      "source": [
        "###JOINING DERIVED FEATURES WITH MAIN DATASET: "
      ],
      "metadata": {
        "id": "tImb4f0s_UwZ"
      }
    },
    {
      "cell_type": "markdown",
      "source": [
        "Derived features: <br>\n",
        "- month, day, assignment_time, ping_to_start, de_joining_time\n",
        "- reject_type_encoded, dezone_encoded, czone_encoded\n",
        "- DE_ID_BINNED\n",
        "- shift_encoded. \n",
        "\n",
        "COLUMNS TO REMOVE AFTER: \n",
        "- 'ASSIGNMENT_START_TIME', 'ASSIGNMENT_END_TIME', 'LAST_PING_TIME_LAST10MIN', 'SHIFT_END_TIME', 'DE_JOINING_DATE'\n",
        "- reject_type, CUSTOMER_ZONE, DE_ZONE\n",
        "- DE_ID"
      ],
      "metadata": {
        "id": "Y2S44QCvAHjY"
      }
    },
    {
      "cell_type": "code",
      "source": [
        "df_1 = pd.concat([df,reject_type_encoded, dezone_encoded, czone_encoded, shift_encoded],axis = 1)\n",
        "df_1['DE_ID_BINNED'] = de_id_binned\n",
        "df_1['MONTH'] = MONTH\n",
        "df_1['DAY']  = DAY\n",
        "df_1['ASSIGNMENT_TIME'] = ASSIGNMENT_TIME\n",
        "df_1['PING_TO_START'] = PING_TO_START\n",
        "df_1['DE_JOINING_DATE'] = DE_JOINING_DATE"
      ],
      "metadata": {
        "id": "tQsllPij_a0F"
      },
      "execution_count": 234,
      "outputs": []
    },
    {
      "cell_type": "code",
      "source": [
        "df_1.drop(labels = ['ASSIGNMENT_START_TIME', 'ASSIGNMENT_END_TIME', 'LAST_PING_TIME_LAST10MIN', 'SHIFT_END_TIME', 'DE_JOINING_DATE', 'DE_ID', 'reject_type', 'CUSTOMER_ZONE', 'DE_ZONE_ID'], axis = 1, inplace = True)\n",
        "print(df_1.shape)\n",
        "df_1.head()\n"
      ],
      "metadata": {
        "colab": {
          "base_uri": "https://localhost:8080/",
          "height": 305
        },
        "id": "DC64P1VZ_atk",
        "outputId": "2beebf40-fdf1-4188-fa15-07ad1d9e076a"
      },
      "execution_count": 235,
      "outputs": [
        {
          "output_type": "stream",
          "name": "stdout",
          "text": [
            "(132391, 41)\n"
          ]
        },
        {
          "output_type": "execute_result",
          "data": {
            "text/html": [
              "\n",
              "  <div id=\"df-323c278a-8881-4957-ad35-8a1a214bf671\">\n",
              "    <div class=\"colab-df-container\">\n",
              "      <div>\n",
              "<style scoped>\n",
              "    .dataframe tbody tr th:only-of-type {\n",
              "        vertical-align: middle;\n",
              "    }\n",
              "\n",
              "    .dataframe tbody tr th {\n",
              "        vertical-align: top;\n",
              "    }\n",
              "\n",
              "    .dataframe thead th {\n",
              "        text-align: right;\n",
              "    }\n",
              "</style>\n",
              "<table border=\"1\" class=\"dataframe\">\n",
              "  <thead>\n",
              "    <tr style=\"text-align: right;\">\n",
              "      <th></th>\n",
              "      <th>reject_ind</th>\n",
              "      <th>LASTMILE_DISTANCE</th>\n",
              "      <th>FIRSTMILE_DISTANCE</th>\n",
              "      <th>LAST_MILE_TIME_PREDICTED</th>\n",
              "      <th>PAYOUT_MADE_TO_DE</th>\n",
              "      <th>NUM_PING_COUNT_LAST10MIN</th>\n",
              "      <th>CUSTOMER_LAT</th>\n",
              "      <th>CUSTOMER_LNG</th>\n",
              "      <th>DE_HOME_LAT</th>\n",
              "      <th>DE_HOME_LNG</th>\n",
              "      <th>reject_type_Type-4</th>\n",
              "      <th>reject_type_Type-1</th>\n",
              "      <th>reject_type_Type-2</th>\n",
              "      <th>reject_type_Type-3</th>\n",
              "      <th>DE_ZONE_ID_1</th>\n",
              "      <th>DE_ZONE_ID_2</th>\n",
              "      <th>DE_ZONE_ID_3</th>\n",
              "      <th>DE_ZONE_ID_4</th>\n",
              "      <th>DE_ZONE_ID_5</th>\n",
              "      <th>DE_ZONE_ID_6</th>\n",
              "      <th>DE_ZONE_ID_7</th>\n",
              "      <th>DE_ZONE_ID_8</th>\n",
              "      <th>CUSTOMER_ZONE_1</th>\n",
              "      <th>CUSTOMER_ZONE_2</th>\n",
              "      <th>CUSTOMER_ZONE_3</th>\n",
              "      <th>CUSTOMER_ZONE_4</th>\n",
              "      <th>CUSTOMER_ZONE_5</th>\n",
              "      <th>CUSTOMER_ZONE_6</th>\n",
              "      <th>CUSTOMER_ZONE_7</th>\n",
              "      <th>CUSTOMER_ZONE_8</th>\n",
              "      <th>SHIFT_END_TIME_1</th>\n",
              "      <th>SHIFT_END_TIME_2</th>\n",
              "      <th>SHIFT_END_TIME_3</th>\n",
              "      <th>SHIFT_END_TIME_4</th>\n",
              "      <th>SHIFT_END_TIME_5</th>\n",
              "      <th>SHIFT_END_TIME_6</th>\n",
              "      <th>DE_ID_BINNED</th>\n",
              "      <th>MONTH</th>\n",
              "      <th>DAY</th>\n",
              "      <th>ASSIGNMENT_TIME</th>\n",
              "      <th>PING_TO_START</th>\n",
              "    </tr>\n",
              "  </thead>\n",
              "  <tbody>\n",
              "    <tr>\n",
              "      <th>0</th>\n",
              "      <td>0</td>\n",
              "      <td>320.9</td>\n",
              "      <td>320.0</td>\n",
              "      <td>314.0</td>\n",
              "      <td>1810.0</td>\n",
              "      <td>63</td>\n",
              "      <td>37.377569</td>\n",
              "      <td>72.832560</td>\n",
              "      <td>37.374634</td>\n",
              "      <td>72.871986</td>\n",
              "      <td>0</td>\n",
              "      <td>0</td>\n",
              "      <td>0</td>\n",
              "      <td>0</td>\n",
              "      <td>1</td>\n",
              "      <td>0</td>\n",
              "      <td>0</td>\n",
              "      <td>0</td>\n",
              "      <td>0</td>\n",
              "      <td>0</td>\n",
              "      <td>0</td>\n",
              "      <td>0</td>\n",
              "      <td>1</td>\n",
              "      <td>0</td>\n",
              "      <td>0</td>\n",
              "      <td>0</td>\n",
              "      <td>0</td>\n",
              "      <td>0</td>\n",
              "      <td>0</td>\n",
              "      <td>0</td>\n",
              "      <td>1</td>\n",
              "      <td>0</td>\n",
              "      <td>0</td>\n",
              "      <td>0</td>\n",
              "      <td>0</td>\n",
              "      <td>0</td>\n",
              "      <td>5.0</td>\n",
              "      <td>2</td>\n",
              "      <td>5</td>\n",
              "      <td>1802.0</td>\n",
              "      <td>50.0</td>\n",
              "    </tr>\n",
              "    <tr>\n",
              "      <th>1</th>\n",
              "      <td>0</td>\n",
              "      <td>370.4</td>\n",
              "      <td>414.5</td>\n",
              "      <td>378.2</td>\n",
              "      <td>3710.0</td>\n",
              "      <td>52</td>\n",
              "      <td>37.368782</td>\n",
              "      <td>72.809458</td>\n",
              "      <td>37.374634</td>\n",
              "      <td>72.871986</td>\n",
              "      <td>0</td>\n",
              "      <td>0</td>\n",
              "      <td>0</td>\n",
              "      <td>0</td>\n",
              "      <td>1</td>\n",
              "      <td>0</td>\n",
              "      <td>0</td>\n",
              "      <td>0</td>\n",
              "      <td>0</td>\n",
              "      <td>0</td>\n",
              "      <td>0</td>\n",
              "      <td>0</td>\n",
              "      <td>1</td>\n",
              "      <td>0</td>\n",
              "      <td>0</td>\n",
              "      <td>0</td>\n",
              "      <td>0</td>\n",
              "      <td>0</td>\n",
              "      <td>0</td>\n",
              "      <td>0</td>\n",
              "      <td>1</td>\n",
              "      <td>0</td>\n",
              "      <td>0</td>\n",
              "      <td>0</td>\n",
              "      <td>0</td>\n",
              "      <td>0</td>\n",
              "      <td>5.0</td>\n",
              "      <td>2</td>\n",
              "      <td>0</td>\n",
              "      <td>1087.0</td>\n",
              "      <td>5.0</td>\n",
              "    </tr>\n",
              "    <tr>\n",
              "      <th>2</th>\n",
              "      <td>0</td>\n",
              "      <td>408.2</td>\n",
              "      <td>320.0</td>\n",
              "      <td>397.2</td>\n",
              "      <td>2760.0</td>\n",
              "      <td>9</td>\n",
              "      <td>37.374205</td>\n",
              "      <td>72.827956</td>\n",
              "      <td>37.374634</td>\n",
              "      <td>72.871986</td>\n",
              "      <td>0</td>\n",
              "      <td>0</td>\n",
              "      <td>0</td>\n",
              "      <td>0</td>\n",
              "      <td>1</td>\n",
              "      <td>0</td>\n",
              "      <td>0</td>\n",
              "      <td>0</td>\n",
              "      <td>0</td>\n",
              "      <td>0</td>\n",
              "      <td>0</td>\n",
              "      <td>0</td>\n",
              "      <td>1</td>\n",
              "      <td>0</td>\n",
              "      <td>0</td>\n",
              "      <td>0</td>\n",
              "      <td>0</td>\n",
              "      <td>0</td>\n",
              "      <td>0</td>\n",
              "      <td>0</td>\n",
              "      <td>1</td>\n",
              "      <td>0</td>\n",
              "      <td>0</td>\n",
              "      <td>0</td>\n",
              "      <td>0</td>\n",
              "      <td>0</td>\n",
              "      <td>5.0</td>\n",
              "      <td>3</td>\n",
              "      <td>3</td>\n",
              "      <td>1558.0</td>\n",
              "      <td>48.0</td>\n",
              "    </tr>\n",
              "    <tr>\n",
              "      <th>3</th>\n",
              "      <td>0</td>\n",
              "      <td>389.6</td>\n",
              "      <td>342.8</td>\n",
              "      <td>382.5</td>\n",
              "      <td>2210.0</td>\n",
              "      <td>16</td>\n",
              "      <td>37.369154</td>\n",
              "      <td>72.815318</td>\n",
              "      <td>37.374634</td>\n",
              "      <td>72.871986</td>\n",
              "      <td>0</td>\n",
              "      <td>0</td>\n",
              "      <td>0</td>\n",
              "      <td>0</td>\n",
              "      <td>1</td>\n",
              "      <td>0</td>\n",
              "      <td>0</td>\n",
              "      <td>0</td>\n",
              "      <td>0</td>\n",
              "      <td>0</td>\n",
              "      <td>0</td>\n",
              "      <td>0</td>\n",
              "      <td>1</td>\n",
              "      <td>0</td>\n",
              "      <td>0</td>\n",
              "      <td>0</td>\n",
              "      <td>0</td>\n",
              "      <td>0</td>\n",
              "      <td>0</td>\n",
              "      <td>0</td>\n",
              "      <td>1</td>\n",
              "      <td>0</td>\n",
              "      <td>0</td>\n",
              "      <td>0</td>\n",
              "      <td>0</td>\n",
              "      <td>0</td>\n",
              "      <td>5.0</td>\n",
              "      <td>2</td>\n",
              "      <td>5</td>\n",
              "      <td>2996.0</td>\n",
              "      <td>13.0</td>\n",
              "    </tr>\n",
              "    <tr>\n",
              "      <th>4</th>\n",
              "      <td>0</td>\n",
              "      <td>392.3</td>\n",
              "      <td>418.1</td>\n",
              "      <td>351.3</td>\n",
              "      <td>2460.0</td>\n",
              "      <td>13</td>\n",
              "      <td>37.376896</td>\n",
              "      <td>72.834044</td>\n",
              "      <td>37.374634</td>\n",
              "      <td>72.871986</td>\n",
              "      <td>0</td>\n",
              "      <td>0</td>\n",
              "      <td>0</td>\n",
              "      <td>0</td>\n",
              "      <td>1</td>\n",
              "      <td>0</td>\n",
              "      <td>0</td>\n",
              "      <td>0</td>\n",
              "      <td>0</td>\n",
              "      <td>0</td>\n",
              "      <td>0</td>\n",
              "      <td>0</td>\n",
              "      <td>1</td>\n",
              "      <td>0</td>\n",
              "      <td>0</td>\n",
              "      <td>0</td>\n",
              "      <td>0</td>\n",
              "      <td>0</td>\n",
              "      <td>0</td>\n",
              "      <td>0</td>\n",
              "      <td>1</td>\n",
              "      <td>0</td>\n",
              "      <td>0</td>\n",
              "      <td>0</td>\n",
              "      <td>0</td>\n",
              "      <td>0</td>\n",
              "      <td>5.0</td>\n",
              "      <td>2</td>\n",
              "      <td>3</td>\n",
              "      <td>1317.0</td>\n",
              "      <td>36.0</td>\n",
              "    </tr>\n",
              "  </tbody>\n",
              "</table>\n",
              "</div>\n",
              "      <button class=\"colab-df-convert\" onclick=\"convertToInteractive('df-323c278a-8881-4957-ad35-8a1a214bf671')\"\n",
              "              title=\"Convert this dataframe to an interactive table.\"\n",
              "              style=\"display:none;\">\n",
              "        \n",
              "  <svg xmlns=\"http://www.w3.org/2000/svg\" height=\"24px\"viewBox=\"0 0 24 24\"\n",
              "       width=\"24px\">\n",
              "    <path d=\"M0 0h24v24H0V0z\" fill=\"none\"/>\n",
              "    <path d=\"M18.56 5.44l.94 2.06.94-2.06 2.06-.94-2.06-.94-.94-2.06-.94 2.06-2.06.94zm-11 1L8.5 8.5l.94-2.06 2.06-.94-2.06-.94L8.5 2.5l-.94 2.06-2.06.94zm10 10l.94 2.06.94-2.06 2.06-.94-2.06-.94-.94-2.06-.94 2.06-2.06.94z\"/><path d=\"M17.41 7.96l-1.37-1.37c-.4-.4-.92-.59-1.43-.59-.52 0-1.04.2-1.43.59L10.3 9.45l-7.72 7.72c-.78.78-.78 2.05 0 2.83L4 21.41c.39.39.9.59 1.41.59.51 0 1.02-.2 1.41-.59l7.78-7.78 2.81-2.81c.8-.78.8-2.07 0-2.86zM5.41 20L4 18.59l7.72-7.72 1.47 1.35L5.41 20z\"/>\n",
              "  </svg>\n",
              "      </button>\n",
              "      \n",
              "  <style>\n",
              "    .colab-df-container {\n",
              "      display:flex;\n",
              "      flex-wrap:wrap;\n",
              "      gap: 12px;\n",
              "    }\n",
              "\n",
              "    .colab-df-convert {\n",
              "      background-color: #E8F0FE;\n",
              "      border: none;\n",
              "      border-radius: 50%;\n",
              "      cursor: pointer;\n",
              "      display: none;\n",
              "      fill: #1967D2;\n",
              "      height: 32px;\n",
              "      padding: 0 0 0 0;\n",
              "      width: 32px;\n",
              "    }\n",
              "\n",
              "    .colab-df-convert:hover {\n",
              "      background-color: #E2EBFA;\n",
              "      box-shadow: 0px 1px 2px rgba(60, 64, 67, 0.3), 0px 1px 3px 1px rgba(60, 64, 67, 0.15);\n",
              "      fill: #174EA6;\n",
              "    }\n",
              "\n",
              "    [theme=dark] .colab-df-convert {\n",
              "      background-color: #3B4455;\n",
              "      fill: #D2E3FC;\n",
              "    }\n",
              "\n",
              "    [theme=dark] .colab-df-convert:hover {\n",
              "      background-color: #434B5C;\n",
              "      box-shadow: 0px 1px 3px 1px rgba(0, 0, 0, 0.15);\n",
              "      filter: drop-shadow(0px 1px 2px rgba(0, 0, 0, 0.3));\n",
              "      fill: #FFFFFF;\n",
              "    }\n",
              "  </style>\n",
              "\n",
              "      <script>\n",
              "        const buttonEl =\n",
              "          document.querySelector('#df-323c278a-8881-4957-ad35-8a1a214bf671 button.colab-df-convert');\n",
              "        buttonEl.style.display =\n",
              "          google.colab.kernel.accessAllowed ? 'block' : 'none';\n",
              "\n",
              "        async function convertToInteractive(key) {\n",
              "          const element = document.querySelector('#df-323c278a-8881-4957-ad35-8a1a214bf671');\n",
              "          const dataTable =\n",
              "            await google.colab.kernel.invokeFunction('convertToInteractive',\n",
              "                                                     [key], {});\n",
              "          if (!dataTable) return;\n",
              "\n",
              "          const docLinkHtml = 'Like what you see? Visit the ' +\n",
              "            '<a target=\"_blank\" href=https://colab.research.google.com/notebooks/data_table.ipynb>data table notebook</a>'\n",
              "            + ' to learn more about interactive tables.';\n",
              "          element.innerHTML = '';\n",
              "          dataTable['output_type'] = 'display_data';\n",
              "          await google.colab.output.renderOutput(dataTable, element);\n",
              "          const docLink = document.createElement('div');\n",
              "          docLink.innerHTML = docLinkHtml;\n",
              "          element.appendChild(docLink);\n",
              "        }\n",
              "      </script>\n",
              "    </div>\n",
              "  </div>\n",
              "  "
            ],
            "text/plain": [
              "   reject_ind  LASTMILE_DISTANCE  ...  ASSIGNMENT_TIME  PING_TO_START\n",
              "0           0              320.9  ...           1802.0           50.0\n",
              "1           0              370.4  ...           1087.0            5.0\n",
              "2           0              408.2  ...           1558.0           48.0\n",
              "3           0              389.6  ...           2996.0           13.0\n",
              "4           0              392.3  ...           1317.0           36.0\n",
              "\n",
              "[5 rows x 41 columns]"
            ]
          },
          "metadata": {},
          "execution_count": 235
        }
      ]
    },
    {
      "cell_type": "code",
      "source": [
        ""
      ],
      "metadata": {
        "id": "aa3jb6Dp_aqJ"
      },
      "execution_count": 235,
      "outputs": []
    },
    {
      "cell_type": "code",
      "source": [
        ""
      ],
      "metadata": {
        "id": "lWm-vxX-_anQ"
      },
      "execution_count": 235,
      "outputs": []
    },
    {
      "cell_type": "code",
      "source": [
        ""
      ],
      "metadata": {
        "id": "G4_J8VXf_akC"
      },
      "execution_count": 235,
      "outputs": []
    },
    {
      "cell_type": "markdown",
      "source": [
        "#EXPLORATORY DATA ANALYSIS"
      ],
      "metadata": {
        "id": "gtdxWSpBykiN"
      }
    },
    {
      "cell_type": "code",
      "source": [
        ""
      ],
      "metadata": {
        "id": "j71yL_k_ynjF"
      },
      "execution_count": 235,
      "outputs": []
    },
    {
      "cell_type": "code",
      "source": [
        "sns.jointplot(x = df.CUSTOMER_LAT, y = df.CUSTOMER_LNG, hue = df.reject_ind)"
      ],
      "metadata": {
        "colab": {
          "base_uri": "https://localhost:8080/",
          "height": 458
        },
        "id": "t8Pr72vlsEgw",
        "outputId": "b894f444-802a-4160-a15e-13ff1721d09f"
      },
      "execution_count": 236,
      "outputs": [
        {
          "output_type": "execute_result",
          "data": {
            "text/plain": [
              "<seaborn.axisgrid.JointGrid at 0x7f4848cac1d0>"
            ]
          },
          "metadata": {},
          "execution_count": 236
        },
        {
          "output_type": "display_data",
          "data": {
            "image/png": "[encoded data removed]",
            "text/plain": [
              "<Figure size 432x432 with 3 Axes>"
            ]
          },
          "metadata": {
            "needs_background": "light"
          }
        }
      ]
    },
    {
      "cell_type": "markdown",
      "source": [
        "* missing values - done\n",
        "* removing redundant columns -done\n",
        "* data cleaning - done\n",
        "* Merging the datasets - done\n",
        "* feature engineering - done\n",
        "* joining derived features with main dataset - done\n",
        "* Exploratory data analysis\n",
        "* normalization"
      ],
      "metadata": {
        "id": "iIYbEuAanlKq"
      }
    },
    {
      "cell_type": "markdown",
      "source": [
        "#### this was quite a bummer, I was expecting a ring of fire around the city."
      ],
      "metadata": {
        "id": "WFcGNW6Jvud5"
      }
    },
    {
      "cell_type": "code",
      "source": [
        "df_1.columns"
      ],
      "metadata": {
        "colab": {
          "base_uri": "https://localhost:8080/"
        },
        "id": "P22PO6iUsgVN",
        "outputId": "e785daf6-7749-466e-a77b-cbb5cfaf0d84"
      },
      "execution_count": 237,
      "outputs": [
        {
          "output_type": "execute_result",
          "data": {
            "text/plain": [
              "Index(['reject_ind', 'LASTMILE_DISTANCE', 'FIRSTMILE_DISTANCE',\n",
              "       'LAST_MILE_TIME_PREDICTED', 'PAYOUT_MADE_TO_DE',\n",
              "       'NUM_PING_COUNT_LAST10MIN', 'CUSTOMER_LAT', 'CUSTOMER_LNG',\n",
              "       'DE_HOME_LAT', 'DE_HOME_LNG', 'reject_type_Type-4',\n",
              "       'reject_type_Type-1', 'reject_type_Type-2', 'reject_type_Type-3',\n",
              "       'DE_ZONE_ID_1', 'DE_ZONE_ID_2', 'DE_ZONE_ID_3', 'DE_ZONE_ID_4',\n",
              "       'DE_ZONE_ID_5', 'DE_ZONE_ID_6', 'DE_ZONE_ID_7', 'DE_ZONE_ID_8',\n",
              "       'CUSTOMER_ZONE_1', 'CUSTOMER_ZONE_2', 'CUSTOMER_ZONE_3',\n",
              "       'CUSTOMER_ZONE_4', 'CUSTOMER_ZONE_5', 'CUSTOMER_ZONE_6',\n",
              "       'CUSTOMER_ZONE_7', 'CUSTOMER_ZONE_8', 'SHIFT_END_TIME_1',\n",
              "       'SHIFT_END_TIME_2', 'SHIFT_END_TIME_3', 'SHIFT_END_TIME_4',\n",
              "       'SHIFT_END_TIME_5', 'SHIFT_END_TIME_6', 'DE_ID_BINNED', 'MONTH', 'DAY',\n",
              "       'ASSIGNMENT_TIME', 'PING_TO_START'],\n",
              "      dtype='object')"
            ]
          },
          "metadata": {},
          "execution_count": 237
        }
      ]
    },
    {
      "cell_type": "code",
      "source": [
        "#COLLECTING THE FEATURES THAT ARE CONTINUOUS VARIABLES;\n",
        "proj = df_1.loc[:,('LASTMILE_DISTANCE','FIRSTMILE_DISTANCE','LAST_MILE_TIME_PREDICTED','PAYOUT_MADE_TO_DE','NUM_PING_COUNT_LAST10MIN','ASSIGNMENT_TIME','PING_TO_START')]\n",
        "proj.corr()"
      ],
      "metadata": {
        "colab": {
          "base_uri": "https://localhost:8080/",
          "height": 269
        },
        "id": "Gb1OhJYLx3RU",
        "outputId": "e490728e-eefe-4959-ba0c-4792597ef4eb"
      },
      "execution_count": 238,
      "outputs": [
        {
          "output_type": "execute_result",
          "data": {
            "text/html": [
              "\n",
              "  <div id=\"df-28d62bae-bc7a-49ad-a992-d24645a09f94\">\n",
              "    <div class=\"colab-df-container\">\n",
              "      <div>\n",
              "<style scoped>\n",
              "    .dataframe tbody tr th:only-of-type {\n",
              "        vertical-align: middle;\n",
              "    }\n",
              "\n",
              "    .dataframe tbody tr th {\n",
              "        vertical-align: top;\n",
              "    }\n",
              "\n",
              "    .dataframe thead th {\n",
              "        text-align: right;\n",
              "    }\n",
              "</style>\n",
              "<table border=\"1\" class=\"dataframe\">\n",
              "  <thead>\n",
              "    <tr style=\"text-align: right;\">\n",
              "      <th></th>\n",
              "      <th>LASTMILE_DISTANCE</th>\n",
              "      <th>FIRSTMILE_DISTANCE</th>\n",
              "      <th>LAST_MILE_TIME_PREDICTED</th>\n",
              "      <th>PAYOUT_MADE_TO_DE</th>\n",
              "      <th>NUM_PING_COUNT_LAST10MIN</th>\n",
              "      <th>ASSIGNMENT_TIME</th>\n",
              "      <th>PING_TO_START</th>\n",
              "    </tr>\n",
              "  </thead>\n",
              "  <tbody>\n",
              "    <tr>\n",
              "      <th>LASTMILE_DISTANCE</th>\n",
              "      <td>1.000000</td>\n",
              "      <td>0.141388</td>\n",
              "      <td>0.812690</td>\n",
              "      <td>0.647271</td>\n",
              "      <td>-0.062587</td>\n",
              "      <td>0.283860</td>\n",
              "      <td>0.009928</td>\n",
              "    </tr>\n",
              "    <tr>\n",
              "      <th>FIRSTMILE_DISTANCE</th>\n",
              "      <td>0.141388</td>\n",
              "      <td>1.000000</td>\n",
              "      <td>0.128451</td>\n",
              "      <td>0.173776</td>\n",
              "      <td>0.116912</td>\n",
              "      <td>0.034228</td>\n",
              "      <td>-0.014501</td>\n",
              "    </tr>\n",
              "    <tr>\n",
              "      <th>LAST_MILE_TIME_PREDICTED</th>\n",
              "      <td>0.812690</td>\n",
              "      <td>0.128451</td>\n",
              "      <td>1.000000</td>\n",
              "      <td>0.475771</td>\n",
              "      <td>-0.066383</td>\n",
              "      <td>0.357955</td>\n",
              "      <td>0.007902</td>\n",
              "    </tr>\n",
              "    <tr>\n",
              "      <th>PAYOUT_MADE_TO_DE</th>\n",
              "      <td>0.647271</td>\n",
              "      <td>0.173776</td>\n",
              "      <td>0.475771</td>\n",
              "      <td>1.000000</td>\n",
              "      <td>0.020726</td>\n",
              "      <td>0.446833</td>\n",
              "      <td>-0.084857</td>\n",
              "    </tr>\n",
              "    <tr>\n",
              "      <th>NUM_PING_COUNT_LAST10MIN</th>\n",
              "      <td>-0.062587</td>\n",
              "      <td>0.116912</td>\n",
              "      <td>-0.066383</td>\n",
              "      <td>0.020726</td>\n",
              "      <td>1.000000</td>\n",
              "      <td>-0.043127</td>\n",
              "      <td>-0.159644</td>\n",
              "    </tr>\n",
              "    <tr>\n",
              "      <th>ASSIGNMENT_TIME</th>\n",
              "      <td>0.283860</td>\n",
              "      <td>0.034228</td>\n",
              "      <td>0.357955</td>\n",
              "      <td>0.446833</td>\n",
              "      <td>-0.043127</td>\n",
              "      <td>1.000000</td>\n",
              "      <td>-0.059596</td>\n",
              "    </tr>\n",
              "    <tr>\n",
              "      <th>PING_TO_START</th>\n",
              "      <td>0.009928</td>\n",
              "      <td>-0.014501</td>\n",
              "      <td>0.007902</td>\n",
              "      <td>-0.084857</td>\n",
              "      <td>-0.159644</td>\n",
              "      <td>-0.059596</td>\n",
              "      <td>1.000000</td>\n",
              "    </tr>\n",
              "  </tbody>\n",
              "</table>\n",
              "</div>\n",
              "      <button class=\"colab-df-convert\" onclick=\"convertToInteractive('df-28d62bae-bc7a-49ad-a992-d24645a09f94')\"\n",
              "              title=\"Convert this dataframe to an interactive table.\"\n",
              "              style=\"display:none;\">\n",
              "        \n",
              "  <svg xmlns=\"http://www.w3.org/2000/svg\" height=\"24px\"viewBox=\"0 0 24 24\"\n",
              "       width=\"24px\">\n",
              "    <path d=\"M0 0h24v24H0V0z\" fill=\"none\"/>\n",
              "    <path d=\"M18.56 5.44l.94 2.06.94-2.06 2.06-.94-2.06-.94-.94-2.06-.94 2.06-2.06.94zm-11 1L8.5 8.5l.94-2.06 2.06-.94-2.06-.94L8.5 2.5l-.94 2.06-2.06.94zm10 10l.94 2.06.94-2.06 2.06-.94-2.06-.94-.94-2.06-.94 2.06-2.06.94z\"/><path d=\"M17.41 7.96l-1.37-1.37c-.4-.4-.92-.59-1.43-.59-.52 0-1.04.2-1.43.59L10.3 9.45l-7.72 7.72c-.78.78-.78 2.05 0 2.83L4 21.41c.39.39.9.59 1.41.59.51 0 1.02-.2 1.41-.59l7.78-7.78 2.81-2.81c.8-.78.8-2.07 0-2.86zM5.41 20L4 18.59l7.72-7.72 1.47 1.35L5.41 20z\"/>\n",
              "  </svg>\n",
              "      </button>\n",
              "      \n",
              "  <style>\n",
              "    .colab-df-container {\n",
              "      display:flex;\n",
              "      flex-wrap:wrap;\n",
              "      gap: 12px;\n",
              "    }\n",
              "\n",
              "    .colab-df-convert {\n",
              "      background-color: #E8F0FE;\n",
              "      border: none;\n",
              "      border-radius: 50%;\n",
              "      cursor: pointer;\n",
              "      display: none;\n",
              "      fill: #1967D2;\n",
              "      height: 32px;\n",
              "      padding: 0 0 0 0;\n",
              "      width: 32px;\n",
              "    }\n",
              "\n",
              "    .colab-df-convert:hover {\n",
              "      background-color: #E2EBFA;\n",
              "      box-shadow: 0px 1px 2px rgba(60, 64, 67, 0.3), 0px 1px 3px 1px rgba(60, 64, 67, 0.15);\n",
              "      fill: #174EA6;\n",
              "    }\n",
              "\n",
              "    [theme=dark] .colab-df-convert {\n",
              "      background-color: #3B4455;\n",
              "      fill: #D2E3FC;\n",
              "    }\n",
              "\n",
              "    [theme=dark] .colab-df-convert:hover {\n",
              "      background-color: #434B5C;\n",
              "      box-shadow: 0px 1px 3px 1px rgba(0, 0, 0, 0.15);\n",
              "      filter: drop-shadow(0px 1px 2px rgba(0, 0, 0, 0.3));\n",
              "      fill: #FFFFFF;\n",
              "    }\n",
              "  </style>\n",
              "\n",
              "      <script>\n",
              "        const buttonEl =\n",
              "          document.querySelector('#df-28d62bae-bc7a-49ad-a992-d24645a09f94 button.colab-df-convert');\n",
              "        buttonEl.style.display =\n",
              "          google.colab.kernel.accessAllowed ? 'block' : 'none';\n",
              "\n",
              "        async function convertToInteractive(key) {\n",
              "          const element = document.querySelector('#df-28d62bae-bc7a-49ad-a992-d24645a09f94');\n",
              "          const dataTable =\n",
              "            await google.colab.kernel.invokeFunction('convertToInteractive',\n",
              "                                                     [key], {});\n",
              "          if (!dataTable) return;\n",
              "\n",
              "          const docLinkHtml = 'Like what you see? Visit the ' +\n",
              "            '<a target=\"_blank\" href=https://colab.research.google.com/notebooks/data_table.ipynb>data table notebook</a>'\n",
              "            + ' to learn more about interactive tables.';\n",
              "          element.innerHTML = '';\n",
              "          dataTable['output_type'] = 'display_data';\n",
              "          await google.colab.output.renderOutput(dataTable, element);\n",
              "          const docLink = document.createElement('div');\n",
              "          docLink.innerHTML = docLinkHtml;\n",
              "          element.appendChild(docLink);\n",
              "        }\n",
              "      </script>\n",
              "    </div>\n",
              "  </div>\n",
              "  "
            ],
            "text/plain": [
              "                          LASTMILE_DISTANCE  ...  PING_TO_START\n",
              "LASTMILE_DISTANCE                  1.000000  ...       0.009928\n",
              "FIRSTMILE_DISTANCE                 0.141388  ...      -0.014501\n",
              "LAST_MILE_TIME_PREDICTED           0.812690  ...       0.007902\n",
              "PAYOUT_MADE_TO_DE                  0.647271  ...      -0.084857\n",
              "NUM_PING_COUNT_LAST10MIN          -0.062587  ...      -0.159644\n",
              "ASSIGNMENT_TIME                    0.283860  ...      -0.059596\n",
              "PING_TO_START                      0.009928  ...       1.000000\n",
              "\n",
              "[7 rows x 7 columns]"
            ]
          },
          "metadata": {},
          "execution_count": 238
        }
      ]
    },
    {
      "cell_type": "code",
      "source": [
        "dataplot = sns.heatmap(proj.corr(),cmap = \"YlGnBu\", annot = True)\n",
        "plt.show()"
      ],
      "metadata": {
        "colab": {
          "base_uri": "https://localhost:8080/",
          "height": 414
        },
        "id": "2jyZ3-hh_s8a",
        "outputId": "b7ce2dda-2efc-4891-e551-1e7703dde762"
      },
      "execution_count": 248,
      "outputs": [
        {
          "output_type": "display_data",
          "data": {
            "image/png": "[encoded data removed]",
            "text/plain": [
              "<Figure size 432x288 with 2 Axes>"
            ]
          },
          "metadata": {
            "needs_background": "light"
          }
        }
      ]
    },
    {
      "cell_type": "markdown",
      "source": [
        "we can see that there is a high correlation between LASTMILE_DISTANCE AND LAST_MILE_TIME_PREDICTED. So it is only logical to remove one of them. \n"
      ],
      "metadata": {
        "id": "Lw1oUK40FcMx"
      }
    },
    {
      "cell_type": "code",
      "source": [
        "df_1.drop(columns = ['LAST_MILE_TIME_PREDICTED']  ,inplace = True)"
      ],
      "metadata": {
        "id": "DNiHNJ5DyiId"
      },
      "execution_count": 239,
      "outputs": []
    },
    {
      "cell_type": "code",
      "source": [
        "sns.countplot(df_1.MONTH,hue= df_1.reject_ind)"
      ],
      "metadata": {
        "colab": {
          "base_uri": "https://localhost:8080/",
          "height": 355
        },
        "id": "uNUxZ5HHFRZy",
        "outputId": "f7480400-2ae9-4620-b4c0-add91fc3ef8f"
      },
      "execution_count": 240,
      "outputs": [
        {
          "output_type": "stream",
          "name": "stderr",
          "text": [
            "/usr/local/lib/python3.7/dist-packages/seaborn/_decorators.py:43: FutureWarning: Pass the following variable as a keyword arg: x. From version 0.12, the only valid positional argument will be `data`, and passing other arguments without an explicit keyword will result in an error or misinterpretation.\n",
            "  FutureWarning\n"
          ]
        },
        {
          "output_type": "execute_result",
          "data": {
            "text/plain": [
              "<matplotlib.axes._subplots.AxesSubplot at 0x7f4846d68d50>"
            ]
          },
          "metadata": {},
          "execution_count": 240
        },
        {
          "output_type": "display_data",
          "data": {
            "image/png": "[encoded data removed]",
            "text/plain": [
              "<Figure size 432x288 with 1 Axes>"
            ]
          },
          "metadata": {
            "needs_background": "light"
          }
        }
      ]
    },
    {
      "cell_type": "code",
      "source": [
        "sns.countplot(df.CUSTOMER_ZONE, hue = df.reject_ind)\n"
      ],
      "metadata": {
        "colab": {
          "base_uri": "https://localhost:8080/",
          "height": 352
        },
        "id": "M43_hm2jIx2y",
        "outputId": "c8844a98-e381-4c22-ca7a-224ed33e1877"
      },
      "execution_count": 241,
      "outputs": [
        {
          "output_type": "stream",
          "name": "stderr",
          "text": [
            "/usr/local/lib/python3.7/dist-packages/seaborn/_decorators.py:43: FutureWarning: Pass the following variable as a keyword arg: x. From version 0.12, the only valid positional argument will be `data`, and passing other arguments without an explicit keyword will result in an error or misinterpretation.\n",
            "  FutureWarning\n"
          ]
        },
        {
          "output_type": "execute_result",
          "data": {
            "text/plain": [
              "<matplotlib.axes._subplots.AxesSubplot at 0x7f484855d510>"
            ]
          },
          "metadata": {},
          "execution_count": 241
        },
        {
          "output_type": "display_data",
          "data": {
            "image/png": "[encoded data removed]",
            "text/plain": [
              "<Figure size 432x288 with 1 Axes>"
            ]
          },
          "metadata": {
            "needs_background": "light"
          }
        }
      ]
    },
    {
      "cell_type": "code",
      "source": [
        "sns.countplot(df.DE_ZONE_ID,hue = df.reject_ind)"
      ],
      "metadata": {
        "colab": {
          "base_uri": "https://localhost:8080/",
          "height": 352
        },
        "id": "x4zWx9w6J63O",
        "outputId": "a038e1e2-a025-41e2-d7ee-9acd38dfd673"
      },
      "execution_count": 242,
      "outputs": [
        {
          "output_type": "stream",
          "name": "stderr",
          "text": [
            "/usr/local/lib/python3.7/dist-packages/seaborn/_decorators.py:43: FutureWarning: Pass the following variable as a keyword arg: x. From version 0.12, the only valid positional argument will be `data`, and passing other arguments without an explicit keyword will result in an error or misinterpretation.\n",
            "  FutureWarning\n"
          ]
        },
        {
          "output_type": "execute_result",
          "data": {
            "text/plain": [
              "<matplotlib.axes._subplots.AxesSubplot at 0x7f48484dbd50>"
            ]
          },
          "metadata": {},
          "execution_count": 242
        },
        {
          "output_type": "display_data",
          "data": {
            "image/png": "[encoded data removed]",
            "text/plain": [
              "<Figure size 432x288 with 1 Axes>"
            ]
          },
          "metadata": {
            "needs_background": "light"
          }
        }
      ]
    },
    {
      "cell_type": "code",
      "source": [
        "df.CUSTOMER_ZONE.value_counts()"
      ],
      "metadata": {
        "colab": {
          "base_uri": "https://localhost:8080/"
        },
        "id": "bveCJluCKWZM",
        "outputId": "995b90a4-efd4-4c29-aea6-4a580b36426e"
      },
      "execution_count": 243,
      "outputs": [
        {
          "output_type": "execute_result",
          "data": {
            "text/plain": [
              "375.0    26945\n",
              "372.0    20807\n",
              "382.0    18550\n",
              "624.0    17636\n",
              "373.0    14620\n",
              "841.0    14518\n",
              "374.0    12380\n",
              "668.0     6935\n",
              "Name: CUSTOMER_ZONE, dtype: int64"
            ]
          },
          "metadata": {},
          "execution_count": 243
        }
      ]
    },
    {
      "cell_type": "code",
      "source": [
        ""
      ],
      "metadata": {
        "id": "c3OyeudBwxsY"
      },
      "execution_count": 243,
      "outputs": []
    },
    {
      "cell_type": "code",
      "source": [
        "df_1.head()"
      ],
      "metadata": {
        "colab": {
          "base_uri": "https://localhost:8080/",
          "height": 288
        },
        "id": "Vg1vNo_Cwxj9",
        "outputId": "c18dc487-98ae-442a-bc41-ca26eefdc5ff"
      },
      "execution_count": 244,
      "outputs": [
        {
          "output_type": "execute_result",
          "data": {
            "text/html": [
              "\n",
              "  <div id=\"df-02708513-db2d-4416-9532-4bf8cd65fcc0\">\n",
              "    <div class=\"colab-df-container\">\n",
              "      <div>\n",
              "<style scoped>\n",
              "    .dataframe tbody tr th:only-of-type {\n",
              "        vertical-align: middle;\n",
              "    }\n",
              "\n",
              "    .dataframe tbody tr th {\n",
              "        vertical-align: top;\n",
              "    }\n",
              "\n",
              "    .dataframe thead th {\n",
              "        text-align: right;\n",
              "    }\n",
              "</style>\n",
              "<table border=\"1\" class=\"dataframe\">\n",
              "  <thead>\n",
              "    <tr style=\"text-align: right;\">\n",
              "      <th></th>\n",
              "      <th>reject_ind</th>\n",
              "      <th>LASTMILE_DISTANCE</th>\n",
              "      <th>FIRSTMILE_DISTANCE</th>\n",
              "      <th>PAYOUT_MADE_TO_DE</th>\n",
              "      <th>NUM_PING_COUNT_LAST10MIN</th>\n",
              "      <th>CUSTOMER_LAT</th>\n",
              "      <th>CUSTOMER_LNG</th>\n",
              "      <th>DE_HOME_LAT</th>\n",
              "      <th>DE_HOME_LNG</th>\n",
              "      <th>reject_type_Type-4</th>\n",
              "      <th>reject_type_Type-1</th>\n",
              "      <th>reject_type_Type-2</th>\n",
              "      <th>reject_type_Type-3</th>\n",
              "      <th>DE_ZONE_ID_1</th>\n",
              "      <th>DE_ZONE_ID_2</th>\n",
              "      <th>DE_ZONE_ID_3</th>\n",
              "      <th>DE_ZONE_ID_4</th>\n",
              "      <th>DE_ZONE_ID_5</th>\n",
              "      <th>DE_ZONE_ID_6</th>\n",
              "      <th>DE_ZONE_ID_7</th>\n",
              "      <th>DE_ZONE_ID_8</th>\n",
              "      <th>CUSTOMER_ZONE_1</th>\n",
              "      <th>CUSTOMER_ZONE_2</th>\n",
              "      <th>CUSTOMER_ZONE_3</th>\n",
              "      <th>CUSTOMER_ZONE_4</th>\n",
              "      <th>CUSTOMER_ZONE_5</th>\n",
              "      <th>CUSTOMER_ZONE_6</th>\n",
              "      <th>CUSTOMER_ZONE_7</th>\n",
              "      <th>CUSTOMER_ZONE_8</th>\n",
              "      <th>SHIFT_END_TIME_1</th>\n",
              "      <th>SHIFT_END_TIME_2</th>\n",
              "      <th>SHIFT_END_TIME_3</th>\n",
              "      <th>SHIFT_END_TIME_4</th>\n",
              "      <th>SHIFT_END_TIME_5</th>\n",
              "      <th>SHIFT_END_TIME_6</th>\n",
              "      <th>DE_ID_BINNED</th>\n",
              "      <th>MONTH</th>\n",
              "      <th>DAY</th>\n",
              "      <th>ASSIGNMENT_TIME</th>\n",
              "      <th>PING_TO_START</th>\n",
              "    </tr>\n",
              "  </thead>\n",
              "  <tbody>\n",
              "    <tr>\n",
              "      <th>0</th>\n",
              "      <td>0</td>\n",
              "      <td>320.9</td>\n",
              "      <td>320.0</td>\n",
              "      <td>1810.0</td>\n",
              "      <td>63</td>\n",
              "      <td>37.377569</td>\n",
              "      <td>72.832560</td>\n",
              "      <td>37.374634</td>\n",
              "      <td>72.871986</td>\n",
              "      <td>0</td>\n",
              "      <td>0</td>\n",
              "      <td>0</td>\n",
              "      <td>0</td>\n",
              "      <td>1</td>\n",
              "      <td>0</td>\n",
              "      <td>0</td>\n",
              "      <td>0</td>\n",
              "      <td>0</td>\n",
              "      <td>0</td>\n",
              "      <td>0</td>\n",
              "      <td>0</td>\n",
              "      <td>1</td>\n",
              "      <td>0</td>\n",
              "      <td>0</td>\n",
              "      <td>0</td>\n",
              "      <td>0</td>\n",
              "      <td>0</td>\n",
              "      <td>0</td>\n",
              "      <td>0</td>\n",
              "      <td>1</td>\n",
              "      <td>0</td>\n",
              "      <td>0</td>\n",
              "      <td>0</td>\n",
              "      <td>0</td>\n",
              "      <td>0</td>\n",
              "      <td>5.0</td>\n",
              "      <td>2</td>\n",
              "      <td>5</td>\n",
              "      <td>1802.0</td>\n",
              "      <td>50.0</td>\n",
              "    </tr>\n",
              "    <tr>\n",
              "      <th>1</th>\n",
              "      <td>0</td>\n",
              "      <td>370.4</td>\n",
              "      <td>414.5</td>\n",
              "      <td>3710.0</td>\n",
              "      <td>52</td>\n",
              "      <td>37.368782</td>\n",
              "      <td>72.809458</td>\n",
              "      <td>37.374634</td>\n",
              "      <td>72.871986</td>\n",
              "      <td>0</td>\n",
              "      <td>0</td>\n",
              "      <td>0</td>\n",
              "      <td>0</td>\n",
              "      <td>1</td>\n",
              "      <td>0</td>\n",
              "      <td>0</td>\n",
              "      <td>0</td>\n",
              "      <td>0</td>\n",
              "      <td>0</td>\n",
              "      <td>0</td>\n",
              "      <td>0</td>\n",
              "      <td>1</td>\n",
              "      <td>0</td>\n",
              "      <td>0</td>\n",
              "      <td>0</td>\n",
              "      <td>0</td>\n",
              "      <td>0</td>\n",
              "      <td>0</td>\n",
              "      <td>0</td>\n",
              "      <td>1</td>\n",
              "      <td>0</td>\n",
              "      <td>0</td>\n",
              "      <td>0</td>\n",
              "      <td>0</td>\n",
              "      <td>0</td>\n",
              "      <td>5.0</td>\n",
              "      <td>2</td>\n",
              "      <td>0</td>\n",
              "      <td>1087.0</td>\n",
              "      <td>5.0</td>\n",
              "    </tr>\n",
              "    <tr>\n",
              "      <th>2</th>\n",
              "      <td>0</td>\n",
              "      <td>408.2</td>\n",
              "      <td>320.0</td>\n",
              "      <td>2760.0</td>\n",
              "      <td>9</td>\n",
              "      <td>37.374205</td>\n",
              "      <td>72.827956</td>\n",
              "      <td>37.374634</td>\n",
              "      <td>72.871986</td>\n",
              "      <td>0</td>\n",
              "      <td>0</td>\n",
              "      <td>0</td>\n",
              "      <td>0</td>\n",
              "      <td>1</td>\n",
              "      <td>0</td>\n",
              "      <td>0</td>\n",
              "      <td>0</td>\n",
              "      <td>0</td>\n",
              "      <td>0</td>\n",
              "      <td>0</td>\n",
              "      <td>0</td>\n",
              "      <td>1</td>\n",
              "      <td>0</td>\n",
              "      <td>0</td>\n",
              "      <td>0</td>\n",
              "      <td>0</td>\n",
              "      <td>0</td>\n",
              "      <td>0</td>\n",
              "      <td>0</td>\n",
              "      <td>1</td>\n",
              "      <td>0</td>\n",
              "      <td>0</td>\n",
              "      <td>0</td>\n",
              "      <td>0</td>\n",
              "      <td>0</td>\n",
              "      <td>5.0</td>\n",
              "      <td>3</td>\n",
              "      <td>3</td>\n",
              "      <td>1558.0</td>\n",
              "      <td>48.0</td>\n",
              "    </tr>\n",
              "    <tr>\n",
              "      <th>3</th>\n",
              "      <td>0</td>\n",
              "      <td>389.6</td>\n",
              "      <td>342.8</td>\n",
              "      <td>2210.0</td>\n",
              "      <td>16</td>\n",
              "      <td>37.369154</td>\n",
              "      <td>72.815318</td>\n",
              "      <td>37.374634</td>\n",
              "      <td>72.871986</td>\n",
              "      <td>0</td>\n",
              "      <td>0</td>\n",
              "      <td>0</td>\n",
              "      <td>0</td>\n",
              "      <td>1</td>\n",
              "      <td>0</td>\n",
              "      <td>0</td>\n",
              "      <td>0</td>\n",
              "      <td>0</td>\n",
              "      <td>0</td>\n",
              "      <td>0</td>\n",
              "      <td>0</td>\n",
              "      <td>1</td>\n",
              "      <td>0</td>\n",
              "      <td>0</td>\n",
              "      <td>0</td>\n",
              "      <td>0</td>\n",
              "      <td>0</td>\n",
              "      <td>0</td>\n",
              "      <td>0</td>\n",
              "      <td>1</td>\n",
              "      <td>0</td>\n",
              "      <td>0</td>\n",
              "      <td>0</td>\n",
              "      <td>0</td>\n",
              "      <td>0</td>\n",
              "      <td>5.0</td>\n",
              "      <td>2</td>\n",
              "      <td>5</td>\n",
              "      <td>2996.0</td>\n",
              "      <td>13.0</td>\n",
              "    </tr>\n",
              "    <tr>\n",
              "      <th>4</th>\n",
              "      <td>0</td>\n",
              "      <td>392.3</td>\n",
              "      <td>418.1</td>\n",
              "      <td>2460.0</td>\n",
              "      <td>13</td>\n",
              "      <td>37.376896</td>\n",
              "      <td>72.834044</td>\n",
              "      <td>37.374634</td>\n",
              "      <td>72.871986</td>\n",
              "      <td>0</td>\n",
              "      <td>0</td>\n",
              "      <td>0</td>\n",
              "      <td>0</td>\n",
              "      <td>1</td>\n",
              "      <td>0</td>\n",
              "      <td>0</td>\n",
              "      <td>0</td>\n",
              "      <td>0</td>\n",
              "      <td>0</td>\n",
              "      <td>0</td>\n",
              "      <td>0</td>\n",
              "      <td>1</td>\n",
              "      <td>0</td>\n",
              "      <td>0</td>\n",
              "      <td>0</td>\n",
              "      <td>0</td>\n",
              "      <td>0</td>\n",
              "      <td>0</td>\n",
              "      <td>0</td>\n",
              "      <td>1</td>\n",
              "      <td>0</td>\n",
              "      <td>0</td>\n",
              "      <td>0</td>\n",
              "      <td>0</td>\n",
              "      <td>0</td>\n",
              "      <td>5.0</td>\n",
              "      <td>2</td>\n",
              "      <td>3</td>\n",
              "      <td>1317.0</td>\n",
              "      <td>36.0</td>\n",
              "    </tr>\n",
              "  </tbody>\n",
              "</table>\n",
              "</div>\n",
              "      <button class=\"colab-df-convert\" onclick=\"convertToInteractive('df-02708513-db2d-4416-9532-4bf8cd65fcc0')\"\n",
              "              title=\"Convert this dataframe to an interactive table.\"\n",
              "              style=\"display:none;\">\n",
              "        \n",
              "  <svg xmlns=\"http://www.w3.org/2000/svg\" height=\"24px\"viewBox=\"0 0 24 24\"\n",
              "       width=\"24px\">\n",
              "    <path d=\"M0 0h24v24H0V0z\" fill=\"none\"/>\n",
              "    <path d=\"M18.56 5.44l.94 2.06.94-2.06 2.06-.94-2.06-.94-.94-2.06-.94 2.06-2.06.94zm-11 1L8.5 8.5l.94-2.06 2.06-.94-2.06-.94L8.5 2.5l-.94 2.06-2.06.94zm10 10l.94 2.06.94-2.06 2.06-.94-2.06-.94-.94-2.06-.94 2.06-2.06.94z\"/><path d=\"M17.41 7.96l-1.37-1.37c-.4-.4-.92-.59-1.43-.59-.52 0-1.04.2-1.43.59L10.3 9.45l-7.72 7.72c-.78.78-.78 2.05 0 2.83L4 21.41c.39.39.9.59 1.41.59.51 0 1.02-.2 1.41-.59l7.78-7.78 2.81-2.81c.8-.78.8-2.07 0-2.86zM5.41 20L4 18.59l7.72-7.72 1.47 1.35L5.41 20z\"/>\n",
              "  </svg>\n",
              "      </button>\n",
              "      \n",
              "  <style>\n",
              "    .colab-df-container {\n",
              "      display:flex;\n",
              "      flex-wrap:wrap;\n",
              "      gap: 12px;\n",
              "    }\n",
              "\n",
              "    .colab-df-convert {\n",
              "      background-color: #E8F0FE;\n",
              "      border: none;\n",
              "      border-radius: 50%;\n",
              "      cursor: pointer;\n",
              "      display: none;\n",
              "      fill: #1967D2;\n",
              "      height: 32px;\n",
              "      padding: 0 0 0 0;\n",
              "      width: 32px;\n",
              "    }\n",
              "\n",
              "    .colab-df-convert:hover {\n",
              "      background-color: #E2EBFA;\n",
              "      box-shadow: 0px 1px 2px rgba(60, 64, 67, 0.3), 0px 1px 3px 1px rgba(60, 64, 67, 0.15);\n",
              "      fill: #174EA6;\n",
              "    }\n",
              "\n",
              "    [theme=dark] .colab-df-convert {\n",
              "      background-color: #3B4455;\n",
              "      fill: #D2E3FC;\n",
              "    }\n",
              "\n",
              "    [theme=dark] .colab-df-convert:hover {\n",
              "      background-color: #434B5C;\n",
              "      box-shadow: 0px 1px 3px 1px rgba(0, 0, 0, 0.15);\n",
              "      filter: drop-shadow(0px 1px 2px rgba(0, 0, 0, 0.3));\n",
              "      fill: #FFFFFF;\n",
              "    }\n",
              "  </style>\n",
              "\n",
              "      <script>\n",
              "        const buttonEl =\n",
              "          document.querySelector('#df-02708513-db2d-4416-9532-4bf8cd65fcc0 button.colab-df-convert');\n",
              "        buttonEl.style.display =\n",
              "          google.colab.kernel.accessAllowed ? 'block' : 'none';\n",
              "\n",
              "        async function convertToInteractive(key) {\n",
              "          const element = document.querySelector('#df-02708513-db2d-4416-9532-4bf8cd65fcc0');\n",
              "          const dataTable =\n",
              "            await google.colab.kernel.invokeFunction('convertToInteractive',\n",
              "                                                     [key], {});\n",
              "          if (!dataTable) return;\n",
              "\n",
              "          const docLinkHtml = 'Like what you see? Visit the ' +\n",
              "            '<a target=\"_blank\" href=https://colab.research.google.com/notebooks/data_table.ipynb>data table notebook</a>'\n",
              "            + ' to learn more about interactive tables.';\n",
              "          element.innerHTML = '';\n",
              "          dataTable['output_type'] = 'display_data';\n",
              "          await google.colab.output.renderOutput(dataTable, element);\n",
              "          const docLink = document.createElement('div');\n",
              "          docLink.innerHTML = docLinkHtml;\n",
              "          element.appendChild(docLink);\n",
              "        }\n",
              "      </script>\n",
              "    </div>\n",
              "  </div>\n",
              "  "
            ],
            "text/plain": [
              "   reject_ind  LASTMILE_DISTANCE  ...  ASSIGNMENT_TIME  PING_TO_START\n",
              "0           0              320.9  ...           1802.0           50.0\n",
              "1           0              370.4  ...           1087.0            5.0\n",
              "2           0              408.2  ...           1558.0           48.0\n",
              "3           0              389.6  ...           2996.0           13.0\n",
              "4           0              392.3  ...           1317.0           36.0\n",
              "\n",
              "[5 rows x 40 columns]"
            ]
          },
          "metadata": {},
          "execution_count": 244
        }
      ]
    },
    {
      "cell_type": "code",
      "source": [
        "df_1.columns"
      ],
      "metadata": {
        "colab": {
          "base_uri": "https://localhost:8080/"
        },
        "id": "1u4_orOUwxgj",
        "outputId": "0ccc2a0c-7d80-4aa8-93b1-ac9ddcb6f20f"
      },
      "execution_count": 245,
      "outputs": [
        {
          "output_type": "execute_result",
          "data": {
            "text/plain": [
              "Index(['reject_ind', 'LASTMILE_DISTANCE', 'FIRSTMILE_DISTANCE',\n",
              "       'PAYOUT_MADE_TO_DE', 'NUM_PING_COUNT_LAST10MIN', 'CUSTOMER_LAT',\n",
              "       'CUSTOMER_LNG', 'DE_HOME_LAT', 'DE_HOME_LNG', 'reject_type_Type-4',\n",
              "       'reject_type_Type-1', 'reject_type_Type-2', 'reject_type_Type-3',\n",
              "       'DE_ZONE_ID_1', 'DE_ZONE_ID_2', 'DE_ZONE_ID_3', 'DE_ZONE_ID_4',\n",
              "       'DE_ZONE_ID_5', 'DE_ZONE_ID_6', 'DE_ZONE_ID_7', 'DE_ZONE_ID_8',\n",
              "       'CUSTOMER_ZONE_1', 'CUSTOMER_ZONE_2', 'CUSTOMER_ZONE_3',\n",
              "       'CUSTOMER_ZONE_4', 'CUSTOMER_ZONE_5', 'CUSTOMER_ZONE_6',\n",
              "       'CUSTOMER_ZONE_7', 'CUSTOMER_ZONE_8', 'SHIFT_END_TIME_1',\n",
              "       'SHIFT_END_TIME_2', 'SHIFT_END_TIME_3', 'SHIFT_END_TIME_4',\n",
              "       'SHIFT_END_TIME_5', 'SHIFT_END_TIME_6', 'DE_ID_BINNED', 'MONTH', 'DAY',\n",
              "       'ASSIGNMENT_TIME', 'PING_TO_START'],\n",
              "      dtype='object')"
            ]
          },
          "metadata": {},
          "execution_count": 245
        }
      ]
    },
    {
      "cell_type": "code",
      "source": [
        ""
      ],
      "metadata": {
        "id": "Ud-Kd226yucy"
      },
      "execution_count": 245,
      "outputs": []
    },
    {
      "cell_type": "code",
      "source": [
        "df_1.to_csv('final_data.csv')"
      ],
      "metadata": {
        "id": "z8_m7Zi3yu9k"
      },
      "execution_count": 249,
      "outputs": []
    },
    {
      "cell_type": "code",
      "source": [
        ""
      ],
      "metadata": {
        "id": "FK1l0WstzODH"
      },
      "execution_count": null,
      "outputs": []
    },
    {
      "cell_type": "code",
      "source": [
        ""
      ],
      "metadata": {
        "id": "osQoMNGCAUid"
      },
      "execution_count": null,
      "outputs": []
    },
    {
      "cell_type": "code",
      "source": [
        ""
      ],
      "metadata": {
        "id": "eTF9w1-HAUcM"
      },
      "execution_count": null,
      "outputs": []
    },
    {
      "cell_type": "markdown",
      "source": [
        "#PART 2 OF THE CASE STUDY"
      ],
      "metadata": {
        "id": "rRiAsJU3Bv7b"
      }
    },
    {
      "cell_type": "code",
      "source": [
        "data_stock = pd.read_csv('./final_data.csv')\n",
        "data_stock.drop(columns = ['Unnamed: 0'],inplace = True)\n",
        "X_COLS = ('LASTMILE_DISTANCE', 'FIRSTMILE_DISTANCE',\n",
        "       'PAYOUT_MADE_TO_DE', 'NUM_PING_COUNT_LAST10MIN', 'CUSTOMER_LAT',\n",
        "       'CUSTOMER_LNG', 'DE_HOME_LAT', 'DE_HOME_LNG',\n",
        "       'DE_ZONE_ID_1', 'DE_ZONE_ID_2', 'DE_ZONE_ID_3', 'DE_ZONE_ID_4',\n",
        "       'DE_ZONE_ID_5', 'DE_ZONE_ID_6', 'DE_ZONE_ID_7', 'DE_ZONE_ID_8',\n",
        "       'CUSTOMER_ZONE_1', 'CUSTOMER_ZONE_2', 'CUSTOMER_ZONE_3',\n",
        "       'CUSTOMER_ZONE_4', 'CUSTOMER_ZONE_5', 'CUSTOMER_ZONE_6',\n",
        "       'CUSTOMER_ZONE_7', 'CUSTOMER_ZONE_8', 'SHIFT_END_TIME_1',\n",
        "       'SHIFT_END_TIME_2', 'SHIFT_END_TIME_3', 'SHIFT_END_TIME_4',\n",
        "       'SHIFT_END_TIME_5', 'SHIFT_END_TIME_6', 'DE_ID_BINNED', 'MONTH', 'DAY',\n",
        "       'ASSIGNMENT_TIME', 'PING_TO_START')\n",
        "Y_COLS = ('reject_ind', 'reject_type_Type-4',\n",
        "       'reject_type_Type-1', 'reject_type_Type-2', 'reject_type_Type-3')\n",
        "data = data_stock.copy(deep = True)\n",
        "X_DATA = data.loc[:,X_COLS]\n",
        "Y_DATA = data.loc[:,Y_COLS]\n",
        "\n",
        "# X_data = data_stock()\n",
        "Y_DATA.head()"
      ],
      "metadata": {
        "colab": {
          "base_uri": "https://localhost:8080/",
          "height": 206
        },
        "id": "howBEM4DAUUl",
        "outputId": "2a3a8aff-f822-45e0-a287-ac231f420447"
      },
      "execution_count": 6,
      "outputs": [
        {
          "output_type": "execute_result",
          "data": {
            "text/html": [
              "\n",
              "  <div id=\"df-7bc64822-bb26-4d7f-8463-df333586b5e0\">\n",
              "    <div class=\"colab-df-container\">\n",
              "      <div>\n",
              "<style scoped>\n",
              "    .dataframe tbody tr th:only-of-type {\n",
              "        vertical-align: middle;\n",
              "    }\n",
              "\n",
              "    .dataframe tbody tr th {\n",
              "        vertical-align: top;\n",
              "    }\n",
              "\n",
              "    .dataframe thead th {\n",
              "        text-align: right;\n",
              "    }\n",
              "</style>\n",
              "<table border=\"1\" class=\"dataframe\">\n",
              "  <thead>\n",
              "    <tr style=\"text-align: right;\">\n",
              "      <th></th>\n",
              "      <th>reject_ind</th>\n",
              "      <th>reject_type_Type-4</th>\n",
              "      <th>reject_type_Type-1</th>\n",
              "      <th>reject_type_Type-2</th>\n",
              "      <th>reject_type_Type-3</th>\n",
              "    </tr>\n",
              "  </thead>\n",
              "  <tbody>\n",
              "    <tr>\n",
              "      <th>0</th>\n",
              "      <td>0</td>\n",
              "      <td>0</td>\n",
              "      <td>0</td>\n",
              "      <td>0</td>\n",
              "      <td>0</td>\n",
              "    </tr>\n",
              "    <tr>\n",
              "      <th>1</th>\n",
              "      <td>0</td>\n",
              "      <td>0</td>\n",
              "      <td>0</td>\n",
              "      <td>0</td>\n",
              "      <td>0</td>\n",
              "    </tr>\n",
              "    <tr>\n",
              "      <th>2</th>\n",
              "      <td>0</td>\n",
              "      <td>0</td>\n",
              "      <td>0</td>\n",
              "      <td>0</td>\n",
              "      <td>0</td>\n",
              "    </tr>\n",
              "    <tr>\n",
              "      <th>3</th>\n",
              "      <td>0</td>\n",
              "      <td>0</td>\n",
              "      <td>0</td>\n",
              "      <td>0</td>\n",
              "      <td>0</td>\n",
              "    </tr>\n",
              "    <tr>\n",
              "      <th>4</th>\n",
              "      <td>0</td>\n",
              "      <td>0</td>\n",
              "      <td>0</td>\n",
              "      <td>0</td>\n",
              "      <td>0</td>\n",
              "    </tr>\n",
              "  </tbody>\n",
              "</table>\n",
              "</div>\n",
              "      <button class=\"colab-df-convert\" onclick=\"convertToInteractive('df-7bc64822-bb26-4d7f-8463-df333586b5e0')\"\n",
              "              title=\"Convert this dataframe to an interactive table.\"\n",
              "              style=\"display:none;\">\n",
              "        \n",
              "  <svg xmlns=\"http://www.w3.org/2000/svg\" height=\"24px\"viewBox=\"0 0 24 24\"\n",
              "       width=\"24px\">\n",
              "    <path d=\"M0 0h24v24H0V0z\" fill=\"none\"/>\n",
              "    <path d=\"M18.56 5.44l.94 2.06.94-2.06 2.06-.94-2.06-.94-.94-2.06-.94 2.06-2.06.94zm-11 1L8.5 8.5l.94-2.06 2.06-.94-2.06-.94L8.5 2.5l-.94 2.06-2.06.94zm10 10l.94 2.06.94-2.06 2.06-.94-2.06-.94-.94-2.06-.94 2.06-2.06.94z\"/><path d=\"M17.41 7.96l-1.37-1.37c-.4-.4-.92-.59-1.43-.59-.52 0-1.04.2-1.43.59L10.3 9.45l-7.72 7.72c-.78.78-.78 2.05 0 2.83L4 21.41c.39.39.9.59 1.41.59.51 0 1.02-.2 1.41-.59l7.78-7.78 2.81-2.81c.8-.78.8-2.07 0-2.86zM5.41 20L4 18.59l7.72-7.72 1.47 1.35L5.41 20z\"/>\n",
              "  </svg>\n",
              "      </button>\n",
              "      \n",
              "  <style>\n",
              "    .colab-df-container {\n",
              "      display:flex;\n",
              "      flex-wrap:wrap;\n",
              "      gap: 12px;\n",
              "    }\n",
              "\n",
              "    .colab-df-convert {\n",
              "      background-color: #E8F0FE;\n",
              "      border: none;\n",
              "      border-radius: 50%;\n",
              "      cursor: pointer;\n",
              "      display: none;\n",
              "      fill: #1967D2;\n",
              "      height: 32px;\n",
              "      padding: 0 0 0 0;\n",
              "      width: 32px;\n",
              "    }\n",
              "\n",
              "    .colab-df-convert:hover {\n",
              "      background-color: #E2EBFA;\n",
              "      box-shadow: 0px 1px 2px rgba(60, 64, 67, 0.3), 0px 1px 3px 1px rgba(60, 64, 67, 0.15);\n",
              "      fill: #174EA6;\n",
              "    }\n",
              "\n",
              "    [theme=dark] .colab-df-convert {\n",
              "      background-color: #3B4455;\n",
              "      fill: #D2E3FC;\n",
              "    }\n",
              "\n",
              "    [theme=dark] .colab-df-convert:hover {\n",
              "      background-color: #434B5C;\n",
              "      box-shadow: 0px 1px 3px 1px rgba(0, 0, 0, 0.15);\n",
              "      filter: drop-shadow(0px 1px 2px rgba(0, 0, 0, 0.3));\n",
              "      fill: #FFFFFF;\n",
              "    }\n",
              "  </style>\n",
              "\n",
              "      <script>\n",
              "        const buttonEl =\n",
              "          document.querySelector('#df-7bc64822-bb26-4d7f-8463-df333586b5e0 button.colab-df-convert');\n",
              "        buttonEl.style.display =\n",
              "          google.colab.kernel.accessAllowed ? 'block' : 'none';\n",
              "\n",
              "        async function convertToInteractive(key) {\n",
              "          const element = document.querySelector('#df-7bc64822-bb26-4d7f-8463-df333586b5e0');\n",
              "          const dataTable =\n",
              "            await google.colab.kernel.invokeFunction('convertToInteractive',\n",
              "                                                     [key], {});\n",
              "          if (!dataTable) return;\n",
              "\n",
              "          const docLinkHtml = 'Like what you see? Visit the ' +\n",
              "            '<a target=\"_blank\" href=https://colab.research.google.com/notebooks/data_table.ipynb>data table notebook</a>'\n",
              "            + ' to learn more about interactive tables.';\n",
              "          element.innerHTML = '';\n",
              "          dataTable['output_type'] = 'display_data';\n",
              "          await google.colab.output.renderOutput(dataTable, element);\n",
              "          const docLink = document.createElement('div');\n",
              "          docLink.innerHTML = docLinkHtml;\n",
              "          element.appendChild(docLink);\n",
              "        }\n",
              "      </script>\n",
              "    </div>\n",
              "  </div>\n",
              "  "
            ],
            "text/plain": [
              "   reject_ind  reject_type_Type-4  ...  reject_type_Type-2  reject_type_Type-3\n",
              "0           0                   0  ...                   0                   0\n",
              "1           0                   0  ...                   0                   0\n",
              "2           0                   0  ...                   0                   0\n",
              "3           0                   0  ...                   0                   0\n",
              "4           0                   0  ...                   0                   0\n",
              "\n",
              "[5 rows x 5 columns]"
            ]
          },
          "metadata": {},
          "execution_count": 6
        }
      ]
    },
    {
      "cell_type": "code",
      "source": [
        ""
      ],
      "metadata": {
        "id": "QUXg4Kp1AcXJ"
      },
      "execution_count": 6,
      "outputs": []
    },
    {
      "cell_type": "markdown",
      "source": [
        "#SCALING DATA"
      ],
      "metadata": {
        "id": "nUDm2sMLBX8n"
      }
    },
    {
      "cell_type": "code",
      "source": [
        "scaler_object = RobustScaler().fit(X_DATA)\n",
        "scaled_data_X = scaler_object.transform(X_DATA)"
      ],
      "metadata": {
        "id": "7Uif9YwLAc8x"
      },
      "execution_count": 7,
      "outputs": []
    },
    {
      "cell_type": "code",
      "source": [
        ""
      ],
      "metadata": {
        "id": "aU82sze5Ad3R"
      },
      "execution_count": 7,
      "outputs": []
    },
    {
      "cell_type": "code",
      "source": [
        ""
      ],
      "metadata": {
        "id": "5JaCbJxIAdnA"
      },
      "execution_count": 7,
      "outputs": []
    },
    {
      "cell_type": "markdown",
      "source": [
        "#TRAIN TEST SPLIT"
      ],
      "metadata": {
        "id": "Cxq_BaQeBakQ"
      }
    },
    {
      "cell_type": "code",
      "source": [
        "X_train, X_test, y_train, y_test = train_test_split(scaled_data_X, Y_DATA, test_size=0.3, random_state=42, stratify = Y_DATA.reject_ind)"
      ],
      "metadata": {
        "id": "tF89ZRn42zxT"
      },
      "execution_count": 8,
      "outputs": []
    },
    {
      "cell_type": "code",
      "source": [
        "y_train.reject_ind.value_counts()"
      ],
      "metadata": {
        "colab": {
          "base_uri": "https://localhost:8080/"
        },
        "id": "agg5NnOiAm5Y",
        "outputId": "d43fa265-0c9a-48db-e3ec-c7d48f28e5fb"
      },
      "execution_count": 9,
      "outputs": [
        {
          "output_type": "execute_result",
          "data": {
            "text/plain": [
              "0    87039\n",
              "1     5634\n",
              "Name: reject_ind, dtype: int64"
            ]
          },
          "metadata": {},
          "execution_count": 9
        }
      ]
    },
    {
      "cell_type": "code",
      "source": [
        "y_train = y_train.to_numpy()\n",
        "y_test = y_test.to_numpy()"
      ],
      "metadata": {
        "id": "FuZqZFPFAnrD"
      },
      "execution_count": 10,
      "outputs": []
    },
    {
      "cell_type": "code",
      "source": [
        ""
      ],
      "metadata": {
        "id": "QmM-tv1ZAnlc"
      },
      "execution_count": 10,
      "outputs": []
    },
    {
      "cell_type": "markdown",
      "source": [
        "#SVM CLASSIFIER"
      ],
      "metadata": {
        "id": "_DPyo88yBh7J"
      }
    },
    {
      "cell_type": "code",
      "source": [
        "classifier = SVC()\n",
        "classifier.fit(X_train, y_train[:,[0]])\n",
        "y_pred = classifier.predict(X_test)\n",
        "print(\"Accuracy Score: \",accuracy_score(y_test[:,[0]], y_pred))\n",
        "print(\"F1_Score: \", f1_score(y_test[:,[0]], y_pred))"
      ],
      "metadata": {
        "colab": {
          "base_uri": "https://localhost:8080/"
        },
        "id": "DSnjFs-MAnYH",
        "outputId": "1cb515a4-c8d4-4fec-9c1a-c5544967835c"
      },
      "execution_count": 12,
      "outputs": [
        {
          "output_type": "stream",
          "name": "stderr",
          "text": [
            "/usr/local/lib/python3.7/dist-packages/sklearn/utils/validation.py:993: DataConversionWarning: A column-vector y was passed when a 1d array was expected. Please change the shape of y to (n_samples, ), for example using ravel().\n",
            "  y = column_or_1d(y, warn=True)\n"
          ]
        },
        {
          "output_type": "stream",
          "name": "stdout",
          "text": [
            "Accuracy Score:  0.9998237574903066\n",
            "F1_Score:  0.9985492227979275\n"
          ]
        }
      ]
    },
    {
      "cell_type": "code",
      "source": [
        ""
      ],
      "metadata": {
        "id": "DH7tyDm0Ax5E"
      },
      "execution_count": null,
      "outputs": []
    },
    {
      "cell_type": "code",
      "source": [
        ""
      ],
      "metadata": {
        "id": "QZ1RpTD8BVJN"
      },
      "execution_count": null,
      "outputs": []
    },
    {
      "cell_type": "code",
      "source": [
        ""
      ],
      "metadata": {
        "id": "v8soUFO1BVBC"
      },
      "execution_count": null,
      "outputs": []
    },
    {
      "cell_type": "markdown",
      "source": [
        "####What went Missing\n",
        "* Class imbalance (biased ratio of rejected to accepted cases): Could have been rectified by using smote oversampling.\n",
        "* Geolocation data could have been categorized using K-Means clustering.\n",
        "* Some more Visual Data Analysis could have been done.\n",
        "* A more robust method to deal with outliers. Removing outliers directly, causes deletion of most of the rejected orders from the dataset.\n",
        "* More observations can be derived from the Geolocation data columns.\n",
        "\n",
        "\n",
        "\n",
        "\n",
        "Because of lack of time due to my end-semester examinations going on right now, I tried to clean the data, derive observations and generate new features based on those observations as well as I could, given the limited time and tight submission deadline. "
      ],
      "metadata": {
        "id": "fXkzrhG2CzOZ"
      }
    },
    {
      "cell_type": "code",
      "source": [
        ""
      ],
      "metadata": {
        "id": "ANV7LIZuBUv9"
      },
      "execution_count": null,
      "outputs": []
    },
    {
      "cell_type": "markdown",
      "source": [
        "#PART 3 OF THE CASE STUDY"
      ],
      "metadata": {
        "id": "qEJPA2JlBldS"
      }
    },
    {
      "cell_type": "code",
      "source": [
        ""
      ],
      "metadata": {
        "id": "kCbj5EDaB2Kq"
      },
      "execution_count": null,
      "outputs": []
    },
    {
      "cell_type": "markdown",
      "source": [
        "##Challenges that might arise \n",
        "* This model is to be used to determine whether a delivery executive will reject a delivery assignment or not.\n",
        "* As is was mentioned in the workflow that for every assignment every one of the DEs is evaluated, and the order if finally assigned to one of these DEs.\n",
        "* The SVM classifier can be useful here. While evaluating the DEs, the likeliness of the DE rejecting the assignment can be evaluated using the SVM and avoid assigning in case of high likeliness.\n",
        "* One of the challenges faced during the production can be that the live update of data. \n",
        "* Once the dataset is updated every fixed time interval, new data is being added continuously.\n",
        "* F1_score gives equal weight to precision and recall, but during deployment We might sometimes need to include domain knowledge in our evaluation where we want to have more recall or more precision.  "
      ],
      "metadata": {
        "id": "RysqwI5fB3Hm"
      }
    },
    {
      "cell_type": "code",
      "source": [
        ""
      ],
      "metadata": {
        "id": "r2ftIe1BHLIl"
      },
      "execution_count": null,
      "outputs": []
    }
  ]
}